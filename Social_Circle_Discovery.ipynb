{
  "nbformat": 4,
  "nbformat_minor": 0,
  "metadata": {
    "kernelspec": {
      "display_name": "Python 3",
      "language": "python",
      "name": "python3"
    },
    "language_info": {
      "codemirror_mode": {
        "name": "ipython",
        "version": 3
      },
      "file_extension": ".py",
      "mimetype": "text/x-python",
      "name": "python",
      "nbconvert_exporter": "python",
      "pygments_lexer": "ipython3",
      "version": "3.7.4"
    },
    "colab": {
      "name": "Social-Circle-Discovery.ipynb",
      "provenance": [],
      "collapsed_sections": [],
      "include_colab_link": true
    }
  },
  "cells": [
    {
      "cell_type": "markdown",
      "metadata": {
        "id": "view-in-github",
        "colab_type": "text"
      },
      "source": [
        "<a href=\"https://colab.research.google.com/github/MissTiny/Graph_Mining_Node_Edge_K-Mean_Clustering/blob/main/Social_Circle_Discovery.ipynb\" target=\"_parent\"><img src=\"https://colab.research.google.com/assets/colab-badge.svg\" alt=\"Open In Colab\"/></a>"
      ]
    },
    {
      "cell_type": "markdown",
      "metadata": {
        "id": "LX5A6EBcHWeE"
      },
      "source": [
        "Installing libraries"
      ]
    },
    {
      "cell_type": "code",
      "metadata": {
        "id": "F_1QF73qHWeG"
      },
      "source": [
        "pip install node2vec"
      ],
      "execution_count": null,
      "outputs": []
    },
    {
      "cell_type": "markdown",
      "metadata": {
        "id": "mHQnsIOsHWeM"
      },
      "source": [
        "Imports."
      ]
    },
    {
      "cell_type": "code",
      "metadata": {
        "id": "KBxBRTmQHWeN"
      },
      "source": [
        "import json\n",
        "import numpy as np\n",
        "import networkx as nx\n",
        "import requests\n",
        "from node2vec import Node2Vec"
      ],
      "execution_count": 3,
      "outputs": []
    },
    {
      "cell_type": "markdown",
      "metadata": {
        "id": "ZCPXcomPHWeS"
      },
      "source": [
        "Downloading and writing data into file."
      ]
    },
    {
      "cell_type": "code",
      "metadata": {
        "id": "cKLoGF9dHWeT"
      },
      "source": [
        "url = 'https://snap.stanford.edu/data/soc-sign-Slashdot090221.txt.gz'\n",
        "r = requests.get(url, allow_redirects=True)\n",
        "data_file = open('soc-sign-Slashdot090221.txt.gz', 'wb').write(r.content)"
      ],
      "execution_count": 4,
      "outputs": []
    },
    {
      "cell_type": "markdown",
      "metadata": {
        "id": "I96qRlFfHWeW"
      },
      "source": [
        "Reading signed network data into directed graph using networkx."
      ]
    },
    {
      "cell_type": "code",
      "metadata": {
        "id": "94aGZvm8HWeX"
      },
      "source": [
        "signed_network = nx.read_weighted_edgelist('soc-sign-Slashdot090221.txt.gz', comments='#', create_using=nx.DiGraph(), nodetype = int)"
      ],
      "execution_count": 5,
      "outputs": []
    },
    {
      "cell_type": "markdown",
      "metadata": {
        "id": "CUd50r84HWea"
      },
      "source": [
        "Updating weights (-1 to 1 and 1 to 2) as node2vec does not work on negative weights"
      ]
    },
    {
      "cell_type": "code",
      "metadata": {
        "id": "GZThCBQ8HWeb"
      },
      "source": [
        "for from_node,to_node, weight in signed_network.edges(data=True):\n",
        "    if weight['weight'] == -1:\n",
        "        weight['weight'] = 1\n",
        "    elif weight['weight'] == 1:\n",
        "        weight['weight'] = 2\n",
        "    print(from_node,to_node, weight)"
      ],
      "execution_count": null,
      "outputs": []
    },
    {
      "cell_type": "markdown",
      "metadata": {
        "id": "dB-FFWxONwVx"
      },
      "source": [
        "Generating node features using node2vec."
      ]
    },
    {
      "cell_type": "code",
      "metadata": {
        "id": "DV7PI5m0HWfB"
      },
      "source": [
        "EMBEDDING_FILENAME = \"embedded-soc-sign-slashdot\"\n",
        "\n",
        "# Precompute probabilities and generate walks\n",
        "node2vec = Node2Vec(signed_network, dimensions=100)\n",
        "# Embed nodes\n",
        "model = node2vec.fit()# Save embeddings for later use\n",
        "model.wv.save_word2vec_format(EMBEDDING_FILENAME)\n",
        "# Save model for later use\n",
        "EMBEDDING_MODEL_FILENAME = \"embedded-soc-sign-slashdot-model\"\n",
        "model.save(EMBEDDING_MODEL_FILENAME)\n",
        "\n",
        "# Embed edges using Hadamard method\n",
        "from node2vec.edges import HadamardEmbedder\n",
        "\n",
        "edges_embs = HadamardEmbedder(keyed_vectors=model.wv)\n",
        "\n",
        "# Save edge embeddings for later use\n",
        "EDGES_EMBEDDING_FILENAME = \"edges-embedded-soc-sign-slashdot\"\n",
        "# Get all edges in a separate KeyedVectors instance - use with caution could be huge for big networks\n",
        "edges_kv = edges_embs.as_keyed_vectors()\n",
        "edges_kv.save_word2vec_format(EDGES_EMBEDDING_FILENAME)"
      ],
      "execution_count": null,
      "outputs": []
    }
  ]
}