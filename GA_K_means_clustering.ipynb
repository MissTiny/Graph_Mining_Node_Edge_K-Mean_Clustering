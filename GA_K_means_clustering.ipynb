{
 "cells": [
  {
   "cell_type": "markdown",
   "metadata": {
    "colab_type": "text",
    "id": "view-in-github"
   },
   "source": [
    "<a href=\"https://colab.research.google.com/github/MissTiny/Graph_Mining_Node_Edge_K-Mean_Clustering/blob/main/GA_K_means_clustering.ipynb\" target=\"_parent\"><img src=\"https://colab.research.google.com/assets/colab-badge.svg\" alt=\"Open In Colab\"/></a>"
   ]
  },
  {
   "cell_type": "markdown",
   "metadata": {
    "id": "xZFU01QtJgiF"
   },
   "source": [
    "Imports."
   ]
  },
  {
   "cell_type": "code",
   "execution_count": 51,
   "metadata": {
    "id": "S7t5BhNIJkBq"
   },
   "outputs": [],
   "source": [
    "import json\n",
    "import numpy as np\n",
    "import pandas as pd\n",
    "import networkx as nx\n",
    "\n",
    "from sklearn.preprocessing import MinMaxScaler\n",
    "from sklearn.cluster import KMeans\n",
    "import matplotlib.pyplot as plt\n",
    "import random\n",
    "import math\n",
    "import copy\n",
    "from multiprocessing import Pool\n",
    "import import_ipynb\n",
    "from ipynb.fs.full.parallel_functions import parallel_insider_algorithm2_part2"
   ]
  },
  {
   "cell_type": "markdown",
   "metadata": {
    "id": "IeXu_OCuJn2U"
   },
   "source": [
    "Reading Signed network."
   ]
  },
  {
   "cell_type": "code",
   "execution_count": 2,
   "metadata": {
    "id": "1WuvUw0nJtSO"
   },
   "outputs": [],
   "source": [
    "signed_network = nx.read_weighted_edgelist('soc-sign-Slashdot090221.txt.gz', comments='#', create_using=nx.DiGraph(), nodetype = int)"
   ]
  },
  {
   "cell_type": "markdown",
   "metadata": {
    "id": "YbivohZaJywJ"
   },
   "source": [
    "Reading node features."
   ]
  },
  {
   "cell_type": "code",
   "execution_count": 3,
   "metadata": {
    "id": "mV5BVQQIJ4eV"
   },
   "outputs": [],
   "source": [
    "node_features ={}\n",
    "no_of_features = 100\n",
    "line_no = 0\n",
    "with open(\"embedded-soc-sign-slashdot\") as nf: \n",
    "    Lines = nf.readlines() \n",
    "    for line in Lines:\n",
    "        #skip first line\n",
    "        if line_no > 0:\n",
    "            # splitting by space\n",
    "            values = line.split()\n",
    "            values = values[:no_of_features+1]\n",
    "            index = 0\n",
    "            # reading node features\n",
    "            for val in values:\n",
    "                if index == 0:\n",
    "                    # reading nodeIds for first time\n",
    "                    if line_no == 1:\n",
    "                        node_features[\"nodeId\"] = [int(val)]\n",
    "                    else:\n",
    "                        node_features[\"nodeId\"].append(int(val))\n",
    "                \n",
    "                elif index > 0:\n",
    "                    # reading features for the first time\n",
    "                    if line_no == 1:\n",
    "                        node_features[\"feature\"+str(index)] = [float(val)]\n",
    "                    else:\n",
    "                        node_features[\"feature\"+str(index)].append(float(val))\n",
    "                index+=1\n",
    "        line_no += 1\n",
    "\n",
    "node_features_df = pd.DataFrame(node_features)"
   ]
  },
  {
   "cell_type": "markdown",
   "metadata": {
    "id": "fm--_XPqS770"
   },
   "source": [
    "Determining optimal number of clusters or number of active centers using elbow method."
   ]
  },
  {
   "cell_type": "code",
   "execution_count": 4,
   "metadata": {
    "colab": {
     "base_uri": "https://localhost:8080/",
     "height": 295
    },
    "id": "iMdq35C1S9Yg",
    "outputId": "40b52e37-77fb-4524-ecb7-ed1a9c8a0b4e"
   },
   "outputs": [
    {
     "data": {
      "image/png": "[encoded data removed]",
      "text/plain": [
       "<Figure size 432x288 with 1 Axes>"
      ]
     },
     "metadata": {
      "needs_background": "light",
      "tags": []
     },
     "output_type": "display_data"
    }
   ],
   "source": [
    "# To give equal importance to all features, we need to scale the continuous features. \n",
    "# We will be using scikit-learn’s MinMaxScaler as the feature matrix is a mix of binary and continuous features . \n",
    "mms = MinMaxScaler()\n",
    "mms.fit(node_features_df)\n",
    "node_features_df_transformed = mms.transform(node_features_df)\n",
    "\n",
    "Sum_of_squared_distances = []\n",
    "K = range(1,50)\n",
    "for k in K:\n",
    "    km = KMeans(n_clusters=k, n_jobs=-1)\n",
    "    km = km.fit(node_features_df_transformed)\n",
    "    Sum_of_squared_distances.append(km.inertia_)\n",
    "\n",
    "plt.plot(K, Sum_of_squared_distances, 'bx-')\n",
    "plt.xlabel('k')\n",
    "plt.ylabel('Sum_of_squared_distances')\n",
    "plt.title('Elbow Method For Optimal k')\n",
    "plt.show()"
   ]
  },
  {
   "cell_type": "markdown",
   "metadata": {
    "id": "CibcFtRIb9Vo"
   },
   "source": [
    "From above elbow plot, it looks like optimal value of K is 7."
   ]
  },
  {
   "cell_type": "code",
   "execution_count": 4,
   "metadata": {
    "id": "QlmbcUdAcLGT"
   },
   "outputs": [],
   "source": [
    "K = 7"
   ]
  },
  {
   "cell_type": "markdown",
   "metadata": {
    "id": "2LR3jpXdcP6v"
   },
   "source": [
    "Extracting k active centers."
   ]
  },
  {
   "cell_type": "code",
   "execution_count": 5,
   "metadata": {
    "id": "yVcxaZpPcSMG"
   },
   "outputs": [],
   "source": [
    "nodeIds = list(node_features_df[\"nodeId\"])"
   ]
  },
  {
   "cell_type": "markdown",
   "metadata": {
    "id": "taLI3zsWccD3"
   },
   "source": [
    "Calculating profile similarities"
   ]
  },
  {
   "cell_type": "code",
   "execution_count": 6,
   "metadata": {
    "id": "xocDkYZ5ceye"
   },
   "outputs": [],
   "source": [
    "# based on euclidean distance\n",
    "def profSimilarity(nodeId, active_center, active_centers):\n",
    "    \n",
    "    nodeId_index = nodeIds.index(nodeId)\n",
    "    ac_index = active_centers.index(active_center)\n",
    "    # setting to 1 to avoid division by zero error\n",
    "    sum = 1\n",
    "    for i in range(0, no_of_features):\n",
    "        \n",
    "        sq_diff = (node_features_df[\"feature\"+str(i+1)][nodeId_index] - node_features_df[\"feature\"+str(i+1)][ac_index])**2\n",
    "        sum += sq_diff\n",
    "\n",
    "    # returning inverse as high value means less similarity.\n",
    "    return 1/math.sqrt(sum)"
   ]
  },
  {
   "cell_type": "markdown",
   "metadata": {},
   "source": [
    "Calculating edge exists or not"
   ]
  },
  {
   "cell_type": "code",
   "execution_count": 7,
   "metadata": {
    "colab": {
     "base_uri": "https://localhost:8080/"
    },
    "id": "U4yRffOauroM",
    "outputId": "fd34d083-7291-4f6b-f54f-02054e61204d"
   },
   "outputs": [],
   "source": [
    "def edgeExists(nodeId, active_center):\n",
    "    if signed_network.has_edge(nodeId, active_center) or signed_network.has_edge(active_center, nodeId):\n",
    "        return 1\n",
    "    else:\n",
    "        return 0"
   ]
  },
  {
   "cell_type": "markdown",
   "metadata": {},
   "source": [
    "Calculating strength of Ties"
   ]
  },
  {
   "cell_type": "code",
   "execution_count": 8,
   "metadata": {
    "colab": {
     "base_uri": "https://localhost:8080/"
    },
    "id": "U4yRffOauroM",
    "outputId": "fd34d083-7291-4f6b-f54f-02054e61204d"
   },
   "outputs": [],
   "source": [
    "def strengthOfTies(nodeId, active_center):\n",
    "    sum = 0\n",
    "    for degree in list(dict(signed_network.degree([nodeId, active_center])).values()):\n",
    "        sum+=degree\n",
    "    sum -= 1\n",
    "    return 1/sum"
   ]
  },
  {
   "cell_type": "markdown",
   "metadata": {},
   "source": [
    "Calculating degree centrality"
   ]
  },
  {
   "cell_type": "code",
   "execution_count": 9,
   "metadata": {},
   "outputs": [],
   "source": [
    "def degreeCentrality(x,circle):\n",
    "    degree = 0\n",
    "    for c in circle:\n",
    "        if signed_network.has_edge(x, c) or signed_network.has_edge(c, x):\n",
    "            degree+=1\n",
    "    # error if len(circle) = 1\n",
    "    if len(circle) ==1:\n",
    "        deg_cen = degree\n",
    "    else:\n",
    "        deg_cen = degree/(len(circle)-1)\n",
    "    return deg_cen"
   ]
  },
  {
   "cell_type": "markdown",
   "metadata": {},
   "source": [
    "finding residual area"
   ]
  },
  {
   "cell_type": "code",
   "execution_count": 10,
   "metadata": {},
   "outputs": [],
   "source": [
    "def residualArea(x,circle):\n",
    "    residual = list(signed_network.neighbors(x))\n",
    "    for re in residual:\n",
    "        if re in circle:\n",
    "            residual.remove(re)\n",
    "    return residual\n",
    "        "
   ]
  },
  {
   "cell_type": "markdown",
   "metadata": {},
   "source": [
    "#### No need for the following cell, it is rewrited into algorithm 1 for further use\n",
    "Social Circle Generation using K-means.\n",
    "Removing active_centers."
   ]
  },
  {
   "cell_type": "raw",
   "metadata": {
    "colab": {
     "base_uri": "https://localhost:8080/"
    },
    "id": "U4yRffOauroM",
    "outputId": "fd34d083-7291-4f6b-f54f-02054e61204d"
   },
   "source": [
    "# initializing social circles\n",
    "\n",
    "social_circles = {}\n",
    "for i in range (0, K):\n",
    "    active_center = active_centers[i]\n",
    "    social_circles[str(active_center)] = []\n",
    "\n",
    "random.seed(0)\n",
    "active_centers = random.choices(nodeIds, k=K)\n",
    "# nodeIds Without active centers\n",
    "nodeIdsWAC = list(set(nodeIds) - set(active_centers))\n",
    "\n",
    "for nodeId in nodeIdsWAC:\n",
    "    maxS = 0\n",
    "    # active_center which will be most similar to given node\n",
    "    selectedAC = -1\n",
    "    for i in range (0, K):\n",
    "        active_center = active_centers[i]\n",
    "        p1 = 0\n",
    "        p2 = 0\n",
    "        p3 = 0\n",
    "        \n",
    "        p1 = edgeExists(nodeId, active_center)\n",
    "        \n",
    "        if p1 == 1:\n",
    "            p2 = profSimilarity(nodeId, active_center,active_centers)\n",
    "            p3 = strengthOfTies(nodeId, active_center)\n",
    "\n",
    "            if maxS < p2 + p3:\n",
    "                maxS = p2 + p3\n",
    "                selectedAC = active_center\n",
    "    \n",
    "    if selectedAC != -1:\n",
    "        social_circles[str(selectedAC)].append(nodeId)\n",
    "\n",
    "print(social_circles)"
   ]
  },
  {
   "cell_type": "markdown",
   "metadata": {},
   "source": [
    "## Algorithm 1"
   ]
  },
  {
   "cell_type": "code",
   "execution_count": 11,
   "metadata": {},
   "outputs": [],
   "source": [
    "def algorithm1(nodeIds,active_centers):\n",
    "    social_circles = {}\n",
    "    nodeIdsWAC = list(set(nodeIds) - set(active_centers))\n",
    "    for i in range (0, K):\n",
    "        active_center = active_centers[i]\n",
    "        social_circles[str(active_center)] = []\n",
    "    for nodeId in nodeIdsWAC:\n",
    "        maxS = 0\n",
    "        # active_center which will be most similar to given node\n",
    "        selectedAC = -1\n",
    "        for i in range (0, K):\n",
    "            active_center = active_centers[i]\n",
    "            p1 = 0\n",
    "            p2 = 0\n",
    "            p3 = 0\n",
    "\n",
    "            p1 = edgeExists(nodeId, active_center)\n",
    "\n",
    "            if p1 == 1:\n",
    "                p2 = profSimilarity(nodeId, active_center,active_centers)\n",
    "                p3 = strengthOfTies(nodeId, active_center)\n",
    "\n",
    "                if maxS < p2 + p3:\n",
    "                    maxS = p2 + p3\n",
    "                    selectedAC = active_center\n",
    "    \n",
    "        if selectedAC != -1:\n",
    "            social_circles[str(selectedAC)].append(nodeId)\n",
    "    return social_circles"
   ]
  },
  {
   "cell_type": "code",
   "execution_count": 12,
   "metadata": {
    "id": "Z-c4Ve-cuwLn"
   },
   "outputs": [],
   "source": [
    "#center selection\n",
    "##population size = 40\n",
    "N = 40\n",
    "population = []\n",
    "random.seed(0)"
   ]
  },
  {
   "cell_type": "code",
   "execution_count": 13,
   "metadata": {},
   "outputs": [],
   "source": [
    "for i in range(0,N):\n",
    "    selected = random.sample(nodeIds,K)\n",
    "    if selected not in population:\n",
    "        population.append(selected)\n"
   ]
  },
  {
   "cell_type": "code",
   "execution_count": 14,
   "metadata": {},
   "outputs": [],
   "source": [
    "#initialize n=1 and fitness = 0\n",
    "\n",
    "fitness=[]\n",
    "for n in range(0,N):\n",
    "    #pick up the ith row from X_ij and Cij\n",
    "    Xi = population[n]\n",
    "    Cij = algorithm1(nodeIds,Xi)\n",
    "    \n",
    "    obj=0\n",
    "    for k in range(0,K):\n",
    "        #initialize k=1 and obj=0\n",
    "        xi = Xi[k]\n",
    "        \n",
    "        residual =  residualArea(xi,Cij[str(xi)])\n",
    "        #deg_cen\n",
    "        deg_cen_C = degreeCentrality(xi,Cij[str(xi)])\n",
    "        deg_cen_R = degreeCentrality(xi,residual)\n",
    "        \n",
    "        #prof_sim\n",
    "        prof_sim_C = 0\n",
    "        for c in Cij[str(xi)]:\n",
    "            prof_sim_C+=profSimilarity(c, xi,Xi)\n",
    "        prof_sim_C = prof_sim_C/len(Cij)\n",
    "        \n",
    "        prof_sim_R = 0\n",
    "        for r in residual:\n",
    "            prof_sim_R+=profSimilarity(r, xi,Xi)\n",
    "        if len(residual) != 0:\n",
    "            prof_sim_R = prof_sim_R/len(residual)\n",
    "        \n",
    "        #str_C\n",
    "        str_C = 0\n",
    "        for c in Cij[str(xi)]:\n",
    "            str_C+= strengthOfTies(c, xi)\n",
    "        str_C = str_C/len(Cij)\n",
    "        \n",
    "        str_R = 0\n",
    "        for r in residual:\n",
    "            str_R+= strengthOfTies(r, xi)\n",
    "        if len(residual) != 0:\n",
    "             str_R = str_R/len(residual)\n",
    "       \n",
    "        \n",
    "        obj+=deg_cen_C - deg_cen_R + prof_sim_C - prof_sim_R + str_C - str_R\n",
    "    \n",
    "    fitness.append(obj/K)    \n",
    "        "
   ]
  },
  {
   "cell_type": "markdown",
   "metadata": {},
   "source": [
    "### Algorithm2_part1 takes one group of centers and return the fitness of it"
   ]
  },
  {
   "cell_type": "code",
   "execution_count": 15,
   "metadata": {},
   "outputs": [],
   "source": [
    "def algorithm2_part1(pop_n):\n",
    "    Xi = pop_n\n",
    "    Cij = algorithm1(nodeIds,Xi)\n",
    "    \n",
    "    obj=0\n",
    "    for k in range(0,K):\n",
    "        #initialize k=1 and obj=0\n",
    "        xi = Xi[k]\n",
    "        \n",
    "        residual =  residualArea(xi,Cij[str(xi)])\n",
    "        #deg_cen\n",
    "        deg_cen_C = degreeCentrality(xi,Cij[str(xi)])\n",
    "        deg_cen_R = degreeCentrality(xi,residual)\n",
    "        \n",
    "        #prof_sim\n",
    "        prof_sim_C = 0\n",
    "        for c in Cij[str(xi)]:\n",
    "            prof_sim_C+=profSimilarity(c, xi,Xi)\n",
    "        prof_sim_C = prof_sim_C/len(Cij)\n",
    "        \n",
    "        prof_sim_R = 0\n",
    "        for r in residual:\n",
    "            prof_sim_R+=profSimilarity(r, xi,Xi)\n",
    "        if len(residual) != 0:\n",
    "            prof_sim_R = prof_sim_R/len(residual)\n",
    "        \n",
    "        #str_C\n",
    "        str_C = 0\n",
    "        for c in Cij[str(xi)]:\n",
    "            str_C+= strengthOfTies(c, xi)\n",
    "        str_C = str_C/len(Cij)\n",
    "        \n",
    "        str_R = 0\n",
    "        for r in residual:\n",
    "            str_R+= strengthOfTies(r, xi)\n",
    "        if len(residual) != 0:\n",
    "             str_R = str_R/len(residual)\n",
    "       \n",
    "        \n",
    "        obj+=deg_cen_C - deg_cen_R + prof_sim_C - prof_sim_R + str_C - str_R\n",
    "    \n",
    "    \n",
    "    return obj/K"
   ]
  },
  {
   "cell_type": "markdown",
   "metadata": {},
   "source": [
    "#### Functions to check the format of generated Q offspring"
   ]
  },
  {
   "cell_type": "code",
   "execution_count": null,
   "metadata": {},
   "outputs": [],
   "source": [
    "def check(matrix):\n",
    "    for i in matrix:\n",
    "        if len(i)!=8:\n",
    "            print(\"error in row: \",i)"
   ]
  },
  {
   "cell_type": "markdown",
   "metadata": {},
   "source": [
    "## Main Function"
   ]
  },
  {
   "cell_type": "code",
   "execution_count": 56,
   "metadata": {},
   "outputs": [],
   "source": [
    "# Part two\n",
    "##Augmented matrix Q\n",
    "Q=[]\n",
    "for i in range(0,len(fitness)):\n",
    "    Qi = population[i].copy()\n",
    "    Qi.append(fitness[i])\n",
    "    Q.append(Qi)"
   ]
  },
  {
   "cell_type": "code",
   "execution_count": 57,
   "metadata": {},
   "outputs": [],
   "source": [
    "# re-sort in descending order\n",
    "Q_desc= sorted(Q,key=lambda x:x[K],reverse=True)"
   ]
  },
  {
   "cell_type": "code",
   "execution_count": 61,
   "metadata": {
    "scrolled": true
   },
   "outputs": [
    {
     "name": "stdout",
     "output_type": "stream",
     "text": [
      "0\n",
      "This is x_new_fit: 1.608961333508748 This is Q_desc[i][-1] 1.6734156360667374\n",
      "1\n",
      "This is x_new_fit: 1.6704605351662618 This is Q_desc[i][-1] 1.635372799029864\n",
      "2\n",
      "This is x_new_fit: 1.5029675726429201 This is Q_desc[i][-1] 1.5458311390612285\n",
      "3\n",
      "This is x_new_fit: 1.2160712590662652 This is Q_desc[i][-1] 1.5304781609188203\n",
      "4\n",
      "This is x_new_fit: 1.3677757401013284 This is Q_desc[i][-1] 1.4896035711818476\n",
      "5\n",
      "This is x_new_fit: 1.7861048471530065 This is Q_desc[i][-1] 1.4813427416936555\n",
      "6\n",
      "This is x_new_fit: 1.2115853168501334 This is Q_desc[i][-1] 1.4705026026214862\n",
      "7\n",
      "This is x_new_fit: 1.4768788451382193 This is Q_desc[i][-1] 1.4593838595009974\n",
      "8\n",
      "This is x_new_fit: 1.6278813397775214 This is Q_desc[i][-1] 1.4431594996913832\n",
      "9\n",
      "This is x_new_fit: 1.4089246354101737 This is Q_desc[i][-1] 1.4347462440655876\n",
      "10\n",
      "This is x_new_fit: 1.4701655261381912 This is Q_desc[i][-1] 1.4015185607463898\n",
      "11\n",
      "This is x_new_fit: 1.637737598608153 This is Q_desc[i][-1] 1.3866291598771283\n",
      "12\n",
      "This is x_new_fit: 1.587406423024443 This is Q_desc[i][-1] 1.3863987399649207\n",
      "13\n",
      "This is x_new_fit: 1.366848867169773 This is Q_desc[i][-1] 1.3862089290185433\n",
      "14\n",
      "This is x_new_fit: 1.5263659796451192 This is Q_desc[i][-1] 1.3859234401442986\n",
      "15\n",
      "This is x_new_fit: 1.340342732331029 This is Q_desc[i][-1] 1.3709957351388884\n",
      "16\n",
      "This is x_new_fit: 1.5640110390383393 This is Q_desc[i][-1] 1.3707079871441041\n",
      "17\n",
      "This is x_new_fit: 1.3817616376387847 This is Q_desc[i][-1] 1.3468596277358547\n",
      "18\n",
      "This is x_new_fit: 1.6325993992277947 This is Q_desc[i][-1] 1.3336038953967473\n",
      "19\n",
      "This is x_new_fit: 1.486809364177949 This is Q_desc[i][-1] 1.3229661515732212\n",
      "20\n",
      "This is x_new_fit: 1.8243337537242035 This is Q_desc[i][-1] 1.3056243193137238\n",
      "21\n",
      "This is x_new_fit: 1.5235324341937786 This is Q_desc[i][-1] 1.304613905496254\n",
      "22\n",
      "This is x_new_fit: 1.7109196597922942 This is Q_desc[i][-1] 1.292015336493998\n",
      "23\n",
      "This is x_new_fit: 1.4126297698649377 This is Q_desc[i][-1] 1.2917796182410608\n",
      "24\n",
      "This is x_new_fit: 1.381387474493372 This is Q_desc[i][-1] 1.2914777880231971\n",
      "25\n",
      "This is x_new_fit: 1.442783991307887 This is Q_desc[i][-1] 1.2409063812593275\n",
      "26\n",
      "This is x_new_fit: 1.3716654401336785 This is Q_desc[i][-1] 1.2320307927464602\n",
      "27\n",
      "This is x_new_fit: 1.4161078007357337 This is Q_desc[i][-1] 1.2265465672464895\n",
      "28\n",
      "This is x_new_fit: 1.4577880750088155 This is Q_desc[i][-1] 1.220763725401041\n",
      "29\n",
      "This is x_new_fit: 1.3455178786364843 This is Q_desc[i][-1] 1.2140487871130694\n",
      "30\n",
      "This is x_new_fit: 1.5440713763672964 This is Q_desc[i][-1] 1.1326316675548118\n",
      "31\n",
      "This is x_new_fit: 1.5830512641109742 This is Q_desc[i][-1] 1.1277973639703007\n",
      "32\n",
      "This is x_new_fit: 1.4646744134918426 This is Q_desc[i][-1] 1.1026703578130832\n",
      "33\n",
      "This is x_new_fit: 1.4152087608244095 This is Q_desc[i][-1] 1.099558476403403\n",
      "34\n",
      "This is x_new_fit: 1.6107814622566246 This is Q_desc[i][-1] 1.0769003182711028\n",
      "35\n",
      "This is x_new_fit: 1.4931377823449132 This is Q_desc[i][-1] 1.0692418141690294\n",
      "36\n",
      "This is x_new_fit: 1.5291694569024574 This is Q_desc[i][-1] 1.053809038775038\n",
      "37\n",
      "This is x_new_fit: 1.7210687061882208 This is Q_desc[i][-1] 0.9953870763189583\n",
      "38\n",
      "This is x_new_fit: 1.661715785382802 This is Q_desc[i][-1] 0.9579141735190596\n",
      "39\n",
      "This is x_new_fit: 1.5475498340234122 This is Q_desc[i][-1] 0.9344505692691628\n",
      "[[14228, 12974, 8164, 45894, 38455, 657, 40525, 1.8243337537242035], [14228, 7612, 2049, 68216, 40184, 657, 16687, 1.7861048471530065], [14228, 12974, 65558, 19269, 62668, 65028, 16687, 1.7210687061882208], [14228, 12974, 40235, 26313, 62668, 65028, 16687, 1.7109196597922942], [14228, 12974, 8164, 45894, 38455, 657, 73506, 1.6734156360667374], [14228, 16580, 8164, 34409, 38455, 657, 73506, 1.6704605351662618], [14228, 12974, 8164, 1695, 38455, 657, 73506, 1.661715785382802], [14228, 12974, 8164, 45894, 45027, 40812, 70102, 1.637737598608153], [50016, 12974, 8164, 45894, 45027, 40812, 21231, 1.6325993992277947], [14228, 12974, 8164, 45894, 45027, 49820, 73506, 1.6278813397775214], [79768, 12974, 8164, 45894, 38455, 657, 16687, 1.6107814622566246], [14228, 12974, 52509, 45894, 38455, 657, 73506, 1.587406423024443], [75474, 41699, 8164, 36179, 62668, 76935, 22856, 1.5830512641109742], [75474, 41699, 44065, 40741, 18143, 657, 73506, 1.5640110390383393], [75474, 49776, 52844, 40741, 62668, 65028, 16687, 1.5475498340234122], [54894, 7612, 2049, 68216, 6398, 657, 16687, 1.5458311390612285], [41915, 7612, 2049, 68216, 6398, 657, 16687, 1.5440713763672964], [75474, 41699, 52844, 40741, 18143, 21830, 34291, 1.5304781609188203], [75474, 81974, 52844, 45720, 18143, 657, 16687, 1.5291694569024574], [24162, 12974, 8164, 45894, 38455, 657, 73506, 1.5263659796451192], [16920, 12974, 8164, 45894, 45027, 40812, 21231, 1.5235324341937786], [14228, 12974, 80210, 45894, 45027, 40812, 21231, 1.4931377823449132], [14228, 12974, 8164, 45894, 62668, 76935, 22856, 1.4896035711818476], [14228, 12974, 8164, 37223, 38455, 657, 73506, 1.486809364177949], [75474, 41699, 52844, 40741, 62668, 65028, 81458, 1.4768788451382193], [75474, 81974, 52844, 40741, 18143, 657, 73506, 1.4705026026214862], [54894, 7612, 2049, 68216, 6398, 657, 2634, 1.4701655261381912], [54894, 7612, 2049, 40741, 11246, 21830, 34291, 1.4646744134918426], [14228, 12974, 50111, 68216, 6398, 657, 16687, 1.4577880750088155], [14228, 12974, 79143, 45894, 38455, 657, 73506, 1.442783991307887], [75474, 41699, 52844, 40741, 18143, 71408, 10825, 1.4347462440655876], [14228, 12974, 38586, 34409, 45027, 40812, 21231, 1.4161078007357337], [54894, 7612, 38055, 40741, 18143, 21830, 34291, 1.4152087608244095], [14228, 12974, 20861, 45894, 38455, 657, 73506, 1.4126297698649377], [75474, 41699, 61624, 40741, 18143, 21830, 29678, 1.3862089290185433], [75474, 81974, 52844, 47517, 18143, 657, 16687, 1.3817616376387847], [29454, 41699, 2049, 68216, 6398, 657, 16687, 1.381387474493372], [75474, 65424, 52844, 40741, 18143, 21830, 34291, 1.3716654401336785], [42992, 80803, 2904, 12224, 30663, 657, 73506, 1.3709957351388884], [14228, 12974, 8164, 45894, 51990, 76935, 22856, 1.3455178786364843]]\n",
      "Best fit is  1.8243337537242035 , and iteration currently is  1\n",
      "0\n",
      "This is x_new_fit: 1.6648953850701065 This is Q_desc[i][-1] 1.8243337537242035\n",
      "1\n",
      "This is x_new_fit: 1.5277400303667807 This is Q_desc[i][-1] 1.7861048471530065\n",
      "2\n",
      "This is x_new_fit: 1.8136776500534206 This is Q_desc[i][-1] 1.7210687061882208\n",
      "3\n",
      "This is x_new_fit: 1.5780389928175 This is Q_desc[i][-1] 1.7109196597922942\n",
      "4\n",
      "This is x_new_fit: 1.758105146549875 This is Q_desc[i][-1] 1.6734156360667374\n",
      "5\n",
      "This is x_new_fit: 1.5518322599925405 This is Q_desc[i][-1] 1.6704605351662618\n",
      "6\n",
      "This is x_new_fit: 1.7444588664995189 This is Q_desc[i][-1] 1.661715785382802\n",
      "7\n",
      "This is x_new_fit: 1.6280260907897859 This is Q_desc[i][-1] 1.637737598608153\n",
      "8\n",
      "This is x_new_fit: 1.2302497582752234 This is Q_desc[i][-1] 1.6325993992277947\n",
      "9\n",
      "This is x_new_fit: 1.7054557962751253 This is Q_desc[i][-1] 1.6278813397775214\n",
      "10\n",
      "This is x_new_fit: 1.7138569593772002 This is Q_desc[i][-1] 1.6107814622566246\n",
      "11\n",
      "This is x_new_fit: 1.7791618584180242 This is Q_desc[i][-1] 1.587406423024443\n",
      "12\n",
      "This is x_new_fit: 1.2737249258494825 This is Q_desc[i][-1] 1.5830512641109742\n",
      "13\n",
      "This is x_new_fit: 1.5571722028704318 This is Q_desc[i][-1] 1.5640110390383393\n",
      "14\n",
      "This is x_new_fit: 1.6714124223677942 This is Q_desc[i][-1] 1.5475498340234122\n",
      "15\n",
      "This is x_new_fit: 1.525874681449413 This is Q_desc[i][-1] 1.5458311390612285\n",
      "16\n",
      "This is x_new_fit: 1.5819951653655486 This is Q_desc[i][-1] 1.5440713763672964\n",
      "17\n",
      "This is x_new_fit: 1.6285018699160159 This is Q_desc[i][-1] 1.5304781609188203\n",
      "18\n",
      "This is x_new_fit: 1.6569409916155273 This is Q_desc[i][-1] 1.5291694569024574\n",
      "19\n",
      "This is x_new_fit: 1.674767058141634 This is Q_desc[i][-1] 1.5263659796451192\n",
      "20\n",
      "This is x_new_fit: 1.6023478342421333 This is Q_desc[i][-1] 1.5235324341937786\n",
      "21\n",
      "This is x_new_fit: 1.6320574290143353 This is Q_desc[i][-1] 1.4931377823449132\n",
      "22\n",
      "This is x_new_fit: 1.817531853809513 This is Q_desc[i][-1] 1.4896035711818476\n",
      "23\n",
      "This is x_new_fit: 1.394523186779576 This is Q_desc[i][-1] 1.486809364177949\n",
      "24\n",
      "This is x_new_fit: 1.8216026353799388 This is Q_desc[i][-1] 1.4768788451382193\n",
      "25\n",
      "This is x_new_fit: 1.7913095337494658 This is Q_desc[i][-1] 1.4705026026214862\n",
      "26\n",
      "This is x_new_fit: 1.3812019373379731 This is Q_desc[i][-1] 1.4701655261381912\n",
      "27\n"
     ]
    },
    {
     "name": "stdout",
     "output_type": "stream",
     "text": [
      "This is x_new_fit: 1.81805838605667 This is Q_desc[i][-1] 1.4646744134918426\n",
      "28\n",
      "This is x_new_fit: 1.3685777487263717 This is Q_desc[i][-1] 1.4577880750088155\n",
      "29\n",
      "This is x_new_fit: 1.5743232218690923 This is Q_desc[i][-1] 1.442783991307887\n",
      "30\n",
      "This is x_new_fit: 1.4794219720582453 This is Q_desc[i][-1] 1.4347462440655876\n",
      "31\n",
      "This is x_new_fit: 1.588412778711182 This is Q_desc[i][-1] 1.4161078007357337\n",
      "32\n",
      "This is x_new_fit: 1.720394033380632 This is Q_desc[i][-1] 1.4152087608244095\n",
      "33\n",
      "This is x_new_fit: 1.8936643340333759 This is Q_desc[i][-1] 1.4126297698649377\n",
      "34\n",
      "This is x_new_fit: 1.6788257914497209 This is Q_desc[i][-1] 1.3862089290185433\n",
      "35\n",
      "This is x_new_fit: 1.5988447575705926 This is Q_desc[i][-1] 1.3817616376387847\n",
      "36\n",
      "This is x_new_fit: 1.6685737591998164 This is Q_desc[i][-1] 1.381387474493372\n",
      "37\n",
      "This is x_new_fit: 1.3680985773637868 This is Q_desc[i][-1] 1.3716654401336785\n",
      "38\n",
      "This is x_new_fit: 1.6767708777380814 This is Q_desc[i][-1] 1.3709957351388884\n",
      "39\n",
      "This is x_new_fit: 1.5324593441605925 This is Q_desc[i][-1] 1.3455178786364843\n",
      "[[14228, 53633, 65558, 19269, 62668, 65028, 70102, 1.8936643340333759], [14228, 12974, 8164, 45894, 38455, 657, 40525, 1.8243337537242035], [56759, 16580, 8164, 34409, 38455, 657, 70102, 1.8216026353799388], [14228, 12974, 8164, 45894, 12421, 657, 40525, 1.81805838605667], [14228, 12974, 8164, 32948, 38455, 657, 73506, 1.817531853809513], [14228, 12974, 8164, 1695, 38455, 657, 14518, 1.8136776500534206], [14228, 12974, 8164, 6437, 38455, 657, 16687, 1.7913095337494658], [14228, 7612, 2049, 68216, 40184, 657, 16687, 1.7861048471530065], [14228, 12974, 8164, 45894, 22274, 657, 40525, 1.7791618584180242], [50016, 12974, 8164, 17125, 62668, 65028, 16687, 1.758105146549875], [14228, 36281, 8164, 45894, 45027, 40812, 70102, 1.7444588664995189], [14228, 12974, 8164, 51959, 62668, 65028, 16687, 1.720394033380632], [14228, 7612, 2049, 45894, 38455, 12720, 40525, 1.7138569593772002], [14228, 12974, 40235, 26313, 62668, 65028, 16687, 1.7109196597922942], [14228, 12974, 40235, 45461, 62668, 65028, 16687, 1.7054557962751253], [14228, 58582, 65558, 19269, 62668, 65028, 16687, 1.6788257914497209], [39330, 12974, 8164, 45894, 38455, 657, 40525, 1.6767708777380814], [14228, 12974, 8164, 62349, 38455, 657, 73506, 1.674767058141634], [12270, 7612, 2049, 68216, 40184, 657, 16687, 1.6714124223677942], [14228, 16580, 8164, 34409, 38455, 657, 73506, 1.6704605351662618], [14228, 28517, 40235, 26313, 62668, 65028, 16687, 1.6685737591998164], [14228, 12974, 40235, 80277, 62668, 65028, 16687, 1.6569409916155273], [14228, 12974, 8164, 45894, 45027, 40812, 70102, 1.637737598608153], [50016, 12974, 8164, 45894, 45027, 40812, 21231, 1.6325993992277947], [14228, 29367, 8164, 45894, 38455, 657, 73506, 1.6320574290143353], [14228, 12974, 8164, 45894, 75389, 657, 73506, 1.6285018699160159], [17690, 12974, 65558, 19269, 62668, 65028, 16687, 1.6023478342421333], [14228, 16580, 8164, 34409, 38455, 657, 78036, 1.5988447575705926], [14228, 7612, 2049, 46958, 62668, 65028, 16687, 1.588412778711182], [75474, 41699, 8164, 36179, 62668, 76935, 22856, 1.5830512641109742], [14228, 12974, 65558, 22522, 62668, 65028, 16687, 1.5819951653655486], [14228, 7612, 10208, 68216, 40184, 657, 16687, 1.5743232218690923], [75474, 41699, 44065, 40741, 18143, 657, 73506, 1.5640110390383393], [54894, 7612, 2049, 68216, 6398, 657, 16687, 1.5458311390612285], [14228, 12974, 8164, 45894, 38455, 45358, 40525, 1.5324593441605925], [14228, 12974, 8164, 37223, 38455, 657, 73506, 1.486809364177949], [14228, 12974, 65558, 19269, 5883, 65028, 16687, 1.4794219720582453], [54894, 7612, 2049, 68216, 6398, 657, 2634, 1.4701655261381912], [14228, 12974, 50111, 68216, 6398, 657, 16687, 1.4577880750088155], [75474, 65424, 52844, 40741, 18143, 21830, 34291, 1.3716654401336785]]\n",
      "Best fit is  1.8936643340333759 , and iteration currently is  1\n",
      "0\n",
      "This is x_new_fit: 1.6580606461030174 This is Q_desc[i][-1] 1.8936643340333759\n",
      "1\n",
      "This is x_new_fit: 1.673463773836682 This is Q_desc[i][-1] 1.8243337537242035\n",
      "2\n",
      "This is x_new_fit: 1.7382503063592016 This is Q_desc[i][-1] 1.8216026353799388\n",
      "3\n",
      "This is x_new_fit: 1.8244142777589076 This is Q_desc[i][-1] 1.81805838605667\n",
      "4\n"
     ]
    },
    {
     "ename": "KeyboardInterrupt",
     "evalue": "",
     "output_type": "error",
     "traceback": [
      "\u001b[1;31m---------------------------------------------------------------------------\u001b[0m",
      "\u001b[1;31mKeyboardInterrupt\u001b[0m                         Traceback (most recent call last)",
      "\u001b[1;32m<ipython-input-61-c8d54e20f4ba>\u001b[0m in \u001b[0;36m<module>\u001b[1;34m\u001b[0m\n\u001b[0;32m     76\u001b[0m             \u001b[0mx_new\u001b[0m \u001b[1;33m=\u001b[0m \u001b[0mx\u001b[0m\u001b[1;33m[\u001b[0m\u001b[1;33m:\u001b[0m\u001b[0mrandm_pos\u001b[0m\u001b[1;33m-\u001b[0m\u001b[1;36m1\u001b[0m\u001b[1;33m]\u001b[0m\u001b[1;33m+\u001b[0m\u001b[1;33m[\u001b[0m\u001b[0mrand_id\u001b[0m\u001b[1;33m]\u001b[0m\u001b[1;33m+\u001b[0m\u001b[0mx\u001b[0m\u001b[1;33m[\u001b[0m\u001b[0mrandm_pos\u001b[0m\u001b[1;33m:\u001b[0m\u001b[1;33m]\u001b[0m\u001b[1;33m\u001b[0m\u001b[1;33m\u001b[0m\u001b[0m\n\u001b[0;32m     77\u001b[0m \u001b[1;33m\u001b[0m\u001b[0m\n\u001b[1;32m---> 78\u001b[1;33m         \u001b[0mx_new_fit\u001b[0m \u001b[1;33m=\u001b[0m \u001b[0malgorithm2_part1\u001b[0m\u001b[1;33m(\u001b[0m\u001b[0mx_new\u001b[0m\u001b[1;33m)\u001b[0m\u001b[1;33m\u001b[0m\u001b[1;33m\u001b[0m\u001b[0m\n\u001b[0m\u001b[0;32m     79\u001b[0m         \u001b[0mprint\u001b[0m\u001b[1;33m(\u001b[0m\u001b[1;34m\"This is x_new_fit:\"\u001b[0m\u001b[1;33m,\u001b[0m \u001b[0mstr\u001b[0m\u001b[1;33m(\u001b[0m\u001b[0mx_new_fit\u001b[0m\u001b[1;33m)\u001b[0m\u001b[1;33m,\u001b[0m\u001b[1;34m\"This is Q_desc[i][-1]\"\u001b[0m\u001b[1;33m,\u001b[0m\u001b[0mstr\u001b[0m\u001b[1;33m(\u001b[0m\u001b[0mQ_desc\u001b[0m\u001b[1;33m[\u001b[0m\u001b[0mi\u001b[0m\u001b[1;33m]\u001b[0m\u001b[1;33m[\u001b[0m\u001b[1;33m-\u001b[0m\u001b[1;36m1\u001b[0m\u001b[1;33m]\u001b[0m\u001b[1;33m)\u001b[0m\u001b[1;33m)\u001b[0m\u001b[1;33m\u001b[0m\u001b[1;33m\u001b[0m\u001b[0m\n\u001b[0;32m     80\u001b[0m         \u001b[1;32mif\u001b[0m \u001b[1;33m(\u001b[0m\u001b[0mx_new_fit\u001b[0m \u001b[1;33m>\u001b[0m \u001b[0mQ_desc\u001b[0m\u001b[1;33m[\u001b[0m\u001b[0mi\u001b[0m\u001b[1;33m]\u001b[0m\u001b[1;33m[\u001b[0m\u001b[1;33m-\u001b[0m\u001b[1;36m1\u001b[0m\u001b[1;33m]\u001b[0m\u001b[1;33m)\u001b[0m\u001b[1;33m:\u001b[0m\u001b[1;33m\u001b[0m\u001b[1;33m\u001b[0m\u001b[0m\n",
      "\u001b[1;32m<ipython-input-15-0b9d169516eb>\u001b[0m in \u001b[0;36malgorithm2_part1\u001b[1;34m(pop_n)\u001b[0m\n\u001b[0;32m     16\u001b[0m         \u001b[0mprof_sim_C\u001b[0m \u001b[1;33m=\u001b[0m \u001b[1;36m0\u001b[0m\u001b[1;33m\u001b[0m\u001b[1;33m\u001b[0m\u001b[0m\n\u001b[0;32m     17\u001b[0m         \u001b[1;32mfor\u001b[0m \u001b[0mc\u001b[0m \u001b[1;32min\u001b[0m \u001b[0mCij\u001b[0m\u001b[1;33m[\u001b[0m\u001b[0mstr\u001b[0m\u001b[1;33m(\u001b[0m\u001b[0mxi\u001b[0m\u001b[1;33m)\u001b[0m\u001b[1;33m]\u001b[0m\u001b[1;33m:\u001b[0m\u001b[1;33m\u001b[0m\u001b[1;33m\u001b[0m\u001b[0m\n\u001b[1;32m---> 18\u001b[1;33m             \u001b[0mprof_sim_C\u001b[0m\u001b[1;33m+=\u001b[0m\u001b[0mprofSimilarity\u001b[0m\u001b[1;33m(\u001b[0m\u001b[0mc\u001b[0m\u001b[1;33m,\u001b[0m \u001b[0mxi\u001b[0m\u001b[1;33m,\u001b[0m\u001b[0mXi\u001b[0m\u001b[1;33m)\u001b[0m\u001b[1;33m\u001b[0m\u001b[1;33m\u001b[0m\u001b[0m\n\u001b[0m\u001b[0;32m     19\u001b[0m         \u001b[0mprof_sim_C\u001b[0m \u001b[1;33m=\u001b[0m \u001b[0mprof_sim_C\u001b[0m\u001b[1;33m/\u001b[0m\u001b[0mlen\u001b[0m\u001b[1;33m(\u001b[0m\u001b[0mCij\u001b[0m\u001b[1;33m)\u001b[0m\u001b[1;33m\u001b[0m\u001b[1;33m\u001b[0m\u001b[0m\n\u001b[0;32m     20\u001b[0m \u001b[1;33m\u001b[0m\u001b[0m\n",
      "\u001b[1;32m<ipython-input-6-64cfd05e41a5>\u001b[0m in \u001b[0;36mprofSimilarity\u001b[1;34m(nodeId, active_center, active_centers)\u001b[0m\n\u001b[0;32m      8\u001b[0m     \u001b[1;32mfor\u001b[0m \u001b[0mi\u001b[0m \u001b[1;32min\u001b[0m \u001b[0mrange\u001b[0m\u001b[1;33m(\u001b[0m\u001b[1;36m0\u001b[0m\u001b[1;33m,\u001b[0m \u001b[0mno_of_features\u001b[0m\u001b[1;33m)\u001b[0m\u001b[1;33m:\u001b[0m\u001b[1;33m\u001b[0m\u001b[1;33m\u001b[0m\u001b[0m\n\u001b[0;32m      9\u001b[0m \u001b[1;33m\u001b[0m\u001b[0m\n\u001b[1;32m---> 10\u001b[1;33m         \u001b[0msq_diff\u001b[0m \u001b[1;33m=\u001b[0m \u001b[1;33m(\u001b[0m\u001b[0mnode_features_df\u001b[0m\u001b[1;33m[\u001b[0m\u001b[1;34m\"feature\"\u001b[0m\u001b[1;33m+\u001b[0m\u001b[0mstr\u001b[0m\u001b[1;33m(\u001b[0m\u001b[0mi\u001b[0m\u001b[1;33m+\u001b[0m\u001b[1;36m1\u001b[0m\u001b[1;33m)\u001b[0m\u001b[1;33m]\u001b[0m\u001b[1;33m[\u001b[0m\u001b[0mnodeId_index\u001b[0m\u001b[1;33m]\u001b[0m \u001b[1;33m-\u001b[0m \u001b[0mnode_features_df\u001b[0m\u001b[1;33m[\u001b[0m\u001b[1;34m\"feature\"\u001b[0m\u001b[1;33m+\u001b[0m\u001b[0mstr\u001b[0m\u001b[1;33m(\u001b[0m\u001b[0mi\u001b[0m\u001b[1;33m+\u001b[0m\u001b[1;36m1\u001b[0m\u001b[1;33m)\u001b[0m\u001b[1;33m]\u001b[0m\u001b[1;33m[\u001b[0m\u001b[0mac_index\u001b[0m\u001b[1;33m]\u001b[0m\u001b[1;33m)\u001b[0m\u001b[1;33m**\u001b[0m\u001b[1;36m2\u001b[0m\u001b[1;33m\u001b[0m\u001b[1;33m\u001b[0m\u001b[0m\n\u001b[0m\u001b[0;32m     11\u001b[0m         \u001b[0msum\u001b[0m \u001b[1;33m+=\u001b[0m \u001b[0msq_diff\u001b[0m\u001b[1;33m\u001b[0m\u001b[1;33m\u001b[0m\u001b[0m\n\u001b[0;32m     12\u001b[0m \u001b[1;33m\u001b[0m\u001b[0m\n",
      "\u001b[1;32mD:\\anaconda3\\envs\\GraphMining\\lib\\site-packages\\pandas\\core\\series.py\u001b[0m in \u001b[0;36m__getitem__\u001b[1;34m(self, key)\u001b[0m\n\u001b[0;32m    880\u001b[0m \u001b[1;33m\u001b[0m\u001b[0m\n\u001b[0;32m    881\u001b[0m         \u001b[1;32melif\u001b[0m \u001b[0mkey_is_scalar\u001b[0m\u001b[1;33m:\u001b[0m\u001b[1;33m\u001b[0m\u001b[1;33m\u001b[0m\u001b[0m\n\u001b[1;32m--> 882\u001b[1;33m             \u001b[1;32mreturn\u001b[0m \u001b[0mself\u001b[0m\u001b[1;33m.\u001b[0m\u001b[0m_get_value\u001b[0m\u001b[1;33m(\u001b[0m\u001b[0mkey\u001b[0m\u001b[1;33m)\u001b[0m\u001b[1;33m\u001b[0m\u001b[1;33m\u001b[0m\u001b[0m\n\u001b[0m\u001b[0;32m    883\u001b[0m \u001b[1;33m\u001b[0m\u001b[0m\n\u001b[0;32m    884\u001b[0m         \u001b[1;32mif\u001b[0m \u001b[0mis_hashable\u001b[0m\u001b[1;33m(\u001b[0m\u001b[0mkey\u001b[0m\u001b[1;33m)\u001b[0m\u001b[1;33m:\u001b[0m\u001b[1;33m\u001b[0m\u001b[1;33m\u001b[0m\u001b[0m\n",
      "\u001b[1;32mD:\\anaconda3\\envs\\GraphMining\\lib\\site-packages\\pandas\\core\\series.py\u001b[0m in \u001b[0;36m_get_value\u001b[1;34m(self, label, takeable)\u001b[0m\n\u001b[0;32m    988\u001b[0m         \u001b[1;31m# Similar to Index.get_value, but we do not fall back to positional\u001b[0m\u001b[1;33m\u001b[0m\u001b[1;33m\u001b[0m\u001b[1;33m\u001b[0m\u001b[0m\n\u001b[0;32m    989\u001b[0m         \u001b[0mloc\u001b[0m \u001b[1;33m=\u001b[0m \u001b[0mself\u001b[0m\u001b[1;33m.\u001b[0m\u001b[0mindex\u001b[0m\u001b[1;33m.\u001b[0m\u001b[0mget_loc\u001b[0m\u001b[1;33m(\u001b[0m\u001b[0mlabel\u001b[0m\u001b[1;33m)\u001b[0m\u001b[1;33m\u001b[0m\u001b[1;33m\u001b[0m\u001b[0m\n\u001b[1;32m--> 990\u001b[1;33m         \u001b[1;32mreturn\u001b[0m \u001b[0mself\u001b[0m\u001b[1;33m.\u001b[0m\u001b[0mindex\u001b[0m\u001b[1;33m.\u001b[0m\u001b[0m_get_values_for_loc\u001b[0m\u001b[1;33m(\u001b[0m\u001b[0mself\u001b[0m\u001b[1;33m,\u001b[0m \u001b[0mloc\u001b[0m\u001b[1;33m,\u001b[0m \u001b[0mlabel\u001b[0m\u001b[1;33m)\u001b[0m\u001b[1;33m\u001b[0m\u001b[1;33m\u001b[0m\u001b[0m\n\u001b[0m\u001b[0;32m    991\u001b[0m \u001b[1;33m\u001b[0m\u001b[0m\n\u001b[0;32m    992\u001b[0m     \u001b[1;32mdef\u001b[0m \u001b[0m__setitem__\u001b[0m\u001b[1;33m(\u001b[0m\u001b[0mself\u001b[0m\u001b[1;33m,\u001b[0m \u001b[0mkey\u001b[0m\u001b[1;33m,\u001b[0m \u001b[0mvalue\u001b[0m\u001b[1;33m)\u001b[0m\u001b[1;33m:\u001b[0m\u001b[1;33m\u001b[0m\u001b[1;33m\u001b[0m\u001b[0m\n",
      "\u001b[1;31mKeyboardInterrupt\u001b[0m: "
     ]
    }
   ],
   "source": [
    "iteration = 0\n",
    "Q_desc_new=[]\n",
    "pre_fit = 0\n",
    "\n",
    "while iteration <10:\n",
    "    if (Q_desc_new != []):\n",
    "        Q_desc = Q_desc_new\n",
    "        pre_fit = Q_desc[0][-1]\n",
    "        Q_desc_new = []\n",
    "        \n",
    "    for i in range(0,N):\n",
    "        print(i)\n",
    "        #Select two parant chromosomes let say X1 and X2 from a population with high fitness value\n",
    "        #########This trunk try to find the best X after crossover###################################################\n",
    "        #assume fitness value > 1 means high\n",
    "        Q_high = list(filter(lambda x:x[K]>1,Q_desc))\n",
    "        if len(Q_high) >10:\n",
    "            Q_high = Q_high[:10]\n",
    "        \n",
    "        #print(Q_high)\n",
    "        Q1 = random.choice(Q_high)\n",
    "        Q2 = random.choice(Q_high)\n",
    "        #print(Q1,Q2)\n",
    "        x1 = Q1[:-1]\n",
    "        x1_fit = Q1[-1]\n",
    "        x2 = Q2[:-1]\n",
    "        x2_fit = Q2[-1]\n",
    "        while x2 == x1:\n",
    "            x2 = random.choice(Q_high)\n",
    "        #random.seed(0)\n",
    "        randc_pos = random.randint(1,K)\n",
    "        \n",
    "        x1_new = x1[:randc_pos]+x2[randc_pos:]\n",
    "        x2_new = x2[:randc_pos]+x1[randc_pos:]\n",
    "        \n",
    "        x1_new_fit = algorithm2_part1(x1_new)\n",
    "        x2_new_fit = algorithm2_part1(x2_new)\n",
    "        \n",
    "        max_fit = max(x1_fit,x2_fit,x1_new_fit,x2_new_fit)\n",
    "        \n",
    "        if(x1_fit == max_fit):\n",
    "            x = x1\n",
    "            #print(\"x1 is the best\")\n",
    "        elif (x2_fit == max_fit):\n",
    "            x = x2\n",
    "            #print(\"x2 is the best\")\n",
    "        elif (x1_new_fit == max_fit):\n",
    "            x = x1_new\n",
    "            #print(\"x1 new is the best\")\n",
    "        else:\n",
    "            x = x2_new\n",
    "            #print(\"x2 new is the best\")\n",
    "###################original thought###################################        \n",
    "#         x1 = Q_desc[i][:-1]\n",
    "#         x2 = Q_desc[i+1][:-1]\n",
    "        \n",
    "#         #cross over\n",
    "#         #generate a random int randc_pos\n",
    "#         random.seed(0)\n",
    "#         randc_pos = randint(1,K)\n",
    "        \n",
    "#         x1_new = x1[:randc_pos]+x2[randc_pos:]\n",
    "#         x2_new = x2[:randc_pos]+x1[randc_pos:]\n",
    "#########################################################\n",
    "        #mutation\n",
    "        #generate a random position randm_pos [1,k] and rand_id [1,n]\n",
    "        randm_pos = random.randint(1,K)\n",
    "        rand_id = random.choice(nodeIds)\n",
    "        \n",
    "        #x = x1_new\n",
    "        #x = Q_desc[i]\n",
    "        #repair chomorosome if values of two alleles of a chromosome occurs\n",
    "        if rand_id in (x[:randm_pos-1]+x[randm_pos:]):\n",
    "            x_new =x\n",
    "        else:\n",
    "            x_new = x[:randm_pos-1]+[rand_id]+x[randm_pos:]\n",
    "        \n",
    "        x_new_fit = algorithm2_part1(x_new)\n",
    "        print(\"This is x_new_fit:\", str(x_new_fit),\"This is Q_desc[i][-1]\",str(Q_desc[i][-1]))\n",
    "        if (x_new_fit > Q_desc[i][-1]):\n",
    "            Q_desc_new.append(x_new + [x_new_fit])\n",
    "            #print(\"new Q is better\")\n",
    "        else:\n",
    "            Q_desc_new.append(Q_desc[i])\n",
    "\n",
    "    Q_desc_new= sorted(Q_desc_new,key=lambda x:x[-1],reverse=True)\n",
    "    check(Q_desc_new)\n",
    "    print(Q_desc_new)\n",
    "    if Q_desc_new[0][-1] == pre_fit:\n",
    "        iteration +=1\n",
    "    else:\n",
    "        iteration = 1\n",
    "    print(\"Best fit is \",str(Q_desc_new[0][-1]),\", and iteration currently is \", str(iteration))\n",
    "        "
   ]
  },
  {
   "cell_type": "markdown",
   "metadata": {},
   "source": [
    "### Following are attempts for parallel, please ignore them"
   ]
  },
  {
   "cell_type": "raw",
   "metadata": {},
   "source": [
    "iteration = 0\n",
    "Q_desc_new=[]\n",
    "pre_fit = 0\n",
    "\n",
    "while iteration <10:\n",
    "    if (Q_desc_new != []):\n",
    "        Q_desc = Q_desc_new\n",
    "        pre_fit = Q_desc[0][-1]\n",
    "        Q_desc_new = []\n",
    "    pool = Pool()\n",
    "    results = pool.apply_async(parallel_insider_algorithm2_part2,0)\n",
    "    print(res.get(timeout=1))\n",
    "    #for i in range(0,N):\n",
    "    \n",
    "    \n",
    "    Q_desc_new= sorted(Q_desc_new,key=lambda x:x[-1],reverse=True)\n",
    "    if Q_desc_new[0][-1] == pre_fit:\n",
    "        iteration +=1\n",
    "    else:\n",
    "        iteration = 1\n",
    "    print(\"Best fit is \",str(Q_desc_new[0][-1]),\", and iteration currently is \", str(iteration))\n",
    "        "
   ]
  },
  {
   "cell_type": "raw",
   "metadata": {},
   "source": [
    "Q_desc_new=[]"
   ]
  },
  {
   "cell_type": "raw",
   "metadata": {},
   "source": [
    "if __name__ == '__main__':\n",
    "    iteration = 0\n",
    "    Q_desc_new=[]\n",
    "    pre_fit = 0\n",
    "\n",
    "    while iteration <10:\n",
    "        if (Q_desc_new != []):\n",
    "            Q_desc = Q_desc_new\n",
    "            pre_fit = Q_desc[0][-1]\n",
    "            Q_desc_new = []\n",
    "        \n",
    "        pool = Pool()\n",
    "        for i in range(0,N):\n",
    "            Q_desc_new[i] = pool.apply_async(parallel_insider_algorithm2_part2,(0,Q_desc,K,nodeIds,signed_network,node_features_df))\n",
    "\n",
    "        \n",
    "\n",
    "\n",
    "        Q_desc_new= sorted(Q_desc_new,key=lambda x:x[-1],reverse=True)\n",
    "        if Q_desc_new[0][-1] == pre_fit:\n",
    "            iteration +=1\n",
    "        else:\n",
    "            iteration = 1\n",
    "        print(\"Best fit is \",str(Q_desc_new[0][-1]),\", and iteration currently is \", str(iteration))\n",
    "    with Pool(5) as p:\n",
    "        result = p.apply_async(parallel_insider_algorithm2_part2,(0,Q_desc,K,nodeIds,signed_network,node_features_df))\n",
    "        print(result.get(timeout=60))"
   ]
  },
  {
   "cell_type": "raw",
   "metadata": {},
   "source": [
    "pool = Pool()\n",
    "results=[]\n",
    "for i in range(0,N):\n",
    "    results.append(pool.apply_async(parallel_insider_algorithm2_part2,(i,Q_desc,K,nodeIds,signed_network,node_features_df)))\n",
    "[result.wait() for result in results]\n",
    "for i in range(0,N):\n",
    "    Q_desc_new.append(results[i].get())"
   ]
  },
  {
   "cell_type": "raw",
   "metadata": {},
   "source": [
    "Q_desc[10]"
   ]
  },
  {
   "cell_type": "raw",
   "metadata": {},
   "source": [
    "a=[1,2,3,4,5,6,7]\n",
    "b=[11,12,13,14,15,16,17]"
   ]
  },
  {
   "cell_type": "raw",
   "metadata": {},
   "source": [
    "randc_pos =7\n",
    "\n",
    "x1_new = a[:randc_pos]+b[randc_pos:]\n",
    "x2_new = b[:randc_pos]+a[randc_pos:]"
   ]
  },
  {
   "cell_type": "raw",
   "metadata": {},
   "source": [
    "x1_new"
   ]
  },
  {
   "cell_type": "raw",
   "metadata": {},
   "source": [
    "x2_new"
   ]
  },
  {
   "cell_type": "raw",
   "metadata": {},
   "source": [
    "randm_pos = 7\n",
    "rand_id = 11\n",
    "x_new = a[:randm_pos-1]+[rand_id]+a[randm_pos:]"
   ]
  },
  {
   "cell_type": "raw",
   "metadata": {},
   "source": [
    "x_new"
   ]
  },
  {
   "cell_type": "raw",
   "metadata": {},
   "source": [
    "a[:-1]"
   ]
  },
  {
   "cell_type": "raw",
   "metadata": {},
   "source": [
    "a[-1]"
   ]
  }
 ],
 "metadata": {
  "colab": {
   "authorship_tag": "ABX9TyMIKMDYclUF9n5vHZt4eT5j",
   "collapsed_sections": [],
   "include_colab_link": true,
   "name": "GA-K-means-clustering.ipynb",
   "provenance": []
  },
  "kernelspec": {
   "display_name": "Python 3",
   "language": "python",
   "name": "python3"
  },
  "language_info": {
   "codemirror_mode": {
    "name": "ipython",
    "version": 3
   },
   "file_extension": ".py",
   "mimetype": "text/x-python",
   "name": "python",
   "nbconvert_exporter": "python",
   "pygments_lexer": "ipython3",
   "version": "3.8.5"
  }
 },
 "nbformat": 4,
 "nbformat_minor": 1
}
