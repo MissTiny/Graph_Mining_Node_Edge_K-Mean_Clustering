{
  "nbformat": 4,
  "nbformat_minor": 0,
  "metadata": {
    "colab": {
      "name": "GA-K-means-clustering.ipynb",
      "provenance": [],
      "collapsed_sections": [],
      "authorship_tag": "ABX9TyP5DUSQz0Ua5pHzIyShCVBk",
      "include_colab_link": true
    },
    "kernelspec": {
      "display_name": "Python 3",
      "name": "python3"
    }
  },
  "cells": [
    {
      "cell_type": "markdown",
      "metadata": {
        "id": "view-in-github",
        "colab_type": "text"
      },
      "source": [
        "<a href=\"https://colab.research.google.com/github/MissTiny/Graph_Mining_Node_Edge_K-Mean_Clustering/blob/evaluation/GA_K_means_clustering.ipynb\" target=\"_parent\"><img src=\"https://colab.research.google.com/assets/colab-badge.svg\" alt=\"Open In Colab\"/></a>"
      ]
    },
    {
      "cell_type": "markdown",
      "metadata": {
        "id": "xZFU01QtJgiF"
      },
      "source": [
        "Imports."
      ]
    },
    {
      "cell_type": "code",
      "metadata": {
        "id": "S7t5BhNIJkBq"
      },
      "source": [
        "import json\n",
        "import numpy as np\n",
        "import pandas as pd\n",
        "import networkx as nx\n",
        "\n",
        "from sklearn.preprocessing import MinMaxScaler\n",
        "from sklearn.cluster import KMeans\n",
        "import matplotlib.pyplot as plt\n",
        "import random\n",
        "import math"
      ],
      "execution_count": 1,
      "outputs": []
    },
    {
      "cell_type": "markdown",
      "metadata": {
        "id": "IeXu_OCuJn2U"
      },
      "source": [
        "Reading Signed network."
      ]
    },
    {
      "cell_type": "code",
      "metadata": {
        "id": "1WuvUw0nJtSO"
      },
      "source": [
        "signed_network = nx.read_weighted_edgelist('soc-sign-Slashdot090221.txt.gz', comments='#', create_using=nx.DiGraph(), nodetype = int)"
      ],
      "execution_count": 2,
      "outputs": []
    },
    {
      "cell_type": "markdown",
      "metadata": {
        "id": "YbivohZaJywJ"
      },
      "source": [
        "Reading node features."
      ]
    },
    {
      "cell_type": "code",
      "metadata": {
        "id": "mV5BVQQIJ4eV"
      },
      "source": [
        "node_features ={}\n",
        "no_of_features = 100\n",
        "line_no = 0\n",
        "with open(\"embedded-soc-sign-slashdot\") as nf: \n",
        "    Lines = nf.readlines() \n",
        "    for line in Lines:\n",
        "        #skip first line\n",
        "        if line_no > 0:\n",
        "            # splitting by space\n",
        "            values = line.split()\n",
        "            values = values[:no_of_features+1]\n",
        "            index = 0\n",
        "            # reading node features\n",
        "            for val in values:\n",
        "                if index == 0:\n",
        "                    # reading nodeIds for first time\n",
        "                    if line_no == 1:\n",
        "                        node_features[\"nodeId\"] = [int(val)]\n",
        "                    else:\n",
        "                        node_features[\"nodeId\"].append(int(val))\n",
        "                \n",
        "                elif index > 0:\n",
        "                    # reading features for the first time\n",
        "                    if line_no == 1:\n",
        "                        node_features[\"feature\"+str(index)] = [float(val)]\n",
        "                    else:\n",
        "                        node_features[\"feature\"+str(index)].append(float(val))\n",
        "                index+=1\n",
        "        line_no += 1\n",
        "\n",
        "node_features_df = pd.DataFrame(node_features)"
      ],
      "execution_count": 3,
      "outputs": []
    },
    {
      "cell_type": "markdown",
      "metadata": {
        "id": "fm--_XPqS770"
      },
      "source": [
        "Determining optimal number of clusters or number of active centers using elbow method."
      ]
    },
    {
      "cell_type": "code",
      "metadata": {
        "id": "iMdq35C1S9Yg",
        "colab": {
          "base_uri": "https://localhost:8080/",
          "height": 395
        },
        "outputId": "98058031-ddb9-4074-cd7f-94af69063da1"
      },
      "source": [
        "# To give equal importance to all features, we need to scale the continuous features. \n",
        "# We will be using scikit-learn’s MinMaxScaler as the feature matrix is a mix of binary and continuous features . \n",
        "mms = MinMaxScaler()\n",
        "mms.fit(node_features_df)\n",
        "node_features_df_transformed = mms.transform(node_features_df)\n",
        "\n",
        "Sum_of_squared_distances = []\n",
        "K = range(1,50)\n",
        "for k in K:\n",
        "    km = KMeans(n_clusters=k, n_jobs=-1)\n",
        "    km = km.fit(node_features_df_transformed)\n",
        "    Sum_of_squared_distances.append(km.inertia_)\n",
        "\n",
        "plt.plot(K, Sum_of_squared_distances, 'bx-')\n",
        "plt.xlabel('k')\n",
        "plt.ylabel('Sum_of_squared_distances')\n",
        "plt.title('Elbow Method For Optimal k')\n",
        "plt.show()"
      ],
      "execution_count": null,
      "outputs": [
        {
          "output_type": "error",
          "ename": "KeyboardInterrupt",
          "evalue": "ignored",
          "traceback": [
            "\u001b[0;31m---------------------------------------------------------------------------\u001b[0m",
            "\u001b[0;31mKeyboardInterrupt\u001b[0m                         Traceback (most recent call last)",
            "\u001b[0;32m<ipython-input-14-c04536026729>\u001b[0m in \u001b[0;36m<module>\u001b[0;34m()\u001b[0m\n\u001b[1;32m      9\u001b[0m \u001b[0;32mfor\u001b[0m \u001b[0mk\u001b[0m \u001b[0;32min\u001b[0m \u001b[0mK\u001b[0m\u001b[0;34m:\u001b[0m\u001b[0;34m\u001b[0m\u001b[0;34m\u001b[0m\u001b[0m\n\u001b[1;32m     10\u001b[0m     \u001b[0mkm\u001b[0m \u001b[0;34m=\u001b[0m \u001b[0mKMeans\u001b[0m\u001b[0;34m(\u001b[0m\u001b[0mn_clusters\u001b[0m\u001b[0;34m=\u001b[0m\u001b[0mk\u001b[0m\u001b[0;34m,\u001b[0m \u001b[0mn_jobs\u001b[0m\u001b[0;34m=\u001b[0m\u001b[0;34m-\u001b[0m\u001b[0;36m1\u001b[0m\u001b[0;34m)\u001b[0m\u001b[0;34m\u001b[0m\u001b[0;34m\u001b[0m\u001b[0m\n\u001b[0;32m---> 11\u001b[0;31m     \u001b[0mkm\u001b[0m \u001b[0;34m=\u001b[0m \u001b[0mkm\u001b[0m\u001b[0;34m.\u001b[0m\u001b[0mfit\u001b[0m\u001b[0;34m(\u001b[0m\u001b[0mnode_features_df_transformed\u001b[0m\u001b[0;34m)\u001b[0m\u001b[0;34m\u001b[0m\u001b[0;34m\u001b[0m\u001b[0m\n\u001b[0m\u001b[1;32m     12\u001b[0m     \u001b[0mSum_of_squared_distances\u001b[0m\u001b[0;34m.\u001b[0m\u001b[0mappend\u001b[0m\u001b[0;34m(\u001b[0m\u001b[0mkm\u001b[0m\u001b[0;34m.\u001b[0m\u001b[0minertia_\u001b[0m\u001b[0;34m)\u001b[0m\u001b[0;34m\u001b[0m\u001b[0;34m\u001b[0m\u001b[0m\n\u001b[1;32m     13\u001b[0m \u001b[0;34m\u001b[0m\u001b[0m\n",
            "\u001b[0;32m/usr/local/lib/python3.6/dist-packages/sklearn/cluster/_kmeans.py\u001b[0m in \u001b[0;36mfit\u001b[0;34m(self, X, y, sample_weight)\u001b[0m\n\u001b[1;32m    954\u001b[0m                     \u001b[0mrandom_state\u001b[0m\u001b[0;34m=\u001b[0m\u001b[0mseed\u001b[0m\u001b[0;34m\u001b[0m\u001b[0;34m\u001b[0m\u001b[0m\n\u001b[1;32m    955\u001b[0m                 )\n\u001b[0;32m--> 956\u001b[0;31m                 for seed in seeds)\n\u001b[0m\u001b[1;32m    957\u001b[0m             \u001b[0;31m# Get results with the lowest inertia\u001b[0m\u001b[0;34m\u001b[0m\u001b[0;34m\u001b[0m\u001b[0;34m\u001b[0m\u001b[0m\n\u001b[1;32m    958\u001b[0m             \u001b[0mlabels\u001b[0m\u001b[0;34m,\u001b[0m \u001b[0minertia\u001b[0m\u001b[0;34m,\u001b[0m \u001b[0mcenters\u001b[0m\u001b[0;34m,\u001b[0m \u001b[0mn_iters\u001b[0m \u001b[0;34m=\u001b[0m \u001b[0mzip\u001b[0m\u001b[0;34m(\u001b[0m\u001b[0;34m*\u001b[0m\u001b[0mresults\u001b[0m\u001b[0;34m)\u001b[0m\u001b[0;34m\u001b[0m\u001b[0;34m\u001b[0m\u001b[0m\n",
            "\u001b[0;32m/usr/local/lib/python3.6/dist-packages/joblib/parallel.py\u001b[0m in \u001b[0;36m__call__\u001b[0;34m(self, iterable)\u001b[0m\n\u001b[1;32m   1059\u001b[0m \u001b[0;34m\u001b[0m\u001b[0m\n\u001b[1;32m   1060\u001b[0m             \u001b[0;32mwith\u001b[0m \u001b[0mself\u001b[0m\u001b[0;34m.\u001b[0m\u001b[0m_backend\u001b[0m\u001b[0;34m.\u001b[0m\u001b[0mretrieval_context\u001b[0m\u001b[0;34m(\u001b[0m\u001b[0;34m)\u001b[0m\u001b[0;34m:\u001b[0m\u001b[0;34m\u001b[0m\u001b[0;34m\u001b[0m\u001b[0m\n\u001b[0;32m-> 1061\u001b[0;31m                 \u001b[0mself\u001b[0m\u001b[0;34m.\u001b[0m\u001b[0mretrieve\u001b[0m\u001b[0;34m(\u001b[0m\u001b[0;34m)\u001b[0m\u001b[0;34m\u001b[0m\u001b[0;34m\u001b[0m\u001b[0m\n\u001b[0m\u001b[1;32m   1062\u001b[0m             \u001b[0;31m# Make sure that we get a last message telling us we are done\u001b[0m\u001b[0;34m\u001b[0m\u001b[0;34m\u001b[0m\u001b[0;34m\u001b[0m\u001b[0m\n\u001b[1;32m   1063\u001b[0m             \u001b[0melapsed_time\u001b[0m \u001b[0;34m=\u001b[0m \u001b[0mtime\u001b[0m\u001b[0;34m.\u001b[0m\u001b[0mtime\u001b[0m\u001b[0;34m(\u001b[0m\u001b[0;34m)\u001b[0m \u001b[0;34m-\u001b[0m \u001b[0mself\u001b[0m\u001b[0;34m.\u001b[0m\u001b[0m_start_time\u001b[0m\u001b[0;34m\u001b[0m\u001b[0;34m\u001b[0m\u001b[0m\n",
            "\u001b[0;32m/usr/local/lib/python3.6/dist-packages/joblib/parallel.py\u001b[0m in \u001b[0;36mretrieve\u001b[0;34m(self)\u001b[0m\n\u001b[1;32m    938\u001b[0m             \u001b[0;32mtry\u001b[0m\u001b[0;34m:\u001b[0m\u001b[0;34m\u001b[0m\u001b[0;34m\u001b[0m\u001b[0m\n\u001b[1;32m    939\u001b[0m                 \u001b[0;32mif\u001b[0m \u001b[0mgetattr\u001b[0m\u001b[0;34m(\u001b[0m\u001b[0mself\u001b[0m\u001b[0;34m.\u001b[0m\u001b[0m_backend\u001b[0m\u001b[0;34m,\u001b[0m \u001b[0;34m'supports_timeout'\u001b[0m\u001b[0;34m,\u001b[0m \u001b[0;32mFalse\u001b[0m\u001b[0;34m)\u001b[0m\u001b[0;34m:\u001b[0m\u001b[0;34m\u001b[0m\u001b[0;34m\u001b[0m\u001b[0m\n\u001b[0;32m--> 940\u001b[0;31m                     \u001b[0mself\u001b[0m\u001b[0;34m.\u001b[0m\u001b[0m_output\u001b[0m\u001b[0;34m.\u001b[0m\u001b[0mextend\u001b[0m\u001b[0;34m(\u001b[0m\u001b[0mjob\u001b[0m\u001b[0;34m.\u001b[0m\u001b[0mget\u001b[0m\u001b[0;34m(\u001b[0m\u001b[0mtimeout\u001b[0m\u001b[0;34m=\u001b[0m\u001b[0mself\u001b[0m\u001b[0;34m.\u001b[0m\u001b[0mtimeout\u001b[0m\u001b[0;34m)\u001b[0m\u001b[0;34m)\u001b[0m\u001b[0;34m\u001b[0m\u001b[0;34m\u001b[0m\u001b[0m\n\u001b[0m\u001b[1;32m    941\u001b[0m                 \u001b[0;32melse\u001b[0m\u001b[0;34m:\u001b[0m\u001b[0;34m\u001b[0m\u001b[0;34m\u001b[0m\u001b[0m\n\u001b[1;32m    942\u001b[0m                     \u001b[0mself\u001b[0m\u001b[0;34m.\u001b[0m\u001b[0m_output\u001b[0m\u001b[0;34m.\u001b[0m\u001b[0mextend\u001b[0m\u001b[0;34m(\u001b[0m\u001b[0mjob\u001b[0m\u001b[0;34m.\u001b[0m\u001b[0mget\u001b[0m\u001b[0;34m(\u001b[0m\u001b[0;34m)\u001b[0m\u001b[0;34m)\u001b[0m\u001b[0;34m\u001b[0m\u001b[0;34m\u001b[0m\u001b[0m\n",
            "\u001b[0;32m/usr/local/lib/python3.6/dist-packages/joblib/_parallel_backends.py\u001b[0m in \u001b[0;36mwrap_future_result\u001b[0;34m(future, timeout)\u001b[0m\n\u001b[1;32m    540\u001b[0m         AsyncResults.get from multiprocessing.\"\"\"\n\u001b[1;32m    541\u001b[0m         \u001b[0;32mtry\u001b[0m\u001b[0;34m:\u001b[0m\u001b[0;34m\u001b[0m\u001b[0;34m\u001b[0m\u001b[0m\n\u001b[0;32m--> 542\u001b[0;31m             \u001b[0;32mreturn\u001b[0m \u001b[0mfuture\u001b[0m\u001b[0;34m.\u001b[0m\u001b[0mresult\u001b[0m\u001b[0;34m(\u001b[0m\u001b[0mtimeout\u001b[0m\u001b[0;34m=\u001b[0m\u001b[0mtimeout\u001b[0m\u001b[0;34m)\u001b[0m\u001b[0;34m\u001b[0m\u001b[0;34m\u001b[0m\u001b[0m\n\u001b[0m\u001b[1;32m    543\u001b[0m         \u001b[0;32mexcept\u001b[0m \u001b[0mCfTimeoutError\u001b[0m \u001b[0;32mas\u001b[0m \u001b[0me\u001b[0m\u001b[0;34m:\u001b[0m\u001b[0;34m\u001b[0m\u001b[0;34m\u001b[0m\u001b[0m\n\u001b[1;32m    544\u001b[0m             \u001b[0;32mraise\u001b[0m \u001b[0mTimeoutError\u001b[0m \u001b[0;32mfrom\u001b[0m \u001b[0me\u001b[0m\u001b[0;34m\u001b[0m\u001b[0;34m\u001b[0m\u001b[0m\n",
            "\u001b[0;32m/usr/lib/python3.6/concurrent/futures/_base.py\u001b[0m in \u001b[0;36mresult\u001b[0;34m(self, timeout)\u001b[0m\n\u001b[1;32m    425\u001b[0m                 \u001b[0;32mreturn\u001b[0m \u001b[0mself\u001b[0m\u001b[0;34m.\u001b[0m\u001b[0m__get_result\u001b[0m\u001b[0;34m(\u001b[0m\u001b[0;34m)\u001b[0m\u001b[0;34m\u001b[0m\u001b[0;34m\u001b[0m\u001b[0m\n\u001b[1;32m    426\u001b[0m \u001b[0;34m\u001b[0m\u001b[0m\n\u001b[0;32m--> 427\u001b[0;31m             \u001b[0mself\u001b[0m\u001b[0;34m.\u001b[0m\u001b[0m_condition\u001b[0m\u001b[0;34m.\u001b[0m\u001b[0mwait\u001b[0m\u001b[0;34m(\u001b[0m\u001b[0mtimeout\u001b[0m\u001b[0;34m)\u001b[0m\u001b[0;34m\u001b[0m\u001b[0;34m\u001b[0m\u001b[0m\n\u001b[0m\u001b[1;32m    428\u001b[0m \u001b[0;34m\u001b[0m\u001b[0m\n\u001b[1;32m    429\u001b[0m             \u001b[0;32mif\u001b[0m \u001b[0mself\u001b[0m\u001b[0;34m.\u001b[0m\u001b[0m_state\u001b[0m \u001b[0;32min\u001b[0m \u001b[0;34m[\u001b[0m\u001b[0mCANCELLED\u001b[0m\u001b[0;34m,\u001b[0m \u001b[0mCANCELLED_AND_NOTIFIED\u001b[0m\u001b[0;34m]\u001b[0m\u001b[0;34m:\u001b[0m\u001b[0;34m\u001b[0m\u001b[0;34m\u001b[0m\u001b[0m\n",
            "\u001b[0;32m/usr/lib/python3.6/threading.py\u001b[0m in \u001b[0;36mwait\u001b[0;34m(self, timeout)\u001b[0m\n\u001b[1;32m    293\u001b[0m         \u001b[0;32mtry\u001b[0m\u001b[0;34m:\u001b[0m    \u001b[0;31m# restore state no matter what (e.g., KeyboardInterrupt)\u001b[0m\u001b[0;34m\u001b[0m\u001b[0;34m\u001b[0m\u001b[0m\n\u001b[1;32m    294\u001b[0m             \u001b[0;32mif\u001b[0m \u001b[0mtimeout\u001b[0m \u001b[0;32mis\u001b[0m \u001b[0;32mNone\u001b[0m\u001b[0;34m:\u001b[0m\u001b[0;34m\u001b[0m\u001b[0;34m\u001b[0m\u001b[0m\n\u001b[0;32m--> 295\u001b[0;31m                 \u001b[0mwaiter\u001b[0m\u001b[0;34m.\u001b[0m\u001b[0macquire\u001b[0m\u001b[0;34m(\u001b[0m\u001b[0;34m)\u001b[0m\u001b[0;34m\u001b[0m\u001b[0;34m\u001b[0m\u001b[0m\n\u001b[0m\u001b[1;32m    296\u001b[0m                 \u001b[0mgotit\u001b[0m \u001b[0;34m=\u001b[0m \u001b[0;32mTrue\u001b[0m\u001b[0;34m\u001b[0m\u001b[0;34m\u001b[0m\u001b[0m\n\u001b[1;32m    297\u001b[0m             \u001b[0;32melse\u001b[0m\u001b[0;34m:\u001b[0m\u001b[0;34m\u001b[0m\u001b[0;34m\u001b[0m\u001b[0m\n",
            "\u001b[0;31mKeyboardInterrupt\u001b[0m: "
          ]
        }
      ]
    },
    {
      "cell_type": "markdown",
      "metadata": {
        "id": "CibcFtRIb9Vo"
      },
      "source": [
        "From above elbow plot, it looks like optimal value of K is 7."
      ]
    },
    {
      "cell_type": "code",
      "metadata": {
        "id": "QlmbcUdAcLGT"
      },
      "source": [
        "K = 7"
      ],
      "execution_count": 4,
      "outputs": []
    },
    {
      "cell_type": "markdown",
      "metadata": {
        "id": "2LR3jpXdcP6v"
      },
      "source": [
        "Extracting node Ids."
      ]
    },
    {
      "cell_type": "code",
      "metadata": {
        "id": "yVcxaZpPcSMG"
      },
      "source": [
        "nodeIds = list(node_features_df[\"nodeId\"])"
      ],
      "execution_count": 5,
      "outputs": []
    },
    {
      "cell_type": "markdown",
      "metadata": {
        "id": "taLI3zsWccD3"
      },
      "source": [
        "Function to calculate profile similarities."
      ]
    },
    {
      "cell_type": "code",
      "metadata": {
        "id": "xocDkYZ5ceye"
      },
      "source": [
        "# based on euclidean distance\n",
        "def profSimilarity(nodeId, active_center, active_centers):\n",
        "    nodeId_index = nodeIds.index(nodeId)\n",
        "    ac_index = active_centers.index(active_center)\n",
        "    # setting to 1 to avoid division by zero error\n",
        "    sum = 1\n",
        "    for i in range(0, no_of_features):\n",
        "        sq_diff = (node_features_df[\"feature\"+str(i+1)][nodeId_index] - node_features_df[\"feature\"+str(i+1)][ac_index])**2\n",
        "        sum += sq_diff\n",
        "\n",
        "    # returning inverse as high value means less similarity.\n",
        "    return 1/math.sqrt(sum)"
      ],
      "execution_count": 6,
      "outputs": []
    },
    {
      "cell_type": "markdown",
      "metadata": {
        "id": "vqHeSMu89SOx"
      },
      "source": [
        "Function to determine whether edge exists or not."
      ]
    },
    {
      "cell_type": "code",
      "metadata": {
        "id": "eJ9ny0ws9gYG"
      },
      "source": [
        "def edgeExists(node1, node2):\n",
        "    if signed_network.has_edge(node1, node2) or signed_network.has_edge(node1, node2):\n",
        "        return 1\n",
        "    else:\n",
        "        return 0"
      ],
      "execution_count": 7,
      "outputs": []
    },
    {
      "cell_type": "markdown",
      "metadata": {
        "id": "gANoNpJU9j9G"
      },
      "source": [
        "Function to calculate strength of ties."
      ]
    },
    {
      "cell_type": "code",
      "metadata": {
        "id": "kn6h6_3b9rCj"
      },
      "source": [
        "def strengthOfTies(nodeId, active_center):\n",
        "    sum = 0\n",
        "    for degree in list(dict(signed_network.degree([nodeId, active_center])).values()):\n",
        "        sum+=degree\n",
        "    sum -= 1\n",
        "    return 1/sum"
      ],
      "execution_count": 8,
      "outputs": []
    },
    {
      "cell_type": "markdown",
      "metadata": {
        "id": "aJf4G0uV94NV"
      },
      "source": [
        "Function to find residual area (those neighbors of given nodes that are not in the social circle)."
      ]
    },
    {
      "cell_type": "code",
      "metadata": {
        "id": "5MYK7tmh-Rcb"
      },
      "source": [
        "def residualArea(x,circle):\n",
        "    residual = list(signed_network.neighbors(x))\n",
        "    for re in residual:\n",
        "        if re in circle:\n",
        "            residual.remove(re)\n",
        "    return residual"
      ],
      "execution_count": 9,
      "outputs": []
    },
    {
      "cell_type": "markdown",
      "metadata": {
        "id": "-Wvq3Tow9wOH"
      },
      "source": [
        "Function to calculate degree centrality."
      ]
    },
    {
      "cell_type": "code",
      "metadata": {
        "id": "J-iG_H779z9M"
      },
      "source": [
        "def degreeCentrality(x,circle):\n",
        "    degree = 0\n",
        "    for c in circle:\n",
        "        if signed_network.has_edge(x, c) or signed_network.has_edge(c, x):\n",
        "            degree+=1\n",
        "    # error if len(circle) = 1\n",
        "    if len(circle) ==1:\n",
        "        deg_cen = degree\n",
        "    else:\n",
        "        deg_cen = degree/(len(circle)-1)\n",
        "    return deg_cen"
      ],
      "execution_count": 10,
      "outputs": []
    },
    {
      "cell_type": "markdown",
      "metadata": {
        "id": "eXh0qDD2uqsz"
      },
      "source": [
        "Funtion to discover social circle using K-means."
      ]
    },
    {
      "cell_type": "code",
      "metadata": {
        "id": "U4yRffOauroM"
      },
      "source": [
        "def algorithm1(nodeIds,active_centers, add_trust_ftr = False):\n",
        "    social_circles = {}\n",
        "    nodeIdsWAC = list(set(nodeIds) - set(active_centers))\n",
        "    for i in range (0, K):\n",
        "        active_center = active_centers[i]\n",
        "        social_circles[str(active_center)] = []\n",
        "    for nodeId in nodeIdsWAC:\n",
        "        maxS = 0\n",
        "        # active_center which will be most similar to given node\n",
        "        selectedAC = -1\n",
        "        for i in range (0, K):\n",
        "            active_center = active_centers[i]\n",
        "            p1 = 0 # edge exists from active center to node\n",
        "            p2 = 0 # edge exists from node to active center\n",
        "            p3 = 0\n",
        "            p4 = 0\n",
        "            p5 = 0\n",
        "\n",
        "            p1 = edgeExists(active_center, nodeId)\n",
        "            p2 = edgeExists(active_center, nodeId)\n",
        "\n",
        "            p3 = profSimilarity(nodeId, active_center,active_centers)\n",
        "            p4 = strengthOfTies(nodeId, active_center)\n",
        "            if add_trust_ftr:\n",
        "              p5 = signed_network.get_edge_data(nodeId, active_center, default={'weight':0})['weight']\n",
        "\n",
        "              if maxS < p1 + p2 + p3 + p4 + p4:\n",
        "                  maxS = p1 + p2 + p3 + p4 + p4\n",
        "                  selectedAC = active_center\n",
        "    \n",
        "        if selectedAC != -1:\n",
        "            social_circles[str(selectedAC)].append(nodeId)\n",
        "    return social_circles"
      ],
      "execution_count": 11,
      "outputs": []
    },
    {
      "cell_type": "markdown",
      "metadata": {
        "id": "zjajr_kJ_u9g"
      },
      "source": [
        "Initializing variables for Genetic Algorithm."
      ]
    },
    {
      "cell_type": "code",
      "metadata": {
        "id": "Z-c4Ve-cuwLn"
      },
      "source": [
        "#center selection\n",
        "##population size = 40\n",
        "N = 40\n",
        "population = []\n",
        "random.seed(0)"
      ],
      "execution_count": 12,
      "outputs": []
    },
    {
      "cell_type": "markdown",
      "metadata": {
        "id": "0CCbzxFeB-dB"
      },
      "source": [
        "Generating random population (sets of active centers) randomly."
      ]
    },
    {
      "cell_type": "code",
      "metadata": {
        "id": "jp--Al8dB-6z"
      },
      "source": [
        "for i in range(0,N):\n",
        "    selected = random.sample(nodeIds,K)\n",
        "    if selected not in population:\n",
        "        population.append(selected)"
      ],
      "execution_count": 13,
      "outputs": []
    },
    {
      "cell_type": "markdown",
      "metadata": {
        "id": "ex-6h2lOCUI-"
      },
      "source": [
        "Algorithm2_part1 takes one group of centers and return the fitness of it."
      ]
    },
    {
      "cell_type": "code",
      "metadata": {
        "id": "YN1NzWNiCWt5"
      },
      "source": [
        "def algorithm2_part1(pop_n, add_trust_ftr = False):\n",
        "    Xi = pop_n\n",
        "    Cij = algorithm1(nodeIds,Xi, add_trust_ftr)\n",
        "    \n",
        "    obj=0\n",
        "    for k in range(0,K):\n",
        "        #initialize k=1 and obj=0\n",
        "        xi = Xi[k]\n",
        "        \n",
        "        residual =  residualArea(xi,Cij[str(xi)])\n",
        "        #deg_cen\n",
        "        deg_cen_C = degreeCentrality(xi,Cij[str(xi)])\n",
        "        deg_cen_R = degreeCentrality(xi,residual)\n",
        "        \n",
        "        #prof_sim\n",
        "        prof_sim_C = 0\n",
        "        for c in Cij[str(xi)]:\n",
        "            prof_sim_C+=profSimilarity(c, xi,Xi)\n",
        "        prof_sim_C = prof_sim_C/len(Cij)\n",
        "        \n",
        "        prof_sim_R = 0\n",
        "        for r in residual:\n",
        "            prof_sim_R+=profSimilarity(r, xi,Xi)\n",
        "        if len(residual) != 0:\n",
        "            prof_sim_R = prof_sim_R/len(residual)\n",
        "        \n",
        "        #str_C\n",
        "        str_C = 0\n",
        "        for c in Cij[str(xi)]:\n",
        "            str_C+= strengthOfTies(c, xi)\n",
        "        str_C = str_C/len(Cij)\n",
        "        \n",
        "        str_R = 0\n",
        "        for r in residual:\n",
        "            str_R+= strengthOfTies(r, xi)\n",
        "        if len(residual) != 0:\n",
        "             str_R = str_R/len(residual)\n",
        "\n",
        "        #str_C\n",
        "        trust_C = 0\n",
        "        trust_R = 0\n",
        "        if add_trust_ftr:\n",
        "          for c in Cij[str(xi)]:\n",
        "              trust_C += signed_network.get_edge_data(c, xi, default={'weight':0})['weight']\n",
        "          trust_C = trust_C/len(Cij)\n",
        "          \n",
        "        if add_trust_ftr:  \n",
        "          for r in residual:\n",
        "              trust_R += signed_network.get_edge_data(r, xi, default={'weight':0})['weight']\n",
        "          if len(residual) != 0:\n",
        "              trust_R = trust_R/len(residual)\n",
        "       \n",
        "        \n",
        "        obj+=deg_cen_C - deg_cen_R + prof_sim_C - prof_sim_R + str_C - str_R + trust_C - trust_R\n",
        "    \n",
        "    \n",
        "    return obj/K"
      ],
      "execution_count": 14,
      "outputs": []
    },
    {
      "cell_type": "markdown",
      "metadata": {
        "id": "X3-GomySEjN7"
      },
      "source": [
        "Calculating fitness value of generated population."
      ]
    },
    {
      "cell_type": "code",
      "metadata": {
        "id": "sFJJbfqHEpQ5",
        "colab": {
          "base_uri": "https://localhost:8080/"
        },
        "outputId": "bed7cf20-0019-4f4d-dada-0b0fa9f1a53e"
      },
      "source": [
        "#initialize n=1 and fitness = 0\n",
        "fitness=[]\n",
        "for n in range(35,N):\n",
        "    #pick up the ith row from X_ij and Cij\n",
        "    fit_val = algorithm2_part1(population[n])\n",
        "    print(\"Population # \" + str(n)+ \" fitness value: \" + str(fit_val))\n",
        "    print(population[n])\n",
        "    fitness.append(fit_val)"
      ],
      "execution_count": 15,
      "outputs": [
        {
          "output_type": "stream",
          "text": [
            "Population # 35 fitness value: -0.37308916399491643\n",
            "[14228, 12974, 8164, 45894, 65670, 40812, 20108]\n",
            "Population # 36 fitness value: -0.9269966769203538\n",
            "[37643, 63314, 54258, 66658, 63573, 75834, 23438]\n",
            "Population # 37 fitness value: -0.8274355874590241\n",
            "[56160, 58322, 52282, 15351, 46826, 18803, 45628]\n",
            "Population # 38 fitness value: -1.26387029217507\n",
            "[54894, 29066, 2049, 68216, 6398, 657, 73506]\n",
            "Population # 39 fitness value: -1.178733083799335\n",
            "[64444, 27197, 44442, 36003, 76310, 47496, 47040]\n"
          ],
          "name": "stdout"
        }
      ]
    },
    {
      "cell_type": "code",
      "metadata": {
        "id": "HG_JNDdxQF0c"
      },
      "source": [
        "# Following are the fitness values of other sets in the population:\n",
        "\n",
        "# Population # 0 fitness value: -0.8297814227620216\n",
        "# [64587, 59883, 6270, 24110, 63988, 34268, 19711]\n",
        "# Population # 1 fitness value: -0.892753333951528\n",
        "# [48573, 44222, 21376, 79233, 32003, 44902, 61068]\n",
        "# Population # 2 fitness value: -1.3986965562553748\n",
        "# [52530, 77476, 16376, 37260, 11872, 71229, 32532]\n",
        "# Population # 3 fitness value: -1.2032694655270382\n",
        "# [36343, 64662, 38078, 49657, 46958, 35759, 69911]\n",
        "# Population # 4 fitness value: -0.1567358216720835\n",
        "# [75474, 41699, 52844, 40741, 18143, 21830, 29678]\n",
        "# Population # 5 fitness value: -0.2974090060343233\n",
        "# [58826, 75731, 52830, 24139, 31145, 77312, 10825]\n",
        "# Population # 6 fitness value: -0.6095142037993811\n",
        "# [3261, 54331, 65558, 26313, 51381, 52700, 21231]\n",
        "# Population # 7 fitness value: -0.8684161269242324\n",
        "# [23858, 38555, 3600, 16210, 58956, 27831, 19626]\n",
        "# Population # 8 fitness value: -0.6713172073548062\n",
        "# [22231, 68668, 4455, 30374, 2604, 50934, 56730]\n",
        "# Population # 9 fitness value: -0.2278620754294351\n",
        "# [54997, 283, 26482, 59329, 16491, 79832, 36660]\n",
        "# Population # 10 fitness value: -0.9484045644038728\n",
        "# [80178, 22687, 55944, 42447, 14540, 53054, 64168]\n",
        "# Population # 11 fitness value: -0.4559079681284075\n",
        "# [60363, 63168, 76186, 41677, 62668, 76935, 16687]\n",
        "# Population # 12 fitness value: -0.567304694067499\n",
        "# [56044, 6661, 3778, 28170, 6486, 20810, 69801]\n",
        "# Population # 13 fitness value: -1.014903377726265\n",
        "# [74457, 10533, 6545, 26993, 449, 3138, 445]\n",
        "# Population # 14 fitness value: -0.34510255785608923\n",
        "# [69384, 14394, 74774, 33456, 30070, 40242, 77539]\n",
        "# Population # 15 fitness value: -1.198479747899631\n",
        "# [13709, 48161, 74950, 65113, 55583, 65011, 70614]\n",
        "# Population # 16 fitness value: -0.7893830340507304\n",
        "# [44499, 16623, 35101, 6148, 77303, 13565, 32111]\n",
        "# Population # 17 fitness value: -0.534297401061311\n",
        "# [42992, 80803, 2904, 12224, 26148, 23142, 54434]\n",
        "# Population # 18 fitness value: -0.7870412941653893\n",
        "# [76153, 23314, 13756, 167, 16535, 80062, 30663]\n",
        "# Population # 19 fitness value: -0.9544462392475703\n",
        "# [27966, 67681, 56635, 41123, 24357, 2156, 65159]\n",
        "# Population # 20 fitness value: -1.3841646688894005\n",
        "# [15109, 73620, 74279, 27177, 29549, 45122, 22627]\n",
        "# Population # 21 fitness value: -0.711146318954364\n",
        "# [81812, 43141, 52082, 43136, 15019, 1509, 7081]\n",
        "# Population # 22 fitness value: -1.058545133991866\n",
        "# [76892, 22560, 9998, 33285, 18593, 7871, 72368]\n",
        "# Population # 23 fitness value: -0.720530718407857\n",
        "# [43510, 51743, 48624, 25143, 20999, 75091, 16207]\n",
        "# Population # 24 fitness value: -1.1311737404763846\n",
        "# [35652, 47155, 22602, 30492, 73716, 24479, 58309]\n",
        "# Population # 25 fitness value: -1.193606624411321\n",
        "# [21933, 31133, 32226, 70750, 52934, 71796, 80713]\n",
        "# Population # 26 fitness value: -1.0266556393671091\n",
        "# [53357, 33597, 29610, 43551, 67174, 43117, 33168]\n",
        "# Population # 27 fitness value: -0.9374900676515951\n",
        "# [68098, 55688, 72929, 55926, 40066, 3115, 64673]\n",
        "# Population # 28 fitness value: -0.7008861509350801\n",
        "# [16033, 46987, 6444, 62540, 44122, 45607, 39193]\n",
        "# Population # 29 fitness value: -0.9040547309471483\n",
        "# [36685, 81507, 17580, 67498, 20443, 51982, 82]\n",
        "# Population # 30 fitness value: -0.8551528301854542\n",
        "# [53206, 43337, 14877, 77355, 74458, 20117, 55738]\n",
        "# Population # 31 fitness value: -0.4780769959375987\n",
        "# [37233, 61466, 16181, 39287, 24030, 58641, 64316]\n",
        "# Population # 32 fitness value: -0.1672921801727508\n",
        "# [61369, 22042, 2679, 28639, 80884, 49334, 19582]\n",
        "# Population # 33 fitness value: -0.5599366446074013\n",
        "# [35554, 28756, 59676, 39573, 62423, 1197, 6962]\n",
        "# Population # 34 fitness value: -0.7398974285866766\n",
        "# [44393, 81247, 25295, 14629, 25901, 46698, 10733]"
      ],
      "execution_count": 16,
      "outputs": []
    },
    {
      "cell_type": "markdown",
      "metadata": {
        "id": "MnUnMfxOCkwM"
      },
      "source": [
        "Functions to check the format of generated Q offspring (new set of active centers generated after crossover and mutation)."
      ]
    },
    {
      "cell_type": "code",
      "metadata": {
        "id": "eARYh3tyC46q"
      },
      "source": [
        "def check(matrix):\n",
        "    for i in matrix:\n",
        "        if len(i)!=8:\n",
        "            print(\"error in row: \",i)"
      ],
      "execution_count": null,
      "outputs": []
    },
    {
      "cell_type": "markdown",
      "metadata": {
        "id": "3FdeFeoMDE4y"
      },
      "source": [
        "Applying Crossover and mutation operation to determine best set of active centers."
      ]
    },
    {
      "cell_type": "code",
      "metadata": {
        "id": "CdY5gbxBDRgv"
      },
      "source": [
        "# Part two\n",
        "##Augmented matrix Q containing fitness value for each set of active center\n",
        "Q=[]\n",
        "for i in range(0,len(fitness)):\n",
        "    Qi = population[i].copy()\n",
        "    Qi.append(fitness[i])\n",
        "    Q.append(Qi)"
      ],
      "execution_count": null,
      "outputs": []
    },
    {
      "cell_type": "code",
      "metadata": {
        "id": "Meo1NU4dJTkf"
      },
      "source": [
        "# re-sort in descending order\n",
        "# since there are K elements in each set then we have fitness value at K index\n",
        "fit_val_index = K\n",
        "Q_desc= sorted(Q,key=lambda x:x[fit_val_index],reverse=True)"
      ],
      "execution_count": null,
      "outputs": []
    },
    {
      "cell_type": "markdown",
      "metadata": {
        "id": "K_PeJs18RiUt"
      },
      "source": [
        "Locally optimum version of GA (convergence quickly but doesn't gurantee best set of active centers w.r.t global context)."
      ]
    },
    {
      "cell_type": "code",
      "metadata": {
        "id": "zw6M68sMRNEs"
      },
      "source": [
        "def run_local_optimum_ga(add_trust_ftr = False):\n",
        "\n",
        "    print(\"Running local optimum Genetic Algorithm for best set of active centers.\")\n",
        "    count = 0\n",
        "    iteration = 0\n",
        "    Q_desc_temp = Q_desc.copy()\n",
        "    max_fit_yet = Q_desc_temp[0][-1]\n",
        "    current_best_set = []\n",
        "    current_best_fit = 0\n",
        "    print(\"Current best fitness value: \",str(Q_desc_temp[0][-1]))\n",
        "    print(\"Current best set of Active Centers:\")\n",
        "    print(Q_desc_temp[0][:K])\n",
        "    \n",
        "    while count < 1000000:\n",
        "\n",
        "        while iteration <10:\n",
        "\n",
        "            #Select two parent chromosomes let say X1 and X2 from a population with high fitness value\n",
        "            #########This trunk try to find the best X after crossover###################################################\n",
        "            \n",
        "            Q1 = Q_desc_temp[0]\n",
        "            Q2 = Q_desc_temp[1]\n",
        "\n",
        "            x1 = Q1[:-1]\n",
        "            x1_fit = Q1[-1]\n",
        "                \n",
        "            x2 = Q2[:-1]\n",
        "            x2_fit = Q2[-1]\n",
        "\n",
        "            #crossover_probability = 0.8\n",
        "            if random.randint(0, 10) < 9:     \n",
        "                randc_pos = random.randint(1,K)\n",
        "            \n",
        "                x1_new = x1[:randc_pos]+x2[randc_pos:]\n",
        "                x2_new = x2[:randc_pos]+x1[randc_pos:]\n",
        "                \n",
        "                x1_new_fit = algorithm2_part1(x1_new, add_trust_ftr)\n",
        "                x2_new_fit = algorithm2_part1(x2_new, add_trust_ftr)\n",
        "\n",
        "            else:\n",
        "                x1_new = x1\n",
        "                x2_new = x2\n",
        "                \n",
        "                x1_new_fit = x1_fit\n",
        "                x2_new_fit = x2_fit\n",
        "\n",
        "            max_fit = max(x1_new_fit,x2_new_fit)\n",
        "                \n",
        "            if x1_new_fit == max_fit:\n",
        "                x = x1_new\n",
        "            elif x2_new_fit == max_fit:\n",
        "                x = x2_new\n",
        "\n",
        "            #mutation\n",
        "            #generate a random position randm_pos [1,k] and rand_id [1,n]\n",
        "            \n",
        "            #mutation_probability = 0.2\n",
        "            if random.randint(0, 10) < 3:     \n",
        "                randm_pos = random.randint(0,K)\n",
        "                rand_id = random.choice(nodeIds)\n",
        "                \n",
        "                if rand_id in (x[:randm_pos]+x[randm_pos:]):\n",
        "                    x_new = x\n",
        "                else:\n",
        "                    x_new = x[:randm_pos]+[rand_id]+x[randm_pos:]\n",
        "                \n",
        "                x_new_fit = algorithm2_part1(x_new, add_trust_ftr)\n",
        "\n",
        "            else:\n",
        "              x_new = x\n",
        "              x_new_fit = max_fit\n",
        "              \n",
        "            # replacing the set with least fit value with the new set\n",
        "            if x_new_fit > Q_desc_temp[-1][-1]:\n",
        "                Q_desc_temp[-1] = x_new + [x_new_fit]\n",
        "                Q_desc_temp = sorted(Q_desc_temp,key=lambda x:x[-1],reverse=True)\n",
        "            \n",
        "            if Q_desc_temp[0][-1] > max_fit_yet:\n",
        "                max_fit_yet = Q_desc_temp[0][-1]\n",
        "                iteration = 0\n",
        "            else:\n",
        "                iteration +=1\n",
        "\n",
        "\n",
        "        if current_best_fit < Q_desc_temp[0][-1]:\n",
        "            print(\"Current best fitness value: \",str(Q_desc_temp[0][-1]))\n",
        "            print(\"Current best set of Active Centers:\")\n",
        "            print(Q_desc_temp[0][:K])\n",
        "            current_best_set = Q_desc_temp[0][:K]\n",
        "            current_best_fit = Q_desc_temp[0][-1]\n",
        "        \n",
        "        count+=1\n",
        "    return current_best_set\n",
        " \n",
        "  \n"
      ],
      "execution_count": null,
      "outputs": []
    },
    {
      "cell_type": "code",
      "metadata": {
        "id": "wl9oGeFWdWQB"
      },
      "source": [
        "def parallel_insider_algorithm2_part2(i,Q_desc,K,nodeIds,signed_network,node_features_df, add_trust_ftr = False):\n",
        "    import random\n",
        "    #print(i)\n",
        "    Q_high = list(filter(lambda x:x[K]>1,Q_desc))\n",
        "    if len(Q_high) >10:\n",
        "        Q_high = Q_high[:10]\n",
        "\n",
        "    #print(Q_high)\n",
        "    Q1 = random.choice(Q_high)\n",
        "\n",
        "    #print(Q1,Q2)\n",
        "    x1 = Q1[:-1]\n",
        "    x1_fit = Q1[-1]\n",
        "    Q2 = random.choice(Q_high)\n",
        "    x2 = Q2[:-1]\n",
        "    x2_fit = Q2[-1]\n",
        "    while x2 == x1:\n",
        "        Q2 = random.choice(Q_high)\n",
        "        x2 = Q2[:-1]\n",
        "        x2_fit = Q2[-1]\n",
        "    #random.seed(0)\n",
        "    randc_pos = random.randint(1,K)\n",
        "\n",
        "    x1_new = x1[:randc_pos]+x2[randc_pos:]\n",
        "    x2_new = x2[:randc_pos]+x1[randc_pos:]\n",
        "\n",
        "    x1_new_fit = algorithm2_part1(x1_new, add_trust_ftr)\n",
        "    x2_new_fit = algorithm2_part1(x2_new, add_trust_ftr)\n",
        "\n",
        "    max_fit = max(x1_fit,x2_fit,x1_new_fit,x2_new_fit)\n",
        "    value=\"null\"\n",
        "    if(x1_fit == max_fit):\n",
        "        x = x1\n",
        "        value=\"x1\"\n",
        "        #print(\"x1 is the best\")\n",
        "    elif (x2_fit == max_fit):\n",
        "        x = x2\n",
        "        value=\"x2\"\n",
        "        #print(\"x2 is the best\")\n",
        "    elif (x1_new_fit == max_fit):\n",
        "        x = x1_new\n",
        "        value=\"x1_new\"\n",
        "        #print(\"x1 new is the best\")\n",
        "    else:\n",
        "        x = x2_new\n",
        "        value=\"x2_new\"\n",
        "        #print(\"x2 new is the best\")\n",
        "\n",
        "###################original thought###################################        \n",
        "#         x1 = Q_desc[i][:-1]\n",
        "#         x2 = Q_desc[i+1][:-1]\n",
        "\n",
        "#         #cross over\n",
        "#         #generate a random int randc_pos\n",
        "#         random.seed(0)\n",
        "#         randc_pos = randint(1,K)\n",
        "\n",
        "#         x1_new = x1[:randc_pos]+x2[randc_pos:]\n",
        "#         x2_new = x2[:randc_pos]+x1[randc_pos:]\n",
        "#########################################################\n",
        "    #mutation\n",
        "    #generate a random position randm_pos [1,k] and rand_id [1,n]\n",
        "    randm_pos = random.randint(1,K)\n",
        "    rand_id = random.choice(nodeIds)\n",
        "\n",
        "    #x = x1_new\n",
        "    #x = Q_desc[i]\n",
        "    #repair chomorosome if values of two alleles of a chromosome occurs\n",
        "    if rand_id in (x[:randm_pos-1]+x[randm_pos:]):\n",
        "        x_new =x\n",
        "    else:\n",
        "        x_new = x[:randm_pos-1]+[rand_id]+x[randm_pos:]\n",
        "        \n",
        "        #if len(x_new) !=7:\n",
        "        #    \n",
        "        #    print(\"In x_new i =\",i,\"random pos \",randm_pos,\" randc pos \",\n",
        "        #          randc_pos,\"x has more \", x,\"x takes the value\",value,\n",
        "        #          \"x2: \", x2, \"Q2:\", Q2,\n",
        "        #         \"x1:\", x1)\n",
        "\n",
        "    x_new_fit = algorithm2_part1(x_new, add_trust_ftr)\n",
        "    #print(\"This is x_new_fit:\", str(x_new_fit),\"This is Q_desc[i][-1]\",str(Q_desc[i][-1]))\n",
        "    #print(i,\": end\")\n",
        "    if (x_new_fit > Q_desc[i][-1]):\n",
        "        #print(\"Fit better: i is \",i,\" \", x_new + [x_new_fit])\n",
        "        return x_new + [x_new_fit]\n",
        "    else:\n",
        "        #print(\"Orgin better: i is \",i,\" \", Q_desc[i])\n",
        "        return Q_desc[i]"
      ],
      "execution_count": null,
      "outputs": []
    },
    {
      "cell_type": "markdown",
      "metadata": {
        "id": "7M8wbmtERt00"
      },
      "source": [
        "Globally optimum version of GA (gurantees best set of active centers but convergences slowly)."
      ]
    },
    {
      "cell_type": "code",
      "metadata": {
        "id": "ubior0VNRyD6"
      },
      "source": [
        "from multiprocessing import Pool\n",
        "\n",
        "def run_global_optimum_ga(add_trust_ftr = False):\n",
        "    iteration = 0\n",
        "    Q_desc_temp = Q_desc.copy()\n",
        "    Q_desc_new_global=[]\n",
        "    pre_fit = 0\n",
        "    while iteration <10:\n",
        "        if (Q_desc_new_global != []):\n",
        "            Q_desc_temp = Q_desc_new_global\n",
        "            pre_fit = Q_desc_temp[0][-1]\n",
        "            Q_desc_new_global = []\n",
        "        pool = Pool()\n",
        "        result_async = [pool.apply_async(parallel_insider_algorithm2_part2, \n",
        "                                         args = (i,Q_desc_temp,K,nodeIds,signed_network,node_features_df, add_trust_ftr)) for i in range(N)] \n",
        "        Q_desc_new_global = [r.get() for r in result_async] \n",
        "        Q_desc_new_global=sorted(Q_desc_new_global,key=lambda x:x[-1],reverse=True)\n",
        "        check(Q_desc_new_global)\n",
        "        #print(Q_desc_new_global)\n",
        "        if Q_desc_new_global[0][-1] == pre_fit:\n",
        "            iteration +=1\n",
        "        else:\n",
        "            iteration=1\n",
        "        print(\"Best fitness value is \",str(Q_desc_new_global[0][-1]),\", and iteration currently is \", str(iteration))\n",
        "        print(Q_desc_new_global[0][:K])\n",
        "    \n",
        "    return Q_desc_new_global[0][:K]\n",
        "\n",
        "run_global_optimum_ga()"
      ],
      "execution_count": null,
      "outputs": []
    },
    {
      "cell_type": "markdown",
      "metadata": {
        "id": "rhZh8XbA0lKV"
      },
      "source": [
        "Getting locally optimum social circles without considering link/trust feature."
      ]
    },
    {
      "cell_type": "code",
      "metadata": {
        "id": "bjiGz4oC0kE-",
        "colab": {
          "base_uri": "https://localhost:8080/"
        },
        "outputId": "656e5f43-d8f2-462b-bb9e-09ad15cb923f"
      },
      "source": [
        "ac_wo_trust = run_local_optimum_ga()\n",
        "print(\"Best Set of Active Centers without trust feature:\")\n",
        "print(ac_wo_trust)\n",
        "print(\"Generating Social Circles.\")\n",
        "sc_wo_trust = algorithm1(nodeIds, ac_wo_trust)\n",
        "print(\"Social Circles without trust:\")\n",
        "print(sc_wo_trust)"
      ],
      "execution_count": null,
      "outputs": [
        {
          "output_type": "stream",
          "text": [
            "Running local optimum Genetic Algorithm for best set of active centers.\n",
            "Current best fitness value:  1.386046322876472\n",
            "Current best set of Active Centers:\n",
            "[75474, 41699, 52844, 40741, 18143, 21830, 29678]\n",
            "Current best fitness value:  1.5301978209878595\n",
            "Current best set of Active Centers:\n",
            "[75474, 62673, 41699, 52844, 40741, 18143, 21830]\n",
            "Best Set of Active Centers without trust feature:\n",
            "[75474, 62673, 41699, 52844, 40741, 18143, 21830]\n",
            "Generating Social Circles.\n",
            "Social Circles without trust:\n",
            "{'75474': [58733, 75473, 78180], '62673': [25341, 34584], '41699': [15933, 19612], '52844': [7424], '40741': [1336], '18143': [1499], '21830': [91, 7410]}\n"
          ],
          "name": "stdout"
        }
      ]
    },
    {
      "cell_type": "markdown",
      "metadata": {
        "id": "NuWuEYUP-IGG"
      },
      "source": [
        "Function to calculate net values of the properties (degree centrality, strenght of ties, profile similarity, objective function value)."
      ]
    },
    {
      "cell_type": "code",
      "metadata": {
        "id": "fhtSwEwsCSdp"
      },
      "source": [
        "def get_net_values(social_circle, active_centers):\n",
        "  net_deg_cen_C = 0\n",
        "  net_deg_cen_R = 0\n",
        "  net_str_C = 0\n",
        "  net_str_R = 0\n",
        "  net_prof_sim_C = 0\n",
        "  net_prof_sim_R = 0\n",
        "  net_obj_val = 0\n",
        "\n",
        "  for active_center in social_circle:\n",
        "    circle = social_circle[active_center]\n",
        "    \n",
        "    residual =  residualArea(int(active_center), circle)     \n",
        "    \n",
        "    deg_cen_C = degreeCentrality(int(active_center),circle)\n",
        "    net_deg_cen_C += deg_cen_C\n",
        "    deg_cen_R = degreeCentrality(int(active_center),residual)\n",
        "    net_deg_cen_R += deg_cen_R \n",
        "    \n",
        "    prof_sim_C = 0\n",
        "    for c in circle:\n",
        "      prof_sim_C +=profSimilarity(c, int(active_center), active_centers)\n",
        "    prof_sim_C = prof_sim_C/len(circle)\n",
        "    net_prof_sim_C += prof_sim_C\n",
        "\n",
        "    prof_sim_R = 0\n",
        "    for r in residual:\n",
        "      prof_sim_R += profSimilarity(r, int(active_center), active_centers)\n",
        "    if len(residual) != 0:\n",
        "      prof_sim_R = prof_sim_R/len(residual)\n",
        "    net_prof_sim_R += prof_sim_R\n",
        "              \n",
        "    str_C = 0\n",
        "    for c in circle:\n",
        "      str_C += strengthOfTies(c, int(active_center))\n",
        "    str_C = str_C/len(circle)\n",
        "    net_str_C += str_C\n",
        "\n",
        "    str_R = 0\n",
        "    for r in residual:\n",
        "      str_R+= strengthOfTies(r, int(active_center))\n",
        "    if len(residual) != 0:\n",
        "      str_R = str_R/len(residual)\n",
        "    net_str_R += str_R\n",
        "    net_obj_val += deg_cen_C - deg_cen_R + prof_sim_C - prof_sim_R + str_C - str_R\n",
        "  \n",
        "  net_deg_cen_C /= K\n",
        "  net_deg_cen_R /= K\n",
        "  net_str_C /= K\n",
        "  net_str_R /= K\n",
        "  net_prof_sim_C /= K\n",
        "  net_prof_sim_R /= K\n",
        "  net_obj_val /= K\n",
        "\n",
        "  return net_deg_cen_C, net_deg_cen_R, net_str_C, net_str_R, net_prof_sim_C, net_prof_sim_R, net_obj_val"
      ],
      "execution_count": null,
      "outputs": []
    },
    {
      "cell_type": "markdown",
      "metadata": {
        "id": "HrCuIWaCDhyT"
      },
      "source": [
        "Getting net values for social circles without trust feature."
      ]
    },
    {
      "cell_type": "code",
      "metadata": {
        "id": "qZza2GbsDmkF",
        "colab": {
          "base_uri": "https://localhost:8080/"
        },
        "outputId": "f1f7300c-d174-4fec-f21c-3648b2a2e240"
      },
      "source": [
        "net_deg_cen_C, net_deg_cen_R, net_str_C, net_str_R, net_prof_sim_C, net_prof_sim_R, net_obj_val = get_net_values(sc_wo_trust, ac_wo_trust)\n",
        "print(\"Net Degree Centrality for circle without trust feature: \" + str(net_deg_cen_C))\n",
        "print(\"Net Degree Centrality for residual without trust feature: \" + str(net_deg_cen_R))\n",
        "print(\"Net Strength of ties for circle without trust feature: \" + str(net_str_C))\n",
        "print(\"Net Strength of ties for residual without trust feature: \" + str(net_str_R))\n",
        "print(\"Net Pofile similarity for circle without trust feature: \" + str(net_prof_sim_C))\n",
        "print(\"Net Pofile similarity for residual without trust feature: \" + str(net_prof_sim_R))\n",
        "print(\"Net Objective value without trust feature: \" + str(net_obj_val))"
      ],
      "execution_count": null,
      "outputs": [
        {
          "output_type": "stream",
          "text": [
            "Net Degree Centrality for circle without trust feature: 1.5\n",
            "Net Degree Centrality for residual without trust feature: 0.0\n",
            "Net Strength of ties for circle without trust feature: 0.044608441491614095\n",
            "Net Strength of ties for residual without trust feature: 0.0\n",
            "Net Pofile similarity for circle without trust feature: 0.05781251509061786\n",
            "Net Pofile similarity for residual without trust feature: 0.0\n",
            "Net Objective value without trust feature: 1.602420956582232\n"
          ],
          "name": "stdout"
        }
      ]
    },
    {
      "cell_type": "markdown",
      "metadata": {
        "id": "lQ5ph0yuZQLE"
      },
      "source": [
        "Getting locally optimum social circles by considering link/trust feature."
      ]
    },
    {
      "cell_type": "code",
      "metadata": {
        "id": "yXlkyyHJZTad",
        "colab": {
          "base_uri": "https://localhost:8080/"
        },
        "outputId": "10238de9-2026-4fcc-e3ba-8b29f848701d"
      },
      "source": [
        "ac_w_trust = run_local_optimum_ga(add_trust_ftr=True)\n",
        "print(\"Best Set of Active Centers with trust feature:\")\n",
        "print(ac_w_trust)\n",
        "print(\"Generating Social Circles.\")\n",
        "sc_w_trust = algorithm1(nodeIds, ac_w_trust)\n",
        "print(\"Social Circles with trust:\")\n",
        "print(sc_w_trust)"
      ],
      "execution_count": null,
      "outputs": [
        {
          "output_type": "stream",
          "text": [
            "Running local optimum Genetic Algorithm for best set of active centers.\n",
            "Current best fitness value:  1.386046322876472\n",
            "Current best set of Active Centers:\n",
            "[75474, 41699, 52844, 40741, 18143, 21830, 29678]\n",
            "Current best fitness value:  1.6346241825277488\n",
            "Current best set of Active Centers:\n",
            "[75474, 63168, 76186, 41677, 62668, 76935, 16687]\n",
            "Best Set of Active Centers with trust feature:\n",
            "[75474, 63168, 76186, 41677, 62668, 76935, 16687]\n",
            "Generating Social Circles.\n",
            "Social Circles with trust:\n",
            "{'75474': [58733, 75473, 78180], '63168': [19690, 50066, 78794], '76186': [1125, 5379], '41677': [35410], '62668': [34584, 39579], '76935': [7136], '16687': [4571, 13437, 35109]}\n"
          ],
          "name": "stdout"
        }
      ]
    },
    {
      "cell_type": "markdown",
      "metadata": {
        "id": "1u2lCaFPZszT"
      },
      "source": [
        "Getting net values for social circles with trust feature."
      ]
    },
    {
      "cell_type": "code",
      "metadata": {
        "id": "_uE-5LEuZud4",
        "colab": {
          "base_uri": "https://localhost:8080/"
        },
        "outputId": "166239eb-0c32-4c82-e55a-080cb0608f99"
      },
      "source": [
        "net_deg_cen_C_trust, net_deg_cen_R_trust, net_str_C_trust, net_str_R_trust, net_prof_sim_C_trust, net_prof_sim_R_trust, net_obj_val_trust = get_net_values(sc_w_trust, ac_w_trust)\n",
        "print(\"Net Degree Centrality for circle with trust feature: \" + str(net_deg_cen_C_trust))\n",
        "print(\"Net Degree Centrality for residual with trust feature: \" + str(net_deg_cen_R_trust))\n",
        "print(\"Net Strength of ties for circle with trust feature: \" + str(net_str_C_trust))\n",
        "print(\"Net Strength of ties for residual with trust feature: \" + str(net_str_R_trust))\n",
        "print(\"Net Pofile similarity for circle with trust feature: \" + str(net_prof_sim_C_trust))\n",
        "print(\"Net Pofile similarity for residual with trust feature: \" + str(net_prof_sim_R_trust))\n",
        "print(\"Net Objective value with trust feature: \" + str(net_obj_val_trust))"
      ],
      "execution_count": null,
      "outputs": [
        {
          "output_type": "stream",
          "text": [
            "Net Degree Centrality for circle with trust feature: 1.5\n",
            "Net Degree Centrality for residual with trust feature: 0.14285714285714285\n",
            "Net Strength of ties for circle with trust feature: 0.07312413559202613\n",
            "Net Strength of ties for residual with trust feature: 0.005291005291005291\n",
            "Net Pofile similarity for circle with trust feature: 0.05689017155358667\n",
            "Net Pofile similarity for residual with trust feature: 0.007475009443484601\n",
            "Net Objective value with trust feature: 1.47439114955398\n"
          ],
          "name": "stdout"
        }
      ]
    },
    {
      "cell_type": "markdown",
      "metadata": {
        "id": "OEc9UV4RNry-"
      },
      "source": [
        "Functions for measuring evaluation measures to assess goodness of clusters."
      ]
    },
    {
      "cell_type": "code",
      "metadata": {
        "id": "ioMLnSj_OGkZ"
      },
      "source": [
        "from sklearn import metrics\n",
        "from sklearn.metrics import pairwise_distances\n",
        "from sklearn import datasets\n",
        "import numpy as np\n",
        "from sklearn.cluster import KMeans\n",
        "\n",
        "def silhouetteCoefficient(X, labels):\n",
        "  return metrics.silhouette_score(X, labels, metric='euclidean')\n",
        "\n",
        "def calinskiHarabasz(X, labels):\n",
        "  return metrics.calinski_harabasz_score(X, labels)\n",
        "\n",
        "def daviesBouldin(X, labels):\n",
        "  return metrics.davies_bouldin_score(X, labels)\n"
      ],
      "execution_count": null,
      "outputs": []
    },
    {
      "cell_type": "markdown",
      "metadata": {
        "id": "_EpBg0z0xf-c"
      },
      "source": [
        "Preprocessing social circles data for comparison."
      ]
    },
    {
      "cell_type": "code",
      "metadata": {
        "id": "rHS16ceQxoM3"
      },
      "source": [
        "nodes_ftrs_wo_trust = []\n",
        "nodes_clstr_lbls_wo_trust = []\n",
        "\n",
        "for ac in sc_wo_trust:\n",
        "  members = sc_wo_trust[ac]\n",
        "  #extracting features\n",
        "  ac_features = node_features_df[node_features_df['nodeId'] == int(ac)][0:].values[0][1:]\n",
        "  nodes_ftrs_wo_trust.append(ac_features)\n",
        "  nodes_clstr_lbls_wo_trust.append(int(ac))\n",
        "  for member in members:\n",
        "    # extracting feature values for each member in social circle\n",
        "    node_ftrs = node_features_df[node_features_df['nodeId'] == member][0:].values[0][1:]\n",
        "    nodes_ftrs_wo_trust.append(node_ftrs)\n",
        "    nodes_clstr_lbls_wo_trust.append(int(ac))\n",
        "\n",
        "\n",
        "nodes_ftrs_w_trust = []\n",
        "nodes_clstr_lbls_w_trust = []\n",
        "\n",
        "for ac in sc_w_trust:\n",
        "  members = sc_w_trust[ac]\n",
        "  #extracting features\n",
        "  ac_features = list(node_features_df[node_features_df['nodeId'] == int(ac)][0:].values[0][1:])\n",
        "  nodes_ftrs_w_trust.append(ac_features)\n",
        "  nodes_clstr_lbls_w_trust.append(int(ac))\n",
        "  for member in members:\n",
        "    # extracting feature values for each member in social circle\n",
        "    node_ftrs = list(node_features_df[node_features_df['nodeId'] == member][0:].values[0][1:])\n",
        "    nodes_ftrs_w_trust.append(node_ftrs)\n",
        "    nodes_clstr_lbls_w_trust.append(int(ac))\n",
        "\n"
      ],
      "execution_count": null,
      "outputs": []
    },
    {
      "cell_type": "markdown",
      "metadata": {
        "id": "aXixEFKfOPv3"
      },
      "source": [
        "Comparing clusters formed with trust feature and without trust feature."
      ]
    },
    {
      "cell_type": "code",
      "metadata": {
        "colab": {
          "base_uri": "https://localhost:8080/"
        },
        "id": "tYKEXriDOePD",
        "outputId": "e5cc6860-d21b-4192-ec5e-20d3edc1eddb"
      },
      "source": [
        "print(\"Silhouette Coefficient Scores:\")\n",
        "print(\"With trust feature: \" + str(silhouetteCoefficient(nodes_ftrs_w_trust, nodes_clstr_lbls_w_trust)))\n",
        "print(\"Without trust feature: \" + str(silhouetteCoefficient(nodes_ftrs_wo_trust, nodes_clstr_lbls_wo_trust)))\n",
        "\n",
        "print(\"\\nCalinski Harabasz Scores:\")\n",
        "print(\"With trust feature: \" + str(calinskiHarabasz(nodes_ftrs_w_trust, nodes_clstr_lbls_w_trust)))\n",
        "print(\"Without trust feature: \" + str(calinskiHarabasz(nodes_ftrs_wo_trust, nodes_clstr_lbls_wo_trust)))\n",
        "\n",
        "print(\"\\nDavies Bouldin Scores:\")\n",
        "print(\"With trust feature: \" + str(daviesBouldin(nodes_ftrs_w_trust, nodes_clstr_lbls_w_trust)))\n",
        "print(\"Without trust feature: \" + str(daviesBouldin(nodes_ftrs_wo_trust, nodes_clstr_lbls_wo_trust)))"
      ],
      "execution_count": null,
      "outputs": [
        {
          "output_type": "stream",
          "text": [
            "Silhouette Coefficient Scores:\n",
            "With trust feature: -0.23055293809781804\n",
            "Without trust feature: -0.18052299652479942\n",
            "\n",
            "Calinski Harabasz Scores:\n",
            "With trust feature: 1.1261626835447638\n",
            "Without trust feature: 1.057123206881777\n",
            "\n",
            "Davies Bouldin Scores:\n",
            "With trust feature: 1.6691034253668084\n",
            "Without trust feature: 2.942068361538955\n"
          ],
          "name": "stdout"
        }
      ]
    }
  ]
}