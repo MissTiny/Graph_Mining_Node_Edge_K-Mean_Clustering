{
  "nbformat": 4,
  "nbformat_minor": 0,
  "metadata": {
    "colab": {
      "name": "GA-K-means-clustering.ipynb",
      "provenance": [],
      "collapsed_sections": [],
      "authorship_tag": "ABX9TyPPCWuwmQ/TBVGZCSOHi7R5",
      "include_colab_link": true
    },
    "kernelspec": {
      "display_name": "Python 3",
      "name": "python3"
    }
  },
  "cells": [
    {
      "cell_type": "markdown",
      "metadata": {
        "id": "view-in-github",
        "colab_type": "text"
      },
      "source": [
        "<a href=\"https://colab.research.google.com/github/MissTiny/Graph_Mining_Node_Edge_K-Mean_Clustering/blob/main/GA_K_means_clustering.ipynb\" target=\"_parent\"><img src=\"https://colab.research.google.com/assets/colab-badge.svg\" alt=\"Open In Colab\"/></a>"
      ]
    },
    {
      "cell_type": "markdown",
      "metadata": {
        "id": "xZFU01QtJgiF"
      },
      "source": [
        "Imports."
      ]
    },
    {
      "cell_type": "code",
      "metadata": {
        "id": "S7t5BhNIJkBq"
      },
      "source": [
        "import json\n",
        "import numpy as np\n",
        "import pandas as pd\n",
        "import networkx as nx\n",
        "\n",
        "from sklearn.preprocessing import MinMaxScaler\n",
        "from sklearn.cluster import KMeans\n",
        "import matplotlib.pyplot as plt\n",
        "import random\n",
        "import math"
      ],
      "execution_count": 1,
      "outputs": []
    },
    {
      "cell_type": "markdown",
      "metadata": {
        "id": "IeXu_OCuJn2U"
      },
      "source": [
        "Reading Signed network."
      ]
    },
    {
      "cell_type": "code",
      "metadata": {
        "id": "1WuvUw0nJtSO"
      },
      "source": [
        "signed_network = nx.read_weighted_edgelist('soc-sign-Slashdot090221.txt.gz', comments='#', create_using=nx.DiGraph(), nodetype = int)"
      ],
      "execution_count": 2,
      "outputs": []
    },
    {
      "cell_type": "markdown",
      "metadata": {
        "id": "YbivohZaJywJ"
      },
      "source": [
        "Reading node features."
      ]
    },
    {
      "cell_type": "code",
      "metadata": {
        "id": "mV5BVQQIJ4eV"
      },
      "source": [
        "node_features ={}\n",
        "no_of_features = 100\n",
        "line_no = 0\n",
        "with open(\"embedded-soc-sign-slashdot\") as nf: \n",
        "    Lines = nf.readlines() \n",
        "    for line in Lines:\n",
        "        #skip first line\n",
        "        if line_no > 0:\n",
        "            # splitting by space\n",
        "            values = line.split()\n",
        "            values = values[:no_of_features+1]\n",
        "            index = 0\n",
        "            # reading node features\n",
        "            for val in values:\n",
        "                if index == 0:\n",
        "                    # reading nodeIds for first time\n",
        "                    if line_no == 1:\n",
        "                        node_features[\"nodeId\"] = [int(val)]\n",
        "                    else:\n",
        "                        node_features[\"nodeId\"].append(int(val))\n",
        "                \n",
        "                elif index > 0:\n",
        "                    # reading features for the first time\n",
        "                    if line_no == 1:\n",
        "                        node_features[\"feature\"+str(index)] = [float(val)]\n",
        "                    else:\n",
        "                        node_features[\"feature\"+str(index)].append(float(val))\n",
        "                index+=1\n",
        "        line_no += 1\n",
        "\n",
        "node_features_df = pd.DataFrame(node_features)"
      ],
      "execution_count": 3,
      "outputs": []
    },
    {
      "cell_type": "markdown",
      "metadata": {
        "id": "fm--_XPqS770"
      },
      "source": [
        "Determining optimal number of clusters or number of active centers using elbow method."
      ]
    },
    {
      "cell_type": "code",
      "metadata": {
        "id": "iMdq35C1S9Yg",
        "outputId": "40b52e37-77fb-4524-ecb7-ed1a9c8a0b4e",
        "colab": {
          "base_uri": "https://localhost:8080/",
          "height": 295
        }
      },
      "source": [
        "# To give equal importance to all features, we need to scale the continuous features. \n",
        "# We will be using scikit-learn’s MinMaxScaler as the feature matrix is a mix of binary and continuous features . \n",
        "mms = MinMaxScaler()\n",
        "mms.fit(node_features_df)\n",
        "node_features_df_transformed = mms.transform(node_features_df)\n",
        "\n",
        "Sum_of_squared_distances = []\n",
        "K = range(1,50)\n",
        "for k in K:\n",
        "    km = KMeans(n_clusters=k, n_jobs=-1)\n",
        "    km = km.fit(node_features_df_transformed)\n",
        "    Sum_of_squared_distances.append(km.inertia_)\n",
        "\n",
        "plt.plot(K, Sum_of_squared_distances, 'bx-')\n",
        "plt.xlabel('k')\n",
        "plt.ylabel('Sum_of_squared_distances')\n",
        "plt.title('Elbow Method For Optimal k')\n",
        "plt.show()"
      ],
      "execution_count": 4,
      "outputs": [
        {
          "output_type": "display_data",
          "data": {
            "image/png": "[encoded data removed]",
            "text/plain": [
              "<Figure size 432x288 with 1 Axes>"
            ]
          },
          "metadata": {
            "tags": [],
            "needs_background": "light"
          }
        }
      ]
    },
    {
      "cell_type": "markdown",
      "metadata": {
        "id": "CibcFtRIb9Vo"
      },
      "source": [
        "From above elbow plot, it looks like optimal value of K is 7."
      ]
    },
    {
      "cell_type": "code",
      "metadata": {
        "id": "QlmbcUdAcLGT"
      },
      "source": [
        "K = 250"
      ],
      "execution_count": 11,
      "outputs": []
    },
    {
      "cell_type": "markdown",
      "metadata": {
        "id": "2LR3jpXdcP6v"
      },
      "source": [
        "Extracting k active centers."
      ]
    },
    {
      "cell_type": "code",
      "metadata": {
        "id": "yVcxaZpPcSMG"
      },
      "source": [
        "random.seed(0)\n",
        "nodeIds = list(node_features_df[\"nodeId\"])\n",
        "active_centers = random.choices(nodeIds, k=K)"
      ],
      "execution_count": 12,
      "outputs": []
    },
    {
      "cell_type": "markdown",
      "metadata": {
        "id": "3SWj_a73cV9-"
      },
      "source": [
        "Removing active_centers."
      ]
    },
    {
      "cell_type": "code",
      "metadata": {
        "id": "4Bg1vV5YcZQF"
      },
      "source": [
        "# nodeIds Without active centers\n",
        "nodeIdsWAC = list(set(nodeIds) - set(active_centers))"
      ],
      "execution_count": 13,
      "outputs": []
    },
    {
      "cell_type": "markdown",
      "metadata": {
        "id": "taLI3zsWccD3"
      },
      "source": [
        "Calculating profile similarities."
      ]
    },
    {
      "cell_type": "code",
      "metadata": {
        "id": "xocDkYZ5ceye"
      },
      "source": [
        "# based on euclidean distance\n",
        "def profSimilarity(nodeId, active_center):\n",
        "    \n",
        "    nodeId_index = nodeIds.index(nodeId)\n",
        "    ac_index = active_centers.index(active_center)\n",
        "    # setting to 1 to avoid division by zero error\n",
        "    sum = 1\n",
        "    for i in range(0, no_of_features):\n",
        "        \n",
        "        sq_diff = (node_features_df[\"feature\"+str(i+1)][nodeId_index] - node_features_df[\"feature\"+str(i+1)][ac_index])**2\n",
        "        sum += sq_diff\n",
        "\n",
        "    # returning inverse as high value means less similarity.\n",
        "    return 1/math.sqrt(sum)"
      ],
      "execution_count": 14,
      "outputs": []
    },
    {
      "cell_type": "markdown",
      "metadata": {
        "id": "eXh0qDD2uqsz"
      },
      "source": [
        "Social Circle Generation using K-means."
      ]
    },
    {
      "cell_type": "code",
      "metadata": {
        "id": "U4yRffOauroM",
        "outputId": "22027fc5-6447-4659-f527-35b0993dc160",
        "colab": {
          "base_uri": "https://localhost:8080/"
        }
      },
      "source": [
        "# initializing social circles\n",
        "social_circles = {}\n",
        "for i in range (0, K):\n",
        "    active_center = active_centers[i]\n",
        "    social_circles[str(active_center)] = []\n",
        "\n",
        "def edgeExists(nodeId, active_center):\n",
        "    if signed_network.has_edge(nodeId, active_center) or signed_network.has_edge(active_center, nodeId):\n",
        "        return 1\n",
        "    else:\n",
        "        return 0\n",
        "\n",
        "def strengthOfTies(nodeId, active_center):\n",
        "    sum = 0\n",
        "    for degree in list(dict(signed_network.degree([nodeId, active_center])).values()):\n",
        "        sum+=degree\n",
        "    sum -= 1\n",
        "    return 1/sum\n",
        "  \n",
        "  \n",
        "for nodeId in nodeIdsWAC:\n",
        "    maxS = 0\n",
        "    # active_center which will be most similar to given node\n",
        "    selectedAC = -1\n",
        "    for i in range (0, K):\n",
        "        active_center = active_centers[i]\n",
        "        p1 = 0\n",
        "        p2 = 0\n",
        "        p3 = 0\n",
        "        \n",
        "        p1 = edgeExists(nodeId, active_center)\n",
        "        \n",
        "        if p1 == 1:\n",
        "            p2 = profSimilarity(nodeId, active_center)\n",
        "            p3 = strengthOfTies(nodeId, active_center)\n",
        "\n",
        "            if maxS < p2 + p3:\n",
        "                maxS = p2 + p3\n",
        "                selectedAC = active_center\n",
        "    \n",
        "    if selectedAC != -1:\n",
        "        social_circles[str(selectedAC)].append(nodeId)\n",
        "\n",
        "print(social_circles)"
      ],
      "execution_count": 18,
      "outputs": [
        {
          "output_type": "stream",
          "text": [
            "{'38449': [], '79423': [19307, 19804], '78031': [57950], '25908': [213, 924, 1143, 1239, 2415, 3397, 3641, 3660, 3909, 5767, 6434, 9206, 10738, 13693, 18987, 25484, 31633], '30097': [5086], '55353': [16734, 39807, 72314], '75814': [4811, 6537], '78695': [13901, 18921, 81820], '61463': [16000], '70372': [38104], '64451': [7359, 25117], '56675': [9199], '70248': [633, 40693], '40554': [], '51223': [6068], '8016': [8005, 11338, 12771, 13179, 18016, 22566, 25018, 47343, 50868], '74444': [2637, 45937], '77925': [10298], '62543': [1252, 41835, 46510], '71102': [739, 747, 6474, 9938, 16703, 21560, 35895, 71103, 71104, 71105, 71106, 71107, 71108, 71109], '10812': [36039, 36040], '70644': [47344], '63283': [2851, 4302, 13939], '2974': [2968, 17053, 23544, 57322], '63016': [19039], '11750': [9137, 11749, 17796, 23549, 25835, 51572, 62116], '70909': [37315], '44514': [16693], '55698': [33, 41], '65250': [2007, 16112, 24205], '77430': [1935, 77429], '78169': [36276, 78170], '62243': [17600, 62244], '57337': [1889, 7211, 10038], '18408': [6942, 8759, 17036, 17709, 19574, 24294, 70284], '2515': [66, 71, 72, 75, 79, 87, 88, 92, 101, 159, 197, 330, 657, 811, 813, 827, 830, 832, 834, 835, 837, 845, 862, 876, 926, 933, 938, 973, 980, 997, 1000, 1028, 1032, 1034, 1036, 1042, 1055, 1063, 1070, 1087, 1088, 1111, 1117, 1140, 1146, 1148, 1165, 1177, 1198, 1203, 1213, 1287, 1324, 1350, 1536, 1574, 1915, 1961, 2061, 2115, 2172, 2505, 2511, 2541, 2548, 2555, 2562, 2563, 2571, 2573, 2577, 2587, 2591, 2593, 2930, 3127, 3574, 3594, 4357, 4367, 4388, 4396, 4679, 4874, 5270, 5446, 5799, 6046, 6829, 6945, 7873, 7888, 7893, 7900, 7902, 7964, 7980, 8407, 8781, 8893, 8906, 9966, 9969, 9989, 9998, 10164, 11759, 17752, 18034, 19950, 21319, 22726, 25598, 25998, 26596, 34272, 38479, 45498, 45499, 45500, 45501], '58588': [], '23128': [8766, 24407, 30156, 33516], '17623': [3998], '41316': [1495, 6489, 20854, 46547, 46549], '13931': [3710, 6108, 10334, 13904, 17957, 20052, 21453, 24782, 45591, 51610, 60551, 73616, 78700], '40544': [3782, 13262, 62717], '76782': [6737], '4535': [4303, 14331, 16903, 17329, 24167, 31860], '80314': [67434], '75101': [3569, 75102], '11344': [717, 1617, 4840, 31491, 40154, 46204, 47888], '56268': [10457, 28814, 81695], '24552': [22532], '69092': [32411], '59174': [11672], '69857': [39270], '56671': [9179, 9763, 21704], '35560': [4729, 5949, 15866, 24197, 26872, 35555], '52740': [7372], '66691': [56192], '14201': [14189, 60692], '44289': [21940], '54288': [54287], '45457': [2479, 2790, 5010, 6485, 28731], '16054': [47], '54120': [3455, 4076, 4725, 5577, 27516, 38964, 71553], '37838': [5071, 22605], '12332': [1877, 44158], '60866': [17208], '29013': [183, 4405, 14250, 16373, 19147, 27091, 33658, 33659, 33660, 38806], '53696': [8071, 20949], '36389': [1002, 1120, 1730, 2008, 5221, 5938, 9354, 9418, 9440, 13215, 17560, 19568, 23273, 23288, 34004, 35651, 44369, 44370, 44371, 44372], '77365': [54708], '10101': [1635, 4401, 5308, 6135, 10055, 11163, 11166, 12793, 13362, 20303, 30446, 53712], '40199': [905, 1244, 3623, 6078, 6344, 18319, 18781, 23783, 54187], '46318': [2001, 25129, 27192], '58793': [1110, 11518, 49075], '17218': [912, 8731, 10878], '39354': [76, 919, 3659, 5290, 5562, 5823, 7404, 8262, 15176, 27414], '488': [1402, 2117, 3061, 3328, 3875, 4028, 4671, 5210, 5529, 7615, 8694, 12877, 13187, 13255, 13632, 14816, 15309, 15881, 18680, 18850, 29224, 32071, 42968, 49736, 69070], '71345': [798, 2457, 3274, 19438, 22722, 36401], '50182': [48406], '7017': [6494], '40623': [172, 770, 12696, 12697, 15179, 36106, 67737], '81002': [39047], '73080': [1653, 23820], '37669': [3426, 4441, 13812], '27654': [3188, 9281, 15844, 25877, 27648], '49030': [67008], '14268': [8193, 8914, 9195, 26609, 34284], '76265': [5515], '40258': [5380, 7006], '73519': [1958, 12517], '63934': [21285], '23926': [22612, 23917], '61072': [8998, 9131, 9744, 15001, 70206, 77614], '27529': [703, 1223, 9459, 27499], '22778': [19628, 66129], '73027': [2395, 2829, 5262, 5712, 12164], '55490': [], '75714': [4590], '51593': [6352, 17720, 25844], '33458': [33457], '22329': [8925, 9821, 11611], '59707': [], '73165': [1721, 3232, 5362, 47904, 73166, 73167], '63831': [20850, 63830, 63832, 79614, 79615], '59158': [21990, 78301], '33297': [1040, 1532, 8791, 9698, 9793, 10619, 11315, 11638, 11816, 12896, 16407, 26066, 28314], '26558': [65], '64219': [26328], '50327': [5328, 5332, 15505, 25328], '61741': [51542], '48762': [421, 929, 4239, 4592, 6144, 9853, 14935, 15848, 21739, 21751, 26998, 29325, 29782, 47830, 48488, 48750, 48751, 54916, 68224, 68912, 75554, 75555], '58880': [11641], '11892': [769, 8889, 11882, 13943, 30881], '3283': [28, 175, 176, 296, 313, 343, 663, 718, 940, 1035, 1065, 1089, 1310, 1365, 1549, 2160, 2238, 2308, 2452, 2753, 2785, 2866, 2870, 3245, 3338, 3415, 3544, 3725, 3905, 3997, 4096, 4204, 4264, 4642, 4894, 5111, 5234, 5285, 5633, 5746, 5870, 5988, 6888, 6988, 7619, 7626, 7802, 8582, 8783, 9941, 10093, 10112, 10813, 10911, 11058, 11346, 11636, 11779, 11954, 12760, 13025, 14200, 15358, 15678, 17118, 18121, 18665, 19014, 19226, 20251, 20812, 23647, 23728, 23849, 26235, 26366, 27102, 28040, 28487, 29380, 29998, 30060, 30810, 36176, 38006, 38223, 38680, 38825, 39350, 39612, 40009, 40141, 40981, 43212, 43438, 45430, 46001, 47504, 47505, 47506, 49669, 53469, 66495, 74216, 74895, 75648], '42584': [1637, 1646, 2547], '15333': [52, 15334], '53658': [8044], '20320': [198, 8735, 11451, 13245, 14503, 20298], '26227': [2065, 6102, 11739, 16004, 26226], '31570': [], '36109': [634], '67605': [28638], '13084': [526, 4842, 9833, 22982], '24591': [4946, 5165, 11155, 36640, 62469], '75269': [3800, 12022, 13175, 20448, 52636, 52637], '3699': [1093, 3698, 5673, 11179, 11955, 12994, 13695, 14688, 16642, 18800, 22425, 24238, 24551, 25029, 38014, 41126, 45502, 47843, 54138, 72720], '7065': [806, 1084, 1307, 1482, 1563, 1595, 1785, 1849, 2139, 2581, 2639, 2927, 3383, 3538, 3855, 4105, 4106, 4458, 4616, 5053, 5098, 5800, 6024, 7641, 7988, 8558, 8679, 9112, 9627, 9831, 10524, 11000, 11447, 11995, 12331, 12911, 13405, 14613, 14840, 14906, 15437, 15592, 15788, 15902, 16506, 16759, 17995, 19394, 20661, 20915, 21605, 21895, 21905, 21949, 22203, 22526, 22593, 22799, 22812, 23033, 23186, 24986, 25385, 25886, 25999, 26050, 26149, 26282, 27003, 27792, 28727, 29859, 30681, 31506, 35016, 35959, 36731, 38729, 40859, 42080, 44458, 45198, 45475, 46283, 50162, 51028, 54877, 57016, 58562, 61866, 66443, 69002, 76901, 76902, 76903, 76904, 76905, 76906, 76907], '63801': [20811], '11362': [24, 50, 70, 103, 107, 531, 624, 636, 642, 949, 1125, 1406, 1866, 1953, 2225, 2534, 2536, 2624, 2658, 2696, 2816, 2849, 4719, 4969, 4987, 5160, 6270, 6367, 6662, 7408, 7464, 8364, 8971, 10489, 10693, 10973, 11888, 12716, 12819, 15141, 15224, 16599, 18010, 19625, 20291, 25507, 26495, 31468, 32084, 41871, 42099, 42100, 42101, 42102, 42103], '4212': [45, 528, 1325, 2804, 4444, 7162, 13080, 13882, 19366, 24187, 25301, 31550, 33022, 40267, 67046], '6438': [742, 2245, 4722, 6361, 6454, 6647, 7449, 8686, 9313, 9557, 11243, 14706, 29165, 39648, 40110, 51631, 56738], '48592': [3896, 4084], '77454': [14862], '9351': [347, 361, 453, 562, 656, 1636, 2110, 2767, 3034, 3806, 5108, 5235, 5299, 5551, 5984, 6242, 7373, 7618, 9264, 9380, 9717, 10191, 10687, 10710, 11639, 11966, 12383, 12714, 12831, 13284, 13348, 14536, 14883, 15604, 15888, 15889, 15943, 17054, 17351, 17480, 19639, 19987, 20006, 21609, 22134, 22870, 23028, 24034, 25758, 25866, 25884, 25915, 26506, 26717, 27061, 28330, 28680, 28938, 29802, 30195, 30343, 30589, 30803, 31128, 32368, 32454, 32784, 32838, 33230, 33242, 34727, 35256, 35461, 35589, 35712, 36128, 37079, 42057, 43034, 43269, 44193, 46728, 50934, 52876, 55817, 57948, 64159, 65924, 65993, 70186, 70278, 70549, 71049, 71234, 74037, 75437, 75485, 76060, 78601], '76229': [50514], '26191': [69, 1643, 13353, 17236, 20806, 29941, 37392, 65904], '35721': [35722, 35723, 52666], '15291': [1097, 3616, 15219, 17994, 22649, 25669, 36847, 78791], '32913': [15929, 31343], '27618': [27617], '42757': [80, 1712, 7851, 14111, 29775, 59747, 66267, 69137, 79576], '18907': [4691, 4864, 12661, 13322, 39221, 62950], '11398': [841, 1161, 1439, 1484, 1498, 2191, 2280, 3066, 3401, 4098, 4793, 5323, 5531, 5556, 5856, 6174, 8518, 9235, 10473, 10871, 11365, 12326, 13074, 14527, 14962, 16159, 16267, 16490, 17588, 20145, 21082, 21796, 26908, 29225, 32656, 32824, 35277, 40229, 52422, 54362, 54728, 72060, 78168, 78171], '27014': [21, 31, 58, 59, 170, 193, 196, 423, 450, 626, 639, 640, 649, 679, 737, 849, 855, 957, 1016, 1138, 1397, 1559, 1700, 1768, 1876, 2060, 2278, 2374, 2455, 2752, 2818, 2970, 3373, 3536, 3673, 3694, 3839, 4124, 4206, 4617, 5232, 5348, 5368, 5369, 5635, 5651, 5789, 5904, 5947, 6201, 6429, 6595, 7478, 7821, 8036, 8250, 8470, 9158, 9327, 11217, 12263, 12302, 13019, 13749, 18834, 19361, 22290, 24067, 24848, 25214, 27178, 29032, 29783, 31597, 32864, 34005, 35676, 36157, 42330, 45291, 51163, 53166, 53167, 53168, 53169, 53170, 58513, 69467, 75326], '29623': [1415, 10226, 29001, 32873, 68067], '24761': [5702, 6751, 15384, 16106, 19334, 65438], '54106': [3294, 8840, 11219, 11259, 23909, 28308, 43217, 60587, 67701], '74568': [2826], '72016': [1185, 4968], '75612': [4354, 14345, 27922, 41344], '28120': [651, 1014, 2312, 2545, 3182, 6728, 7970, 8043, 8668, 8977, 11272, 11507, 16264, 21750, 23550, 29732, 46859, 60734, 61938], '33812': [19883], '29244': [234], '24084': [3048, 10641, 23818, 24085, 24086, 24924, 63826, 65226], '29515': [29514, 32331], '38421': [4341, 16798], '4676': [2194, 14217, 17837, 47785, 49232], '22707': [1011, 1168, 1238, 1306, 1375, 3417, 4299, 5236, 7191, 7492, 10492, 17467, 21150, 37871, 38678, 44272], '27532': [4219], '41088': [1921], '69719': [33862], '37450': [1210], '56179': [8698], '42880': [1755, 2964, 4816, 11411], '77277': [73047], '50788': [5676, 27027, 62966], '10166': [9590, 10156, 35734], '24934': [], '48555': [4055, 6264], '17046': [30, 6949, 21251], '81018': [71756], '82067': [73454], '35638': [1469, 12706], '2157': [], '46533': [2670], '17362': [17359, 17360], '59397': [7742], '28259': [1005, 2323, 22139, 79788], '45888': [8596, 12617], '57201': [9864], '66230': [], '60708': [14282], '41574': [701, 15790, 16111], '53783': [8153], '26760': [650, 735, 1046, 1400, 2986, 4445, 5833, 6898, 8593, 9224, 27015, 30449, 32149, 35972], '40419': [1313, 5118, 42260, 70516], '56701': [9237], '466': [191, 247, 256, 8954, 14242, 32133], '32329': [574], '70346': [59191, 70345], '64241': [21731], '61214': [15370], '52678': [9646, 16877, 81578], '64515': [36230], '69350': [50145], '11388': [1004, 4963, 5626], '79060': [16214, 79059], '69968': [46498, 50128], '24022': [1570, 22710, 24017, 28997, 36794], '29337': [6087, 15849], '20367': [3270, 8732, 13907, 20360, 22925, 63515, 63516], '10740': [627, 667, 40398], '21142': [415, 11332, 13075, 22611, 28085, 63209], '48381': [3871], '69255': [69254], '67258': [27657], '29899': [4413], '23750': [760, 1293, 7167, 11533, 14531], '62678': [10734, 34584], '30958': [24269], '64069': [21521, 81916], '60563': [13941], '60939': [14890], '22546': [22539], '20955': [90, 112, 807, 871, 995, 1121, 1237, 1544, 2899, 3640, 4915, 18979, 20361, 20983, 22900, 31292, 63861], '16444': [16349, 61705], '75978': [2314, 8140, 11309], '19716': [8482, 29904], '12193': [2288, 2812, 5516, 8422, 12061, 17374, 25261, 25262, 42999], '42546': [1632], '81224': [43592, 81225], '11852': [1988, 6369, 8041, 11841, 17658, 37098, 59011, 59012], '34878': [34877], '78083': [58306], '8226': [2432, 3105, 8203, 8909, 11080, 22399, 77254], '80900': [37180], '49': [8, 9, 17, 48, 55, 91, 98, 118, 128, 134, 808, 820, 1216, 3223, 3780, 5400, 5906, 6496, 7481, 7537, 7598, 8510, 9080, 9867, 10120, 12244, 12893, 13009, 14510, 15095, 17471, 18346, 19539, 19672, 23140, 26077, 27427], '71700': [8440], '40295': [17937, 42907], '9009': [37, 61, 149, 308, 321, 398, 501, 541, 558, 630, 686, 922, 1052, 1136, 1173, 1360, 1374, 1389, 1438, 1512, 1514, 1522, 1650, 1706, 1821, 1893, 1964, 2719, 2771, 2987, 3153, 3490, 3555, 3907, 3932, 4010, 4370, 4443, 4454, 4491, 4565, 4595, 4910, 5094, 5110, 5578, 5619, 6484, 6615, 7225, 7967, 8100, 8472, 8515, 9010, 9011, 9012, 9013, 9014, 9015, 9016, 9017, 9018, 9019, 9020, 9021, 9022, 9023, 9024, 9025, 9026, 9027, 9028, 9029, 9030, 9031, 9032, 9033, 9034, 9035, 9036, 9037, 9038, 9039, 9040, 9041, 9042, 9043, 9044, 9045, 9046, 9047, 9048, 9049, 9050, 9051, 9052, 9053, 9054, 9055, 9056, 9057, 9058, 9059, 9060, 9061, 9062, 9063, 9064, 9065, 9066, 9067, 9068, 9069, 26622], '4093': [660, 678, 874, 1033, 1189, 2254, 3000, 4082, 4921, 5072, 6014, 6732, 6980, 7842, 8053, 10592, 13392, 17767, 18721, 26828, 30996, 35609, 48599, 49795, 52195], '67033': [2400, 5015, 8371, 38745, 57785], '78284': [11985], '18554': [100, 1815, 6056, 8330, 8705, 11210, 18533, 44203, 49161, 50719, 52047, 62757], '76500': [6077, 9686, 38694, 50897], '11230': [67, 1869, 3903, 11877, 13464, 17522, 18506, 30534, 41329, 59778, 73613], '55867': [], '30058': [6235, 17126, 27579, 76115], '4897': [384, 872, 3026, 8297, 9356, 9650, 9731, 10262, 11426, 11667, 12833, 18478, 19290, 32260, 33211, 49610, 49611, 50674, 66786, 70839, 72211, 72267], '32374': [585], '45353': [2296], '64369': [21927], '76665': [6478, 58267], '3285': [158, 1499, 1872, 2782, 4891, 5928, 6265, 7897, 13971, 14277, 14749, 15506, 17095, 19004, 22186, 29104, 36772, 47507, 55007, 66513], '18395': [18394], '61737': [16535], '68328': [30768, 45751], '78949': [15630, 21106, 29642, 78950], '20084': [68, 909, 1152, 1701, 1752, 1934, 2973, 7388, 13610, 15951, 19289, 32003, 39916], '1251': [13, 97, 109, 151, 401, 620, 824, 829, 1074, 1077, 1105, 1133, 1285, 1362, 1382, 1551, 1707, 1782, 1801, 1833, 1837, 2328, 2446, 2451, 2506, 2661, 2811, 2956, 3080, 3209, 3487, 3565, 3635, 3717, 4053, 4309, 4387, 4391, 4437, 4467, 4501, 4645, 4855, 4868, 4956, 5018, 5102, 5217, 5395, 5398, 5573, 5591, 5717, 5971, 6306, 6610, 6871, 7005, 7580, 7637, 7663, 8049, 8051, 8057, 8090, 8091, 8122, 8196, 8288, 8612, 8633, 8738, 8890, 8939, 8961, 9134, 9512, 9768, 9816, 9956, 10946, 11242, 11359, 11369, 11414, 11668, 11788, 12449, 13317, 13361, 14722, 14732, 15012, 15045, 15842, 15882, 16338, 16757, 17051, 18888, 20050, 20181, 20769, 21111, 21584, 21623, 22002, 22375, 22666, 22974, 23643, 23705, 24967, 25565, 25640, 25687, 25853, 26356, 26857, 26902, 26932, 27950, 28403, 29101, 29186, 29192, 30801, 31700, 32808, 32852, 32937, 33488, 34639, 36578, 36590, 37470, 38381, 38696, 39370, 40145, 40217, 40218, 40219, 40220, 40221, 40222, 42817, 44267, 46213, 46823, 50675, 51600, 55213, 56712, 63251, 64357, 68046, 68238, 72385, 72386, 72387, 72388, 75725], '10168': [262, 481, 530, 623, 773, 780, 789, 885, 906, 911, 1188, 1334, 1353, 1521, 1747, 1913, 2173, 2775, 3140, 3217, 3296, 3374, 3491, 3513, 4016, 4067, 4499, 4514, 4566, 4581, 4844, 4901, 4941, 5069, 5084, 5093, 5154, 5179, 5207, 5431, 5772, 5805, 6331, 6645, 7248, 7974, 8137, 8451, 8761, 8763, 9836, 10118, 10442, 10460, 10529, 10828, 11542, 12220, 12260, 12306, 12519, 12704, 12774, 13285, 13432, 14074, 14535, 14632, 14872, 15554, 16719, 16853, 17286, 18095, 18489, 18546, 19123, 19232, 19450, 19457, 19778, 19892, 20143, 20293, 21365, 21410, 21522, 22339, 23018, 23027, 23109, 23263, 23535, 24314, 24351, 24511, 24891, 25541, 26487, 27577, 28833, 29658, 29855, 29906, 30273, 31315, 33067, 38889, 39286, 40379, 41374, 43315, 43412, 47084, 48497, 54815, 57028, 57427, 57428, 57429, 57430, 57431, 57432, 57433, 60897, 68949, 74622, 77889]}\n"
          ],
          "name": "stdout"
        }
      ]
    },
    {
      "cell_type": "code",
      "metadata": {
        "id": "Z-c4Ve-cuwLn"
      },
      "source": [
        ""
      ],
      "execution_count": null,
      "outputs": []
    }
  ]
}