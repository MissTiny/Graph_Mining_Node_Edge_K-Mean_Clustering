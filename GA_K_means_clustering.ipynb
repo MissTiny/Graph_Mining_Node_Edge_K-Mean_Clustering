{
 "cells": [
  {
   "cell_type": "markdown",
   "metadata": {
    "colab_type": "text",
    "id": "view-in-github"
   },
   "source": [
    "<a href=\"https://colab.research.google.com/github/MissTiny/Graph_Mining_Node_Edge_K-Mean_Clustering/blob/Algorithm2(GA)/GA_K_means_clustering.ipynb\" target=\"_parent\"><img src=\"https://colab.research.google.com/assets/colab-badge.svg\" alt=\"Open In Colab\"/></a>"
   ]
  },
  {
   "cell_type": "markdown",
   "metadata": {
    "id": "xZFU01QtJgiF"
   },
   "source": [
    "Imports."
   ]
  },
  {
   "cell_type": "code",
   "execution_count": 1,
   "metadata": {
    "id": "S7t5BhNIJkBq"
   },
   "outputs": [],
   "source": [
    "import json\n",
    "import numpy as np\n",
    "import pandas as pd\n",
    "import networkx as nx\n",
    "\n",
    "from sklearn.preprocessing import MinMaxScaler\n",
    "from sklearn.cluster import KMeans\n",
    "import matplotlib.pyplot as plt\n",
    "import random\n",
    "import math"
   ]
  },
  {
   "cell_type": "markdown",
   "metadata": {
    "id": "IeXu_OCuJn2U"
   },
   "source": [
    "Reading Signed network."
   ]
  },
  {
   "cell_type": "code",
   "execution_count": 2,
   "metadata": {
    "id": "1WuvUw0nJtSO"
   },
   "outputs": [],
   "source": [
    "signed_network = nx.read_weighted_edgelist('soc-sign-Slashdot090221.txt.gz', comments='#', create_using=nx.DiGraph(), nodetype = int)"
   ]
  },
  {
   "cell_type": "markdown",
   "metadata": {
    "id": "YbivohZaJywJ"
   },
   "source": [
    "Reading node features."
   ]
  },
  {
   "cell_type": "code",
   "execution_count": 3,
   "metadata": {
    "id": "mV5BVQQIJ4eV"
   },
   "outputs": [],
   "source": [
    "node_features ={}\n",
    "no_of_features = 100\n",
    "line_no = 0\n",
    "with open(\"embedded-soc-sign-slashdot\") as nf: \n",
    "    Lines = nf.readlines() \n",
    "    for line in Lines:\n",
    "        #skip first line\n",
    "        if line_no > 0:\n",
    "            # splitting by space\n",
    "            values = line.split()\n",
    "            values = values[:no_of_features+1]\n",
    "            index = 0\n",
    "            # reading node features\n",
    "            for val in values:\n",
    "                if index == 0:\n",
    "                    # reading nodeIds for first time\n",
    "                    if line_no == 1:\n",
    "                        node_features[\"nodeId\"] = [int(val)]\n",
    "                    else:\n",
    "                        node_features[\"nodeId\"].append(int(val))\n",
    "                \n",
    "                elif index > 0:\n",
    "                    # reading features for the first time\n",
    "                    if line_no == 1:\n",
    "                        node_features[\"feature\"+str(index)] = [float(val)]\n",
    "                    else:\n",
    "                        node_features[\"feature\"+str(index)].append(float(val))\n",
    "                index+=1\n",
    "        line_no += 1\n",
    "\n",
    "node_features_df = pd.DataFrame(node_features)"
   ]
  },
  {
   "cell_type": "markdown",
   "metadata": {
    "id": "fm--_XPqS770"
   },
   "source": [
    "Determining optimal number of clusters or number of active centers using elbow method."
   ]
  },
  {
   "cell_type": "code",
   "execution_count": null,
   "metadata": {
    "colab": {
     "base_uri": "https://localhost:8080/",
     "height": 295
    },
    "id": "iMdq35C1S9Yg",
    "outputId": "40b52e37-77fb-4524-ecb7-ed1a9c8a0b4e"
   },
   "outputs": [
    {
     "data": {
      "image/png": "[encoded data removed]",
      "text/plain": [
       "<Figure size 432x288 with 1 Axes>"
      ]
     },
     "metadata": {
      "needs_background": "light",
      "tags": []
     },
     "output_type": "display_data"
    }
   ],
   "source": [
    "# To give equal importance to all features, we need to scale the continuous features. \n",
    "# We will be using scikit-learn’s MinMaxScaler as the feature matrix is a mix of binary and continuous features . \n",
    "mms = MinMaxScaler()\n",
    "mms.fit(node_features_df)\n",
    "node_features_df_transformed = mms.transform(node_features_df)\n",
    "\n",
    "Sum_of_squared_distances = []\n",
    "K = range(1,50)\n",
    "for k in K:\n",
    "    km = KMeans(n_clusters=k, n_jobs=-1)\n",
    "    km = km.fit(node_features_df_transformed)\n",
    "    Sum_of_squared_distances.append(km.inertia_)\n",
    "\n",
    "plt.plot(K, Sum_of_squared_distances, 'bx-')\n",
    "plt.xlabel('k')\n",
    "plt.ylabel('Sum_of_squared_distances')\n",
    "plt.title('Elbow Method For Optimal k')\n",
    "plt.show()"
   ]
  },
  {
   "cell_type": "markdown",
   "metadata": {
    "id": "CibcFtRIb9Vo"
   },
   "source": [
    "From above elbow plot, it looks like optimal value of K is 7."
   ]
  },
  {
   "cell_type": "code",
   "execution_count": 4,
   "metadata": {
    "id": "QlmbcUdAcLGT"
   },
   "outputs": [],
   "source": [
    "K = 7"
   ]
  },
  {
   "cell_type": "markdown",
   "metadata": {
    "id": "2LR3jpXdcP6v"
   },
   "source": [
    "Extracting node Ids."
   ]
  },
  {
   "cell_type": "code",
   "execution_count": 5,
   "metadata": {
    "id": "yVcxaZpPcSMG"
   },
   "outputs": [],
   "source": [
    "nodeIds = list(node_features_df[\"nodeId\"])"
   ]
  },
  {
   "cell_type": "markdown",
   "metadata": {
    "id": "taLI3zsWccD3"
   },
   "source": [
    "Function to calculate profile similarities."
   ]
  },
  {
   "cell_type": "code",
   "execution_count": 6,
   "metadata": {
    "id": "xocDkYZ5ceye"
   },
   "outputs": [],
   "source": [
    "# based on euclidean distance\n",
    "def profSimilarity(nodeId, active_center, active_centers):\n",
    "    nodeId_index = nodeIds.index(nodeId)\n",
    "    ac_index = active_centers.index(active_center)\n",
    "    # setting to 1 to avoid division by zero error\n",
    "    sum = 1\n",
    "    for i in range(0, no_of_features):\n",
    "        \n",
    "        sq_diff = (node_features_df[\"feature\"+str(i+1)][nodeId_index] - node_features_df[\"feature\"+str(i+1)][ac_index])**2\n",
    "        sum += sq_diff\n",
    "\n",
    "    # returning inverse as high value means less similarity.\n",
    "    return 1/math.sqrt(sum)"
   ]
  },
  {
   "cell_type": "markdown",
   "metadata": {
    "id": "vqHeSMu89SOx"
   },
   "source": [
    "Function to determine whether edge exists or not."
   ]
  },
  {
   "cell_type": "code",
   "execution_count": 7,
   "metadata": {
    "id": "eJ9ny0ws9gYG"
   },
   "outputs": [],
   "source": [
    "def edgeExists(nodeId, active_center):\n",
    "    if signed_network.has_edge(nodeId, active_center) or signed_network.has_edge(active_center, nodeId):\n",
    "        return 1\n",
    "    else:\n",
    "        return 0"
   ]
  },
  {
   "cell_type": "markdown",
   "metadata": {
    "id": "gANoNpJU9j9G"
   },
   "source": [
    "Function to calculate strength of ties."
   ]
  },
  {
   "cell_type": "code",
   "execution_count": 8,
   "metadata": {
    "id": "kn6h6_3b9rCj"
   },
   "outputs": [],
   "source": [
    "def strengthOfTies(nodeId, active_center):\n",
    "    sum = 0\n",
    "    for degree in list(dict(signed_network.degree([nodeId, active_center])).values()):\n",
    "        sum+=degree\n",
    "    sum -= 1\n",
    "    return 1/sum"
   ]
  },
  {
   "cell_type": "markdown",
   "metadata": {
    "id": "aJf4G0uV94NV"
   },
   "source": [
    "Function to find residual area (those neighbors of given nodes that are not in the social circle)."
   ]
  },
  {
   "cell_type": "code",
   "execution_count": 9,
   "metadata": {
    "id": "5MYK7tmh-Rcb"
   },
   "outputs": [],
   "source": [
    "def residualArea(x,circle):\n",
    "    residual = list(signed_network.neighbors(x))\n",
    "    for re in residual:\n",
    "        if re in circle:\n",
    "            residual.remove(re)\n",
    "    return residual"
   ]
  },
  {
   "cell_type": "markdown",
   "metadata": {
    "id": "-Wvq3Tow9wOH"
   },
   "source": [
    "Function to calculate degree centrality."
   ]
  },
  {
   "cell_type": "code",
   "execution_count": 10,
   "metadata": {
    "id": "J-iG_H779z9M"
   },
   "outputs": [],
   "source": [
    "def degreeCentrality(x,circle):\n",
    "    degree = 0\n",
    "    for c in circle:\n",
    "        if signed_network.has_edge(x, c) or signed_network.has_edge(c, x):\n",
    "            degree+=1\n",
    "    # error if len(circle) = 1\n",
    "    if len(circle) ==1:\n",
    "        deg_cen = degree\n",
    "    else:\n",
    "        deg_cen = degree/(len(circle)-1)\n",
    "    return deg_cen"
   ]
  },
  {
   "cell_type": "markdown",
   "metadata": {
    "id": "eXh0qDD2uqsz"
   },
   "source": [
    "Funtion to discover social circle using K-means."
   ]
  },
  {
   "cell_type": "code",
   "execution_count": 11,
   "metadata": {
    "id": "U4yRffOauroM"
   },
   "outputs": [],
   "source": [
    "def algorithm1(nodeIds,active_centers, add_trust_ftr = False):\n",
    "    social_circles = {}\n",
    "    nodeIdsWAC = list(set(nodeIds) - set(active_centers))\n",
    "    for i in range (0, K):\n",
    "        active_center = active_centers[i]\n",
    "        social_circles[str(active_center)] = []\n",
    "    for nodeId in nodeIdsWAC:\n",
    "        maxS = 0\n",
    "        # active_center which will be most similar to given node\n",
    "        selectedAC = -1\n",
    "        for i in range (0, K):\n",
    "            active_center = active_centers[i]\n",
    "            p1 = 0\n",
    "            p2 = 0\n",
    "            p3 = 0\n",
    "            p4 = 0\n",
    "\n",
    "            p1 = edgeExists(nodeId, active_center)\n",
    "\n",
    "            if p1 == 1:\n",
    "                p2 = profSimilarity(nodeId, active_center,active_centers)\n",
    "                p3 = strengthOfTies(nodeId, active_center)\n",
    "                if add_trust_ftr:\n",
    "                    p4 = signed_network.get_edge_data(nodeId, active_center, default={'weight':0})['weight']\n",
    "\n",
    "                if maxS < p2 + p3 + p4:\n",
    "                    maxS = p2 + p3 + p4\n",
    "                    selectedAC = active_center\n",
    "    \n",
    "        if selectedAC != -1:\n",
    "            social_circles[str(selectedAC)].append(nodeId)\n",
    "    return social_circles"
   ]
  },
  {
   "cell_type": "markdown",
   "metadata": {
    "id": "zjajr_kJ_u9g"
   },
   "source": [
    "Initializing variables for Genetic Algorithm."
   ]
  },
  {
   "cell_type": "code",
   "execution_count": 12,
   "metadata": {
    "id": "Z-c4Ve-cuwLn"
   },
   "outputs": [],
   "source": [
    "#center selection\n",
    "##population size = 40\n",
    "N = 40\n",
    "population = []\n",
    "random.seed(0)"
   ]
  },
  {
   "cell_type": "markdown",
   "metadata": {
    "id": "0CCbzxFeB-dB"
   },
   "source": [
    "Generating random population (sets of active centers) randomly."
   ]
  },
  {
   "cell_type": "code",
   "execution_count": 13,
   "metadata": {
    "id": "jp--Al8dB-6z"
   },
   "outputs": [],
   "source": [
    "for i in range(0,N):\n",
    "    selected = random.sample(nodeIds,K)\n",
    "    if selected not in population:\n",
    "        population.append(selected)"
   ]
  },
  {
   "cell_type": "markdown",
   "metadata": {
    "id": "ex-6h2lOCUI-"
   },
   "source": [
    "Algorithm2_part1 takes one group of centers and return the fitness of it."
   ]
  },
  {
   "cell_type": "code",
   "execution_count": 14,
   "metadata": {
    "id": "YN1NzWNiCWt5"
   },
   "outputs": [],
   "source": [
    "def algorithm2_part1(pop_n, add_trust_ftr = False):\n",
    "    Xi = pop_n\n",
    "    Cij = algorithm1(nodeIds,Xi, add_trust_ftr)\n",
    "    \n",
    "    obj=0\n",
    "    for k in range(0,K):\n",
    "        #initialize k=1 and obj=0\n",
    "        xi = Xi[k]\n",
    "        \n",
    "        residual =  residualArea(xi,Cij[str(xi)])\n",
    "        #deg_cen\n",
    "        deg_cen_C = degreeCentrality(xi,Cij[str(xi)])\n",
    "        deg_cen_R = degreeCentrality(xi,residual)\n",
    "        \n",
    "        #prof_sim\n",
    "        prof_sim_C = 0\n",
    "        for c in Cij[str(xi)]:\n",
    "            prof_sim_C+=profSimilarity(c, xi,Xi)\n",
    "        prof_sim_C = prof_sim_C/len(Cij)\n",
    "        \n",
    "        prof_sim_R = 0\n",
    "        for r in residual:\n",
    "            prof_sim_R+=profSimilarity(r, xi,Xi)\n",
    "        if len(residual) != 0:\n",
    "            prof_sim_R = prof_sim_R/len(residual)\n",
    "        \n",
    "        #str_C\n",
    "        str_C = 0\n",
    "        for c in Cij[str(xi)]:\n",
    "            str_C+= strengthOfTies(c, xi)\n",
    "        str_C = str_C/len(Cij)\n",
    "        \n",
    "        str_R = 0\n",
    "        for r in residual:\n",
    "            str_R+= strengthOfTies(r, xi)\n",
    "        if len(residual) != 0:\n",
    "             str_R = str_R/len(residual)\n",
    "\n",
    "        #str_C\n",
    "        trust_C = 0\n",
    "        trust_R = 0\n",
    "        if add_trust_ftr:\n",
    "            for c in Cij[str(xi)]:\n",
    "                trust_C += signed_network.get_edge_data(c, xi, default={'weight':0})['weight']\n",
    "            trust_C = trust_C/len(Cij)\n",
    "          \n",
    "        if add_trust_ftr:  \n",
    "            for r in residual:\n",
    "                trust_R += signed_network.get_edge_data(r, xi, default={'weight':0})['weight']\n",
    "            if len(residual) != 0:\n",
    "                trust_R = trust_R/len(residual)\n",
    "       \n",
    "        \n",
    "        obj+=deg_cen_C - deg_cen_R + prof_sim_C - prof_sim_R + str_C - str_R + trust_C - trust_R\n",
    "    \n",
    "    \n",
    "    return obj/K"
   ]
  },
  {
   "cell_type": "markdown",
   "metadata": {
    "id": "X3-GomySEjN7"
   },
   "source": [
    "Calculating fitness value of generated population."
   ]
  },
  {
   "cell_type": "code",
   "execution_count": 15,
   "metadata": {
    "id": "sFJJbfqHEpQ5"
   },
   "outputs": [],
   "source": [
    "#initialize n=1 and fitness = 0\n",
    "fitness=[]\n",
    "for n in range(0,N):\n",
    "    #pick up the ith row from X_ij and Cij\n",
    "    fitness.append(algorithm2_part1(population[n]))"
   ]
  },
  {
   "cell_type": "markdown",
   "metadata": {
    "id": "MnUnMfxOCkwM"
   },
   "source": [
    "Functions to check the format of generated Q offspring (new set of active centers generated after crossover and mutation)."
   ]
  },
  {
   "cell_type": "code",
   "execution_count": 16,
   "metadata": {
    "id": "eARYh3tyC46q"
   },
   "outputs": [],
   "source": [
    "def check(matrix):\n",
    "    for i in matrix:\n",
    "        if len(i)!=(K+1):\n",
    "            print(\"error in row: \",i)"
   ]
  },
  {
   "cell_type": "markdown",
   "metadata": {
    "id": "3FdeFeoMDE4y"
   },
   "source": [
    "Applying Crossover and mutation operation to determine best set of active centers."
   ]
  },
  {
   "cell_type": "code",
   "execution_count": 17,
   "metadata": {
    "id": "CdY5gbxBDRgv"
   },
   "outputs": [],
   "source": [
    "# Part two\n",
    "##Augmented matrix Q containing fitness value for each set of active center\n",
    "Q=[]\n",
    "for i in range(0,len(fitness)):\n",
    "    Qi = population[i].copy()\n",
    "    Qi.append(fitness[i])\n",
    "    Q.append(Qi)"
   ]
  },
  {
   "cell_type": "code",
   "execution_count": 18,
   "metadata": {
    "id": "Meo1NU4dJTkf"
   },
   "outputs": [],
   "source": [
    "# re-sort in descending order\n",
    "# since there are K elements in each set then we have fitness value at K index\n",
    "fit_val_index = K\n",
    "Q_desc= sorted(Q,key=lambda x:x[fit_val_index],reverse=True)"
   ]
  },
  {
   "cell_type": "markdown",
   "metadata": {
    "id": "K_PeJs18RiUt"
   },
   "source": [
    "Locally optimum version of GA (convergence quickly but doesn't gurantee best set of active centers w.r.t global context)."
   ]
  },
  {
   "cell_type": "code",
   "execution_count": 52,
   "metadata": {
    "id": "zw6M68sMRNEs"
   },
   "outputs": [],
   "source": [
    "def run_local_optimum_ga(add_trust_ftr = False):\n",
    "\n",
    "    print(\"Running local optimum Genetic Algorithm for best set of active centers.\")\n",
    "    count = 0\n",
    "    iteration = 0\n",
    "    Q_desc_temp = Q_desc.copy()\n",
    "    max_fit_yet = Q_desc_temp[0][-1]\n",
    "    current_best_set = []\n",
    "    current_best_fit = 0\n",
    "    print(\"Current best fitness value: \",str(Q_desc_temp[0][-1]))\n",
    "    print(\"Current best set of Active Centers:\")\n",
    "    print(Q_desc_temp[0][:K])\n",
    "    \n",
    "    while count < 1000000:\n",
    "\n",
    "        while iteration <10:\n",
    "\n",
    "            #Select two parent chromosomes let say X1 and X2 from a population with high fitness value\n",
    "            #########This trunk try to find the best X after crossover###################################################\n",
    "            \n",
    "            Q1 = Q_desc_temp[0]\n",
    "            Q2 = Q_desc_temp[1]\n",
    "\n",
    "            x1 = Q1[:-1]\n",
    "            x1_fit = Q1[-1]\n",
    "                \n",
    "            x2 = Q2[:-1]\n",
    "            x2_fit = Q2[-1]\n",
    "\n",
    "            #crossover_probability = 0.8\n",
    "            if random.randint(0, 10) < 9:     \n",
    "                randc_pos = random.randint(1,K)\n",
    "            \n",
    "                x1_new = x1[:randc_pos]+x2[randc_pos:]\n",
    "                x2_new = x2[:randc_pos]+x1[randc_pos:]\n",
    "                \n",
    "                x1_new_fit = algorithm2_part1(x1_new, add_trust_ftr)\n",
    "                x2_new_fit = algorithm2_part1(x2_new, add_trust_ftr)\n",
    "\n",
    "            else:\n",
    "                x1_new = x1\n",
    "                x2_new = x2\n",
    "                \n",
    "                x1_new_fit = x1_fit\n",
    "                x2_new_fit = x2_fit\n",
    "\n",
    "            max_fit = max(x1_new_fit,x2_new_fit)\n",
    "                \n",
    "            if x1_new_fit == max_fit:\n",
    "                x = x1_new\n",
    "            elif x2_new_fit == max_fit:\n",
    "                x = x2_new\n",
    "\n",
    "            #mutation\n",
    "            #generate a random position randm_pos [1,k] and rand_id [1,n]\n",
    "            \n",
    "            #mutation_probability = 0.2\n",
    "            if random.randint(0, 10) < 3:     \n",
    "                randm_pos = random.randint(0,K)\n",
    "                rand_id = random.choice(nodeIds)\n",
    "                \n",
    "                if rand_id in (x[:randm_pos]+x[randm_pos:]):\n",
    "                    x_new = x\n",
    "                else:\n",
    "                    x_new = x[:randm_pos]+[rand_id]+x[randm_pos:]\n",
    "                \n",
    "                x_new_fit = algorithm2_part1(x_new, add_trust_ftr)\n",
    "\n",
    "            else:\n",
    "                x_new = x\n",
    "                x_new_fit = max_fit\n",
    "              \n",
    "            # replacing the set with least fit value with the new set\n",
    "            if x_new_fit > Q_desc_temp[-1][-1]:\n",
    "                Q_desc_temp[-1] = x_new + [x_new_fit]\n",
    "                Q_desc_temp = sorted(Q_desc_temp,key=lambda x:x[-1],reverse=True)\n",
    "            \n",
    "            if Q_desc_temp[0][-1] > max_fit_yet:\n",
    "                max_fit_yet = Q_desc_temp[0][-1]\n",
    "                iteration = 0\n",
    "            else:\n",
    "                iteration +=1\n",
    "\n",
    "\n",
    "        if current_best_fit < Q_desc_temp[0][-1]:\n",
    "            print(\"Current best fitness value: \",str(Q_desc_temp[0][-1]))\n",
    "            print(\"Current best set of Active Centers:\")\n",
    "            print(Q_desc_temp[0][:K])\n",
    "            current_best_set = Q_desc_temp[0][:K]\n",
    "            current_best_fit = Q_desc_temp[0][-1]\n",
    "        \n",
    "        count+=1\n",
    "    return current_best_set\n",
    " \n",
    "  \n"
   ]
  },
  {
   "cell_type": "markdown",
   "metadata": {
    "id": "rhZh8XbA0lKV"
   },
   "source": [
    "Getting locally optimum social circles without considering link/trust feature."
   ]
  },
  {
   "cell_type": "code",
   "execution_count": 53,
   "metadata": {
    "colab": {
     "base_uri": "https://localhost:8080/"
    },
    "id": "bjiGz4oC0kE-",
    "outputId": "7e703043-43d8-48e6-cc99-3198ba1a76a6"
   },
   "outputs": [
    {
     "name": "stdout",
     "output_type": "stream",
     "text": [
      "Running local optimum Genetic Algorithm for best set of active centers.\n",
      "Current best fitness value:  1.5296819383826514\n",
      "Current best set of Active Centers:\n",
      "[80783, 79051, 17248, 73570, 43198, 17502, 37519]\n",
      "Current best fitness value:  1.5296819383826514\n",
      "Current best set of Active Centers:\n",
      "[80783, 79051, 17248, 73570, 43198, 17502, 37519]\n",
      "Best Set of Active Centers without trust feature:\n",
      "[80783, 79051, 17248, 73570, 43198, 17502, 37519]\n",
      "Generating Social Circles.\n",
      "Social Circles without trust:\n",
      "{'80783': [80782], '79051': [16196], '17248': [1018, 13125], '73570': [43270], '43198': [6096, 11272], '17502': [2791, 5499], '37519': [5355, 6135, 16704]}\n"
     ]
    }
   ],
   "source": [
    "ac_wo_trust = run_local_optimum_ga()\n",
    "print(\"Best Set of Active Centers without trust feature:\")\n",
    "print(ac_wo_trust)\n",
    "print(\"Generating Social Circles.\")\n",
    "sc_wo_trust = algorithm1(nodeIds, ac_wo_trust)\n",
    "print(\"Social Circles without trust:\")\n",
    "print(sc_wo_trust)"
   ]
  },
  {
   "cell_type": "markdown",
   "metadata": {
    "id": "NuWuEYUP-IGG"
   },
   "source": [
    "Function to calculate net values of the properties (degree centrality, strenght of ties, profile similarity, objective function value)."
   ]
  },
  {
   "cell_type": "code",
   "execution_count": 77,
   "metadata": {
    "id": "fhtSwEwsCSdp"
   },
   "outputs": [],
   "source": [
    "def get_net_values(social_circle, active_centers):\n",
    "    net_deg_cen_C = 0\n",
    "    net_deg_cen_R = 0\n",
    "    net_str_C = 0\n",
    "    net_str_R = 0\n",
    "    net_prof_sim_C = 0\n",
    "    net_prof_sim_R = 0\n",
    "    net_obj_val = 0\n",
    "\n",
    "    for active_center in social_circle:\n",
    "    circle = social_circle[active_center]\n",
    "\n",
    "    residual =  residualArea(int(active_center), circle)     \n",
    "\n",
    "    deg_cen_C = degreeCentrality(int(active_center),circle)\n",
    "    net_deg_cen_C += deg_cen_C\n",
    "    deg_cen_R = degreeCentrality(int(active_center),residual)\n",
    "    net_deg_cen_R += deg_cen_R \n",
    "\n",
    "    prof_sim_C = 0\n",
    "    for c in circle:\n",
    "        prof_sim_C +=profSimilarity(c, int(active_center), active_centers)\n",
    "    prof_sim_C = prof_sim_C/len(circle)\n",
    "    net_prof_sim_C += prof_sim_C\n",
    "\n",
    "    prof_sim_R = 0\n",
    "    for r in residual:\n",
    "        prof_sim_R += profSimilarity(r, int(active_center), active_centers)\n",
    "    if len(residual) != 0:\n",
    "        prof_sim_R = prof_sim_R/len(residual)\n",
    "    net_prof_sim_R += prof_sim_R\n",
    "\n",
    "    str_C = 0\n",
    "    for c in circle:\n",
    "        str_C += strengthOfTies(c, int(active_center))\n",
    "    str_C = str_C/len(circle)\n",
    "    net_str_C += str_C\n",
    "\n",
    "    str_R = 0\n",
    "    for r in residual:\n",
    "        str_R+= strengthOfTies(r, int(active_center))\n",
    "    if len(residual) != 0:\n",
    "        str_R = str_R/len(residual)\n",
    "    net_str_R += str_R\n",
    "    net_obj_val += deg_cen_C - deg_cen_R + prof_sim_C - prof_sim_R + str_C - str_R\n",
    "\n",
    "    net_deg_cen_C /= K\n",
    "    net_deg_cen_R /= K\n",
    "    net_str_C /= K\n",
    "    net_str_R /= K\n",
    "    net_prof_sim_C /= K\n",
    "    net_prof_sim_R /= K\n",
    "    net_obj_val /= K\n",
    "\n",
    "    return net_deg_cen_C, net_deg_cen_R, net_str_C, net_str_R, net_prof_sim_C, net_prof_sim_R, net_obj_val"
   ]
  },
  {
   "cell_type": "markdown",
   "metadata": {
    "id": "HrCuIWaCDhyT"
   },
   "source": [
    "Getting net values for social circles without trust feature."
   ]
  },
  {
   "cell_type": "code",
   "execution_count": 55,
   "metadata": {
    "colab": {
     "base_uri": "https://localhost:8080/"
    },
    "id": "qZza2GbsDmkF",
    "outputId": "ce611f66-e48a-4b33-f985-a10162a9fed5"
   },
   "outputs": [
    {
     "name": "stdout",
     "output_type": "stream",
     "text": [
      "Net Degree Centrality for circle without trust feature: 1.5\n",
      "Net Degree Centrality for residual without trust feature: 0.0\n",
      "Net Strength of ties for circle without trust feature: 0.09774435528303005\n",
      "Net Strength of ties for residual without trust feature: 0.0\n",
      "Net Pofile similarity for circle without trust feature: 0.057955919981005403\n",
      "Net Pofile similarity for residual without trust feature: 0.0\n",
      "Net Objective value without trust feature: 1.6557002752640355\n"
     ]
    }
   ],
   "source": [
    "net_deg_cen_C, net_deg_cen_R, net_str_C, net_str_R, net_prof_sim_C, net_prof_sim_R, net_obj_val = get_net_values(sc_wo_trust, ac_wo_trust)\n",
    "print(\"Net Degree Centrality for circle without trust feature: \" + str(net_deg_cen_C))\n",
    "print(\"Net Degree Centrality for residual without trust feature: \" + str(net_deg_cen_R))\n",
    "print(\"Net Strength of ties for circle without trust feature: \" + str(net_str_C))\n",
    "print(\"Net Strength of ties for residual without trust feature: \" + str(net_str_R))\n",
    "print(\"Net Pofile similarity for circle without trust feature: \" + str(net_prof_sim_C))\n",
    "print(\"Net Pofile similarity for residual without trust feature: \" + str(net_prof_sim_R))\n",
    "print(\"Net Objective value without trust feature: \" + str(net_obj_val))"
   ]
  },
  {
   "cell_type": "markdown",
   "metadata": {
    "id": "lQ5ph0yuZQLE"
   },
   "source": [
    "Getting locally optimum social circles by considering link/trust feature."
   ]
  },
  {
   "cell_type": "code",
   "execution_count": 83,
   "metadata": {
    "colab": {
     "base_uri": "https://localhost:8080/"
    },
    "id": "yXlkyyHJZTad",
    "outputId": "43aa0903-9fce-43be-d161-e1fac6a752be"
   },
   "outputs": [
    {
     "name": "stdout",
     "output_type": "stream",
     "text": [
      "Running local optimum Genetic Algorithm for best set of active centers.\n",
      "Current best fitness value:  1.5296819383826514\n",
      "Current best set of Active Centers:\n",
      "[80783, 79051, 17248, 73570, 43198, 17502, 37519]\n",
      "Current best fitness value:  2.243142907621028\n",
      "Current best set of Active Centers:\n",
      "[13123, 34006, 3051, 54193, 54193, 16018, 30876]\n",
      "Best Set of Active Centers with trust feature:\n",
      "[13123, 34006, 3051, 54193, 54193, 16018, 30876]\n",
      "Generating Social Circles.\n",
      "Social Circles with trust:\n",
      "{'13123': [47, 60138], '34006': [5949, 31887], '3051': [265, 530, 580, 630, 1257, 1773, 3011, 3998, 4308, 4413, 4425, 5059, 5085, 5093, 5193, 5321, 5394, 5546, 6084, 6331, 6434, 7006, 7615, 7768, 8119, 8171, 8210, 8959, 9023, 9872, 10182, 10215, 10929, 11665, 11739, 11882, 11900, 11963, 12172, 12173, 12716, 13344, 13373, 15949, 15962, 16719, 16885, 18493, 19689, 19714, 21609, 22017, 22102, 22291, 22589, 23018, 23776, 24055, 24861, 24974, 25915, 26691, 28172, 28994, 29926, 30046, 31506, 31633, 32960, 35552, 36242, 37105, 37588, 37931, 37986, 42998, 46095, 51333, 51828, 55213, 57552, 59877, 61103, 68053, 68626, 70471, 70533, 71156, 71668, 74768, 74769, 74771, 77003], '54193': [9513], '16018': [33, 41, 62, 850, 3828, 5189, 5457, 7759, 9422, 16017, 47285], '30876': [1439, 4816, 17845, 35995]}\n"
     ]
    }
   ],
   "source": [
    "ac_w_trust = run_local_optimum_ga(add_trust_ftr=True)\n",
    "print(\"Best Set of Active Centers with trust feature:\")\n",
    "print(ac_w_trust)\n",
    "print(\"Generating Social Circles.\")\n",
    "sc_w_trust = algorithm1(nodeIds, ac_w_trust)\n",
    "print(\"Social Circles with trust:\")\n",
    "print(sc_w_trust)"
   ]
  },
  {
   "cell_type": "markdown",
   "metadata": {
    "id": "1u2lCaFPZszT"
   },
   "source": [
    "Getting net values for social circles with trust feature."
   ]
  },
  {
   "cell_type": "code",
   "execution_count": 84,
   "metadata": {
    "colab": {
     "base_uri": "https://localhost:8080/"
    },
    "id": "_uE-5LEuZud4",
    "outputId": "6356c048-3511-4bcd-9d63-164cb3d6ff5e"
   },
   "outputs": [
    {
     "name": "stdout",
     "output_type": "stream",
     "text": [
      "Net Degree Centrality for circle with trust feature: 1.2063146997929608\n",
      "Net Degree Centrality for residual with trust feature: 0.14285714285714285\n",
      "Net Strength of ties for circle with trust feature: 0.05280594554643292\n",
      "Net Strength of ties for residual with trust feature: 8.224360555966774e-05\n",
      "Net Pofile similarity for circle with trust feature: 0.046162371135619606\n",
      "Net Pofile similarity for residual with trust feature: 0.005824430940272821\n",
      "Net Objective value with trust feature: 1.156519199072038\n"
     ]
    }
   ],
   "source": [
    "net_deg_cen_C_trust, net_deg_cen_R_trust, net_str_C_trust, net_str_R_trust, net_prof_sim_C_trust, net_prof_sim_R_trust, net_obj_val_trust = get_net_values(sc_w_trust, ac_w_trust)\n",
    "print(\"Net Degree Centrality for circle with trust feature: \" + str(net_deg_cen_C_trust))\n",
    "print(\"Net Degree Centrality for residual with trust feature: \" + str(net_deg_cen_R_trust))\n",
    "print(\"Net Strength of ties for circle with trust feature: \" + str(net_str_C_trust))\n",
    "print(\"Net Strength of ties for residual with trust feature: \" + str(net_str_R_trust))\n",
    "print(\"Net Pofile similarity for circle with trust feature: \" + str(net_prof_sim_C_trust))\n",
    "print(\"Net Pofile similarity for residual with trust feature: \" + str(net_prof_sim_R_trust))\n",
    "print(\"Net Objective value with trust feature: \" + str(net_obj_val_trust))"
   ]
  },
  {
   "cell_type": "markdown",
   "metadata": {
    "id": "M0jv7fHRRlp4"
   },
   "source": [
    "#### Globally optimum version of GA (gurantees best set of active centers but convergences slowly)."
   ]
  },
  {
   "cell_type": "code",
   "execution_count": 42,
   "metadata": {
    "id": "aT3offaOJbav"
   },
   "outputs": [],
   "source": [
    "#I think the code is fixed. If there is any error, feel free to message me.\n",
    "def run_global_optimum_ga(Q_desc):\n",
    "\n",
    "    iteration = 0\n",
    "    Q_desc_new_global=[]\n",
    "    pre_fit = 0\n",
    "\n",
    "    while iteration <10:\n",
    "        if (Q_desc_new_global != []):\n",
    "            Q_desc = Q_desc_new_global\n",
    "            pre_fit = Q_desc[0][-1]\n",
    "            Q_desc_new_global = []\n",
    "\n",
    "        for i in range(0,N):\n",
    "            print(i)\n",
    "            #Select two parent chromosomes let say X1 and X2 from a population with high fitness value\n",
    "            #########This trunk try to find the best X after crossover###################################################\n",
    "            #assume fitness value > 1 means high\n",
    "\n",
    "            Q_high = list(filter(lambda x:x[fit_val_index]>1,Q_desc))\n",
    "            if len(Q_high) >10:\n",
    "                Q_high = Q_high[:10]\n",
    "\n",
    "            #print(Q_high)\n",
    "            Q1 = random.choice(Q_high)\n",
    "            Q2 = random.choice(Q_high)\n",
    "            #print(Q1,Q2)\n",
    "            x1 = Q1[:-1]\n",
    "            x1_fit = Q1[-1]\n",
    "            x2 = Q2[:-1]\n",
    "            x2_fit = Q2[-1]\n",
    "            while x2 == x1:\n",
    "                Q2 = random.choice(Q_high)\n",
    "                x2 = Q2[:-1]\n",
    "                x2_fit = Q2[-1]\n",
    "\n",
    "            #random.seed(0)\n",
    "            randc_pos = random.randint(1,K)\n",
    "\n",
    "            x1_new = x1[:randc_pos]+x2[randc_pos:]\n",
    "            x2_new = x2[:randc_pos]+x1[randc_pos:]\n",
    "            if len(x1_new)!=(K):\n",
    "                print(\"x1 is length is wrong:\", x1_new)\n",
    "            if len(x2_new) !=(K):\n",
    "                print(\"x2 is length is wrong:\", x2_new)\n",
    "            x1_new_fit = algorithm2_part1(x1_new)\n",
    "            x2_new_fit = algorithm2_part1(x2_new)\n",
    "\n",
    "            max_fit = max(x1_fit,x2_fit,x1_new_fit,x2_new_fit)\n",
    "\n",
    "            if(x1_fit == max_fit):\n",
    "                x = x1\n",
    "                #print(\"x1 is the best\")\n",
    "            elif (x2_fit == max_fit):\n",
    "                x = x2\n",
    "                #print(\"x2 is the best\")\n",
    "            elif (x1_new_fit == max_fit):\n",
    "                x = x1_new\n",
    "                #print(\"x1 new is the best\")\n",
    "            else:\n",
    "                x = x2_new\n",
    "                #print(\"x2 new is the best\")\n",
    "    ###################original thought###################################        \n",
    "    #         x1 = Q_desc[i][:-1]\n",
    "    #         x2 = Q_desc[i+1][:-1]\n",
    "\n",
    "    #         #cross over\n",
    "    #         #generate a random int randc_pos\n",
    "    #         random.seed(0)\n",
    "    #         randc_pos = randint(1,K)\n",
    "\n",
    "    #         x1_new = x1[:randc_pos]+x2[randc_pos:]\n",
    "    #         x2_new = x2[:randc_pos]+x1[randc_pos:]\n",
    "    #########################################################\n",
    "            #mutation\n",
    "            #generate a random position randm_pos [1,k] and rand_id [1,n]\n",
    "            randm_pos = random.randint(1,K)\n",
    "            rand_id = random.choice(nodeIds)\n",
    "\n",
    "            #x = x1_new\n",
    "            #x = Q_desc[i]\n",
    "            #repair chomorosome if values of two alleles of a chromosome occurs\n",
    "\n",
    "            if rand_id in (x[:randm_pos-1]+x[randm_pos:]):\n",
    "                x_new =x\n",
    "            else:\n",
    "                x_new = x[:randm_pos-1]+[rand_id]+x[randm_pos:]\n",
    "            if len(x_new) !=(K):\n",
    "                print(\"x is length is wrong:\", x_new)\n",
    "            x_new_fit = algorithm2_part1(x_new)\n",
    "            # print(\"This is x_new_fit:\", str(x_new_fit),\"This is Q_desc[i][-1]\",str(Q_desc[i][-1]))\n",
    "            if (x_new_fit > Q_desc[i][-1]):\n",
    "                Q_desc_new_global.append(x_new + [x_new_fit])\n",
    "                #print(\"new Q is better\")\n",
    "            else:\n",
    "                Q_desc_new_global.append(Q_desc[i])\n",
    "\n",
    "        Q_desc_new_global= sorted(Q_desc_new_global,key=lambda x:x[-1],reverse=True)\n",
    "        check(Q_desc_new_global)\n",
    "        print(Q_desc_new_global)\n",
    "        if Q_desc_new_global[0][-1] == pre_fit:\n",
    "            iteration +=1\n",
    "        else:\n",
    "            iteration = 1\n",
    "        print(\"Best fit is \",str(Q_desc_new_global[0][-1]),\", and iteration currently is \", str(iteration))\n"
   ]
  },
  {
   "cell_type": "markdown",
   "metadata": {},
   "source": [
    "## Parallel"
   ]
  },
  {
   "cell_type": "markdown",
   "metadata": {},
   "source": [
    "#### Import \n",
    "The file parallel_functions is needed"
   ]
  },
  {
   "cell_type": "code",
   "execution_count": 20,
   "metadata": {},
   "outputs": [],
   "source": [
    "from multiprocessing import Pool\n",
    "import import_ipynb\n",
    "from ipynb.fs.full.parallel_functions import parallel_insider_algorithm2_part2"
   ]
  },
  {
   "cell_type": "markdown",
   "metadata": {},
   "source": [
    "#### Parallel code\n",
    "Better to use this in argon because it takes up all my CPU to run it"
   ]
  },
  {
   "cell_type": "code",
   "execution_count": 26,
   "metadata": {},
   "outputs": [
    {
     "name": "stdout",
     "output_type": "stream",
     "text": [
      "Best fit is  2.6382662635478207 , and iteration currently is  1\n",
      "Best fit is  2.6382662635478207 , and iteration currently is  2\n"
     ]
    },
    {
     "ename": "KeyboardInterrupt",
     "evalue": "",
     "output_type": "error",
     "traceback": [
      "\u001b[1;31m---------------------------------------------------------------------------\u001b[0m",
      "\u001b[1;31mKeyboardInterrupt\u001b[0m                         Traceback (most recent call last)",
      "\u001b[1;32m<ipython-input-26-b28ad2fc815a>\u001b[0m in \u001b[0;36m<module>\u001b[1;34m\u001b[0m\n\u001b[0;32m     10\u001b[0m         \u001b[0mpool\u001b[0m \u001b[1;33m=\u001b[0m \u001b[0mPool\u001b[0m\u001b[1;33m(\u001b[0m\u001b[1;33m)\u001b[0m\u001b[1;33m\u001b[0m\u001b[1;33m\u001b[0m\u001b[0m\n\u001b[0;32m     11\u001b[0m         \u001b[0mresult_async\u001b[0m \u001b[1;33m=\u001b[0m \u001b[1;33m[\u001b[0m\u001b[0mpool\u001b[0m\u001b[1;33m.\u001b[0m\u001b[0mapply_async\u001b[0m\u001b[1;33m(\u001b[0m\u001b[0mparallel_insider_algorithm2_part2\u001b[0m\u001b[1;33m,\u001b[0m \u001b[0margs\u001b[0m \u001b[1;33m=\u001b[0m \u001b[1;33m(\u001b[0m\u001b[0mi\u001b[0m\u001b[1;33m,\u001b[0m\u001b[0mQ_desc\u001b[0m\u001b[1;33m,\u001b[0m\u001b[0mK\u001b[0m\u001b[1;33m,\u001b[0m\u001b[0mnodeIds\u001b[0m\u001b[1;33m,\u001b[0m\u001b[0msigned_network\u001b[0m\u001b[1;33m,\u001b[0m\u001b[0mnode_features_df\u001b[0m\u001b[1;33m)\u001b[0m\u001b[1;33m)\u001b[0m \u001b[1;32mfor\u001b[0m \u001b[0mi\u001b[0m \u001b[1;32min\u001b[0m \u001b[0mrange\u001b[0m\u001b[1;33m(\u001b[0m\u001b[0mN\u001b[0m\u001b[1;33m)\u001b[0m\u001b[1;33m]\u001b[0m\u001b[1;33m\u001b[0m\u001b[1;33m\u001b[0m\u001b[0m\n\u001b[1;32m---> 12\u001b[1;33m         \u001b[0mQ_desc_new_global\u001b[0m \u001b[1;33m=\u001b[0m \u001b[1;33m[\u001b[0m\u001b[0mr\u001b[0m\u001b[1;33m.\u001b[0m\u001b[0mget\u001b[0m\u001b[1;33m(\u001b[0m\u001b[1;33m)\u001b[0m \u001b[1;32mfor\u001b[0m \u001b[0mr\u001b[0m \u001b[1;32min\u001b[0m \u001b[0mresult_async\u001b[0m\u001b[1;33m]\u001b[0m\u001b[1;33m\u001b[0m\u001b[1;33m\u001b[0m\u001b[0m\n\u001b[0m\u001b[0;32m     13\u001b[0m         \u001b[0mQ_desc_new_global\u001b[0m\u001b[1;33m=\u001b[0m\u001b[0msorted\u001b[0m\u001b[1;33m(\u001b[0m\u001b[0mQ_desc_new_global\u001b[0m\u001b[1;33m,\u001b[0m\u001b[0mkey\u001b[0m\u001b[1;33m=\u001b[0m\u001b[1;32mlambda\u001b[0m \u001b[0mx\u001b[0m\u001b[1;33m:\u001b[0m\u001b[0mx\u001b[0m\u001b[1;33m[\u001b[0m\u001b[1;33m-\u001b[0m\u001b[1;36m1\u001b[0m\u001b[1;33m]\u001b[0m\u001b[1;33m,\u001b[0m\u001b[0mreverse\u001b[0m\u001b[1;33m=\u001b[0m\u001b[1;32mTrue\u001b[0m\u001b[1;33m)\u001b[0m\u001b[1;33m\u001b[0m\u001b[1;33m\u001b[0m\u001b[0m\n\u001b[0;32m     14\u001b[0m         \u001b[0mcheck\u001b[0m\u001b[1;33m(\u001b[0m\u001b[0mQ_desc_new_global\u001b[0m\u001b[1;33m)\u001b[0m\u001b[1;33m\u001b[0m\u001b[1;33m\u001b[0m\u001b[0m\n",
      "\u001b[1;32m<ipython-input-26-b28ad2fc815a>\u001b[0m in \u001b[0;36m<listcomp>\u001b[1;34m(.0)\u001b[0m\n\u001b[0;32m     10\u001b[0m         \u001b[0mpool\u001b[0m \u001b[1;33m=\u001b[0m \u001b[0mPool\u001b[0m\u001b[1;33m(\u001b[0m\u001b[1;33m)\u001b[0m\u001b[1;33m\u001b[0m\u001b[1;33m\u001b[0m\u001b[0m\n\u001b[0;32m     11\u001b[0m         \u001b[0mresult_async\u001b[0m \u001b[1;33m=\u001b[0m \u001b[1;33m[\u001b[0m\u001b[0mpool\u001b[0m\u001b[1;33m.\u001b[0m\u001b[0mapply_async\u001b[0m\u001b[1;33m(\u001b[0m\u001b[0mparallel_insider_algorithm2_part2\u001b[0m\u001b[1;33m,\u001b[0m \u001b[0margs\u001b[0m \u001b[1;33m=\u001b[0m \u001b[1;33m(\u001b[0m\u001b[0mi\u001b[0m\u001b[1;33m,\u001b[0m\u001b[0mQ_desc\u001b[0m\u001b[1;33m,\u001b[0m\u001b[0mK\u001b[0m\u001b[1;33m,\u001b[0m\u001b[0mnodeIds\u001b[0m\u001b[1;33m,\u001b[0m\u001b[0msigned_network\u001b[0m\u001b[1;33m,\u001b[0m\u001b[0mnode_features_df\u001b[0m\u001b[1;33m)\u001b[0m\u001b[1;33m)\u001b[0m \u001b[1;32mfor\u001b[0m \u001b[0mi\u001b[0m \u001b[1;32min\u001b[0m \u001b[0mrange\u001b[0m\u001b[1;33m(\u001b[0m\u001b[0mN\u001b[0m\u001b[1;33m)\u001b[0m\u001b[1;33m]\u001b[0m\u001b[1;33m\u001b[0m\u001b[1;33m\u001b[0m\u001b[0m\n\u001b[1;32m---> 12\u001b[1;33m         \u001b[0mQ_desc_new_global\u001b[0m \u001b[1;33m=\u001b[0m \u001b[1;33m[\u001b[0m\u001b[0mr\u001b[0m\u001b[1;33m.\u001b[0m\u001b[0mget\u001b[0m\u001b[1;33m(\u001b[0m\u001b[1;33m)\u001b[0m \u001b[1;32mfor\u001b[0m \u001b[0mr\u001b[0m \u001b[1;32min\u001b[0m \u001b[0mresult_async\u001b[0m\u001b[1;33m]\u001b[0m\u001b[1;33m\u001b[0m\u001b[1;33m\u001b[0m\u001b[0m\n\u001b[0m\u001b[0;32m     13\u001b[0m         \u001b[0mQ_desc_new_global\u001b[0m\u001b[1;33m=\u001b[0m\u001b[0msorted\u001b[0m\u001b[1;33m(\u001b[0m\u001b[0mQ_desc_new_global\u001b[0m\u001b[1;33m,\u001b[0m\u001b[0mkey\u001b[0m\u001b[1;33m=\u001b[0m\u001b[1;32mlambda\u001b[0m \u001b[0mx\u001b[0m\u001b[1;33m:\u001b[0m\u001b[0mx\u001b[0m\u001b[1;33m[\u001b[0m\u001b[1;33m-\u001b[0m\u001b[1;36m1\u001b[0m\u001b[1;33m]\u001b[0m\u001b[1;33m,\u001b[0m\u001b[0mreverse\u001b[0m\u001b[1;33m=\u001b[0m\u001b[1;32mTrue\u001b[0m\u001b[1;33m)\u001b[0m\u001b[1;33m\u001b[0m\u001b[1;33m\u001b[0m\u001b[0m\n\u001b[0;32m     14\u001b[0m         \u001b[0mcheck\u001b[0m\u001b[1;33m(\u001b[0m\u001b[0mQ_desc_new_global\u001b[0m\u001b[1;33m)\u001b[0m\u001b[1;33m\u001b[0m\u001b[1;33m\u001b[0m\u001b[0m\n",
      "\u001b[1;32mD:\\anaconda3\\envs\\GraphMining\\lib\\multiprocessing\\pool.py\u001b[0m in \u001b[0;36mget\u001b[1;34m(self, timeout)\u001b[0m\n\u001b[0;32m    763\u001b[0m \u001b[1;33m\u001b[0m\u001b[0m\n\u001b[0;32m    764\u001b[0m     \u001b[1;32mdef\u001b[0m \u001b[0mget\u001b[0m\u001b[1;33m(\u001b[0m\u001b[0mself\u001b[0m\u001b[1;33m,\u001b[0m \u001b[0mtimeout\u001b[0m\u001b[1;33m=\u001b[0m\u001b[1;32mNone\u001b[0m\u001b[1;33m)\u001b[0m\u001b[1;33m:\u001b[0m\u001b[1;33m\u001b[0m\u001b[1;33m\u001b[0m\u001b[0m\n\u001b[1;32m--> 765\u001b[1;33m         \u001b[0mself\u001b[0m\u001b[1;33m.\u001b[0m\u001b[0mwait\u001b[0m\u001b[1;33m(\u001b[0m\u001b[0mtimeout\u001b[0m\u001b[1;33m)\u001b[0m\u001b[1;33m\u001b[0m\u001b[1;33m\u001b[0m\u001b[0m\n\u001b[0m\u001b[0;32m    766\u001b[0m         \u001b[1;32mif\u001b[0m \u001b[1;32mnot\u001b[0m \u001b[0mself\u001b[0m\u001b[1;33m.\u001b[0m\u001b[0mready\u001b[0m\u001b[1;33m(\u001b[0m\u001b[1;33m)\u001b[0m\u001b[1;33m:\u001b[0m\u001b[1;33m\u001b[0m\u001b[1;33m\u001b[0m\u001b[0m\n\u001b[0;32m    767\u001b[0m             \u001b[1;32mraise\u001b[0m \u001b[0mTimeoutError\u001b[0m\u001b[1;33m\u001b[0m\u001b[1;33m\u001b[0m\u001b[0m\n",
      "\u001b[1;32mD:\\anaconda3\\envs\\GraphMining\\lib\\multiprocessing\\pool.py\u001b[0m in \u001b[0;36mwait\u001b[1;34m(self, timeout)\u001b[0m\n\u001b[0;32m    760\u001b[0m \u001b[1;33m\u001b[0m\u001b[0m\n\u001b[0;32m    761\u001b[0m     \u001b[1;32mdef\u001b[0m \u001b[0mwait\u001b[0m\u001b[1;33m(\u001b[0m\u001b[0mself\u001b[0m\u001b[1;33m,\u001b[0m \u001b[0mtimeout\u001b[0m\u001b[1;33m=\u001b[0m\u001b[1;32mNone\u001b[0m\u001b[1;33m)\u001b[0m\u001b[1;33m:\u001b[0m\u001b[1;33m\u001b[0m\u001b[1;33m\u001b[0m\u001b[0m\n\u001b[1;32m--> 762\u001b[1;33m         \u001b[0mself\u001b[0m\u001b[1;33m.\u001b[0m\u001b[0m_event\u001b[0m\u001b[1;33m.\u001b[0m\u001b[0mwait\u001b[0m\u001b[1;33m(\u001b[0m\u001b[0mtimeout\u001b[0m\u001b[1;33m)\u001b[0m\u001b[1;33m\u001b[0m\u001b[1;33m\u001b[0m\u001b[0m\n\u001b[0m\u001b[0;32m    763\u001b[0m \u001b[1;33m\u001b[0m\u001b[0m\n\u001b[0;32m    764\u001b[0m     \u001b[1;32mdef\u001b[0m \u001b[0mget\u001b[0m\u001b[1;33m(\u001b[0m\u001b[0mself\u001b[0m\u001b[1;33m,\u001b[0m \u001b[0mtimeout\u001b[0m\u001b[1;33m=\u001b[0m\u001b[1;32mNone\u001b[0m\u001b[1;33m)\u001b[0m\u001b[1;33m:\u001b[0m\u001b[1;33m\u001b[0m\u001b[1;33m\u001b[0m\u001b[0m\n",
      "\u001b[1;32mD:\\anaconda3\\envs\\GraphMining\\lib\\threading.py\u001b[0m in \u001b[0;36mwait\u001b[1;34m(self, timeout)\u001b[0m\n\u001b[0;32m    556\u001b[0m             \u001b[0msignaled\u001b[0m \u001b[1;33m=\u001b[0m \u001b[0mself\u001b[0m\u001b[1;33m.\u001b[0m\u001b[0m_flag\u001b[0m\u001b[1;33m\u001b[0m\u001b[1;33m\u001b[0m\u001b[0m\n\u001b[0;32m    557\u001b[0m             \u001b[1;32mif\u001b[0m \u001b[1;32mnot\u001b[0m \u001b[0msignaled\u001b[0m\u001b[1;33m:\u001b[0m\u001b[1;33m\u001b[0m\u001b[1;33m\u001b[0m\u001b[0m\n\u001b[1;32m--> 558\u001b[1;33m                 \u001b[0msignaled\u001b[0m \u001b[1;33m=\u001b[0m \u001b[0mself\u001b[0m\u001b[1;33m.\u001b[0m\u001b[0m_cond\u001b[0m\u001b[1;33m.\u001b[0m\u001b[0mwait\u001b[0m\u001b[1;33m(\u001b[0m\u001b[0mtimeout\u001b[0m\u001b[1;33m)\u001b[0m\u001b[1;33m\u001b[0m\u001b[1;33m\u001b[0m\u001b[0m\n\u001b[0m\u001b[0;32m    559\u001b[0m             \u001b[1;32mreturn\u001b[0m \u001b[0msignaled\u001b[0m\u001b[1;33m\u001b[0m\u001b[1;33m\u001b[0m\u001b[0m\n\u001b[0;32m    560\u001b[0m \u001b[1;33m\u001b[0m\u001b[0m\n",
      "\u001b[1;32mD:\\anaconda3\\envs\\GraphMining\\lib\\threading.py\u001b[0m in \u001b[0;36mwait\u001b[1;34m(self, timeout)\u001b[0m\n\u001b[0;32m    300\u001b[0m         \u001b[1;32mtry\u001b[0m\u001b[1;33m:\u001b[0m    \u001b[1;31m# restore state no matter what (e.g., KeyboardInterrupt)\u001b[0m\u001b[1;33m\u001b[0m\u001b[1;33m\u001b[0m\u001b[0m\n\u001b[0;32m    301\u001b[0m             \u001b[1;32mif\u001b[0m \u001b[0mtimeout\u001b[0m \u001b[1;32mis\u001b[0m \u001b[1;32mNone\u001b[0m\u001b[1;33m:\u001b[0m\u001b[1;33m\u001b[0m\u001b[1;33m\u001b[0m\u001b[0m\n\u001b[1;32m--> 302\u001b[1;33m                 \u001b[0mwaiter\u001b[0m\u001b[1;33m.\u001b[0m\u001b[0macquire\u001b[0m\u001b[1;33m(\u001b[0m\u001b[1;33m)\u001b[0m\u001b[1;33m\u001b[0m\u001b[1;33m\u001b[0m\u001b[0m\n\u001b[0m\u001b[0;32m    303\u001b[0m                 \u001b[0mgotit\u001b[0m \u001b[1;33m=\u001b[0m \u001b[1;32mTrue\u001b[0m\u001b[1;33m\u001b[0m\u001b[1;33m\u001b[0m\u001b[0m\n\u001b[0;32m    304\u001b[0m             \u001b[1;32melse\u001b[0m\u001b[1;33m:\u001b[0m\u001b[1;33m\u001b[0m\u001b[1;33m\u001b[0m\u001b[0m\n",
      "\u001b[1;31mKeyboardInterrupt\u001b[0m: "
     ]
    }
   ],
   "source": [
    "if __name__ == '__main__':\n",
    "    iteration = 0\n",
    "    Q_desc_new_global=[]\n",
    "    pre_fit = 0\n",
    "    while iteration <10:\n",
    "        if (Q_desc_new_global != []):\n",
    "            Q_desc = Q_desc_new_global\n",
    "            pre_fit = Q_desc[0][-1]\n",
    "            Q_desc_new_global = []\n",
    "        pool = Pool()\n",
    "        result_async = [pool.apply_async(parallel_insider_algorithm2_part2, args = (i,Q_desc,K,nodeIds,signed_network,node_features_df)) for i in range(N)] \n",
    "        Q_desc_new_global = [r.get() for r in result_async] \n",
    "        Q_desc_new_global=sorted(Q_desc_new_global,key=lambda x:x[-1],reverse=True)\n",
    "        check(Q_desc_new_global)\n",
    "        #print(Q_desc_new_global)\n",
    "        if Q_desc_new_global[0][-1] == pre_fit:\n",
    "            iteration +=1\n",
    "        else:\n",
    "            iteration=1\n",
    "        print(\"Best fit is \",str(Q_desc_new_global[0][-1]),\", and iteration currently is \", str(iteration))"
   ]
  }
 ],
 "metadata": {
  "colab": {
   "authorship_tag": "ABX9TyMnaLmWzpgsXMvwfHWUf7cZ",
   "collapsed_sections": [],
   "include_colab_link": true,
   "name": "GA-K-means-clustering.ipynb",
   "provenance": []
  },
  "kernelspec": {
   "display_name": "Python 3",
   "language": "python",
   "name": "python3"
  },
  "language_info": {
   "codemirror_mode": {
    "name": "ipython",
    "version": 3
   },
   "file_extension": ".py",
   "mimetype": "text/x-python",
   "name": "python",
   "nbconvert_exporter": "python",
   "pygments_lexer": "ipython3",
   "version": "3.8.5"
  }
 },
 "nbformat": 4,
 "nbformat_minor": 1
}
