{
  "nbformat": 4,
  "nbformat_minor": 0,
  "metadata": {
    "colab": {
      "name": "GA-K-means-clustering.ipynb",
      "provenance": [],
      "collapsed_sections": [],
      "authorship_tag": "ABX9TyOyHzFT3vxztprY3FCTbSFw",
      "include_colab_link": true
    },
    "kernelspec": {
      "name": "python3",
      "display_name": "Python 3"
    }
  },
  "cells": [
    {
      "cell_type": "markdown",
      "metadata": {
        "id": "view-in-github",
        "colab_type": "text"
      },
      "source": [
        "<a href=\"https://colab.research.google.com/github/MissTiny/Graph_Mining_Node_Edge_K-Mean_Clustering/blob/main/GA_K_means_clustering.ipynb\" target=\"_parent\"><img src=\"https://colab.research.google.com/assets/colab-badge.svg\" alt=\"Open In Colab\"/></a>"
      ]
    },
    {
      "cell_type": "markdown",
      "metadata": {
        "id": "xZFU01QtJgiF"
      },
      "source": [
        "Imports."
      ]
    },
    {
      "cell_type": "code",
      "metadata": {
        "id": "S7t5BhNIJkBq"
      },
      "source": [
        "import json\n",
        "import numpy as np\n",
        "import pandas as pd\n",
        "import networkx as nx\n",
        "\n",
        "from sklearn.preprocessing import MinMaxScaler\n",
        "from sklearn.cluster import KMeans\n",
        "import matplotlib.pyplot as plt\n",
        "import random\n",
        "import math"
      ],
      "execution_count": 14,
      "outputs": []
    },
    {
      "cell_type": "markdown",
      "metadata": {
        "id": "IeXu_OCuJn2U"
      },
      "source": [
        "Reading Signed network."
      ]
    },
    {
      "cell_type": "code",
      "metadata": {
        "id": "1WuvUw0nJtSO"
      },
      "source": [
        "signed_network = nx.read_weighted_edgelist('soc-sign-Slashdot090221.txt.gz', comments='#', create_using=nx.DiGraph(), nodetype = int)"
      ],
      "execution_count": 5,
      "outputs": []
    },
    {
      "cell_type": "markdown",
      "metadata": {
        "id": "YbivohZaJywJ"
      },
      "source": [
        "Reading node features."
      ]
    },
    {
      "cell_type": "code",
      "metadata": {
        "id": "mV5BVQQIJ4eV"
      },
      "source": [
        "node_features ={}\n",
        "no_of_features = 100\n",
        "line_no = 0\n",
        "with open(\"embedded-soc-sign-slashdot\") as nf: \n",
        "    Lines = nf.readlines() \n",
        "    for line in Lines:\n",
        "        #skip first line\n",
        "        if line_no > 0:\n",
        "            # splitting by space\n",
        "            values = line.split()\n",
        "            values = values[:no_of_features+1]\n",
        "            index = 0\n",
        "            # reading node features\n",
        "            for val in values:\n",
        "                if index == 0:\n",
        "                    # reading nodeIds for first time\n",
        "                    if line_no == 1:\n",
        "                        node_features[\"nodeId\"] = [int(val)]\n",
        "                    else:\n",
        "                        node_features[\"nodeId\"].append(int(val))\n",
        "                \n",
        "                elif index > 0:\n",
        "                    # reading features for the first time\n",
        "                    if line_no == 1:\n",
        "                        node_features[\"feature\"+str(index)] = [float(val)]\n",
        "                    else:\n",
        "                        node_features[\"feature\"+str(index)].append(float(val))\n",
        "                index+=1\n",
        "        line_no += 1\n",
        "\n",
        "node_features_df = pd.DataFrame(node_features)"
      ],
      "execution_count": 15,
      "outputs": []
    },
    {
      "cell_type": "markdown",
      "metadata": {
        "id": "fm--_XPqS770"
      },
      "source": [
        "Determining optimal number of clusters or number of active centers using elbow method."
      ]
    },
    {
      "cell_type": "code",
      "metadata": {
        "id": "iMdq35C1S9Yg",
        "outputId": "58680dd7-3f06-4cf1-d38f-85785a5d733c",
        "colab": {
          "base_uri": "https://localhost:8080/",
          "height": 295
        }
      },
      "source": [
        "# To give equal importance to all features, we need to scale the continuous features. \n",
        "# We will be using scikit-learn’s MinMaxScaler as the feature matrix is a mix of binary and continuous features . \n",
        "mms = MinMaxScaler()\n",
        "mms.fit(node_features_df)\n",
        "node_features_df_transformed = mms.transform(node_features_df)\n",
        "\n",
        "Sum_of_squared_distances = []\n",
        "K = range(1,50)\n",
        "for k in K:\n",
        "    km = KMeans(n_clusters=k, n_jobs=-1)\n",
        "    km = km.fit(node_features_df_transformed)\n",
        "    Sum_of_squared_distances.append(km.inertia_)\n",
        "\n",
        "plt.plot(K, Sum_of_squared_distances, 'bx-')\n",
        "plt.xlabel('k')\n",
        "plt.ylabel('Sum_of_squared_distances')\n",
        "plt.title('Elbow Method For Optimal k')\n",
        "plt.show()"
      ],
      "execution_count": 18,
      "outputs": [
        {
          "output_type": "display_data",
          "data": {
            "image/png": "[encoded data removed]",
            "text/plain": [
              "<Figure size 432x288 with 1 Axes>"
            ]
          },
          "metadata": {
            "tags": [],
            "needs_background": "light"
          }
        }
      ]
    },
    {
      "cell_type": "markdown",
      "metadata": {
        "id": "CibcFtRIb9Vo"
      },
      "source": [
        "From above elbow plot, it looks like optimal value of K is 7."
      ]
    },
    {
      "cell_type": "code",
      "metadata": {
        "id": "QlmbcUdAcLGT"
      },
      "source": [
        "K = 7"
      ],
      "execution_count": 17,
      "outputs": []
    },
    {
      "cell_type": "markdown",
      "metadata": {
        "id": "2LR3jpXdcP6v"
      },
      "source": [
        "Extracting k active centers."
      ]
    },
    {
      "cell_type": "code",
      "metadata": {
        "id": "yVcxaZpPcSMG"
      },
      "source": [
        "random.seed(0)\n",
        "nodeIds = list(node_features_df[\"nodeId\"])\n",
        "active_centers = random.choices(nodeIds, k=K)"
      ],
      "execution_count": 18,
      "outputs": []
    },
    {
      "cell_type": "markdown",
      "metadata": {
        "id": "3SWj_a73cV9-"
      },
      "source": [
        "Removing active_centers."
      ]
    },
    {
      "cell_type": "code",
      "metadata": {
        "id": "4Bg1vV5YcZQF"
      },
      "source": [
        "# nodeIds Without active centers\n",
        "nodeIdsWAC = list(set(nodeIds) - set(active_centers))"
      ],
      "execution_count": 19,
      "outputs": []
    },
    {
      "cell_type": "markdown",
      "metadata": {
        "id": "taLI3zsWccD3"
      },
      "source": [
        "Calculating profile similarities."
      ]
    },
    {
      "cell_type": "code",
      "metadata": {
        "id": "xocDkYZ5ceye"
      },
      "source": [
        "# based on euclidean distance\n",
        "def profSimilarity(nodeId, active_center):\n",
        "    \n",
        "    nodeId_index = nodeIds.index(nodeId)\n",
        "    ac_index = active_centers.index(active_center)\n",
        "    # setting to 1 to avoid division by zero error\n",
        "    sum = 1\n",
        "    for i in range(0, no_of_features):\n",
        "        \n",
        "        sq_diff = (node_features_df[\"feature\"+str(i+1)][nodeId_index] - node_features_df[\"feature\"+str(i+1)][ac_index])**2\n",
        "        sum += sq_diff\n",
        "\n",
        "    # returning inverse as high value means less similarity.\n",
        "    return 1/math.sqrt(sum)"
      ],
      "execution_count": 25,
      "outputs": []
    },
    {
      "cell_type": "markdown",
      "metadata": {
        "id": "eXh0qDD2uqsz"
      },
      "source": [
        "Social Circle Generation using K-means."
      ]
    },
    {
      "cell_type": "code",
      "metadata": {
        "id": "U4yRffOauroM"
      },
      "source": [
        "# initializing social circles\n",
        "social_circles = {}\n",
        "for i in range (0, K):\n",
        "        active_center = active_centers[i]\n",
        "        social_circles[str(active_center)] = []\n",
        "\n",
        "def edgeExists(nodeId, active_center):\n",
        "    if signed_network.has_edge(nodeId, active_center):\n",
        "        return 1\n",
        "    else:\n",
        "        return 0\n",
        "\n",
        "def strengthOfTies(nodeId, active_center):\n",
        "  sum = 0\n",
        "  for degree in list(dict(signed_network.degree([nodeId, active_center])).values()):\n",
        "    sum+=degree\n",
        "  sum -= 1\n",
        "  return 1/sum\n",
        "  \n",
        "for nodeId in nodeIdsWAC:\n",
        "    maxPs = 0\n",
        "    maxStr = 0\n",
        "    \n",
        "    for i in range (0, K):\n",
        "        active_center = active_centers[i]\n",
        "        p1 = 0\n",
        "        p2 = 0\n",
        "        p3 = 0\n",
        "        \n",
        "        p1 = edgeExists(nodeId, active_center)\n",
        "        p2 = profSimilarity(nodeId, active_center)\n",
        "        p3 = strengthOfTies(nodeId, active_center)\n",
        "\n",
        "        if maxPs < p2:\n",
        "          maxPs = p2\n",
        "        else:\n",
        "          maxPs = maxPs\n",
        "\n",
        "        if maxStr < p3:\n",
        "          maxStr = p3\n",
        "        else:\n",
        "          maxStr = maxStr\n",
        "\n",
        "        for j in range (0, K):\n",
        "          ac = active_centers[j]\n",
        "          if p1 == 1 and p2 == maxPs and p3 == maxStr:\n",
        "            social_circles[str(ac)].append(nodeId)\n",
        "\n"
      ],
      "execution_count": null,
      "outputs": []
    },
    {
      "cell_type": "code",
      "metadata": {
        "id": "Z-c4Ve-cuwLn"
      },
      "source": [
        ""
      ],
      "execution_count": null,
      "outputs": []
    }
  ]
}