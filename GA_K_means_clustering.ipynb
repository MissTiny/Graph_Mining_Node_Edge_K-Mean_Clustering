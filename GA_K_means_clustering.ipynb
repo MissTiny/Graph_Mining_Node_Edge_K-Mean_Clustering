{
  "nbformat": 4,
  "nbformat_minor": 0,
  "metadata": {
    "colab": {
      "name": "GA-K-means-clustering.ipynb",
      "provenance": [],
      "authorship_tag": "ABX9TyPfEWJSsy6drknQUthSXSuH",
      "include_colab_link": true
    },
    "kernelspec": {
      "name": "python3",
      "display_name": "Python 3"
    }
  },
  "cells": [
    {
      "cell_type": "markdown",
      "metadata": {
        "id": "view-in-github",
        "colab_type": "text"
      },
      "source": [
        "<a href=\"https://colab.research.google.com/github/MissTiny/Graph_Mining_Node_Edge_K-Mean_Clustering/blob/main/GA_K_means_clustering.ipynb\" target=\"_parent\"><img src=\"https://colab.research.google.com/assets/colab-badge.svg\" alt=\"Open In Colab\"/></a>"
      ]
    },
    {
      "cell_type": "markdown",
      "metadata": {
        "id": "xZFU01QtJgiF"
      },
      "source": [
        "Imports."
      ]
    },
    {
      "cell_type": "code",
      "metadata": {
        "id": "S7t5BhNIJkBq"
      },
      "source": [
        "import json\n",
        "import numpy as np\n",
        "import pandas as pd\n",
        "import networkx as nx\n",
        "\n",
        "from sklearn.preprocessing import MinMaxScaler\n",
        "from sklearn.cluster import KMeans\n",
        "import matplotlib.pyplot as plt"
      ],
      "execution_count": 4,
      "outputs": []
    },
    {
      "cell_type": "markdown",
      "metadata": {
        "id": "IeXu_OCuJn2U"
      },
      "source": [
        "Reading Signed network."
      ]
    },
    {
      "cell_type": "code",
      "metadata": {
        "id": "1WuvUw0nJtSO"
      },
      "source": [
        "signed_network = nx.read_weighted_edgelist('soc-sign-Slashdot090221.txt.gz', comments='#', create_using=nx.DiGraph(), nodetype = int)"
      ],
      "execution_count": 2,
      "outputs": []
    },
    {
      "cell_type": "markdown",
      "metadata": {
        "id": "YbivohZaJywJ"
      },
      "source": [
        "Reading node features."
      ]
    },
    {
      "cell_type": "code",
      "metadata": {
        "id": "mV5BVQQIJ4eV"
      },
      "source": [
        "node_features ={}\n",
        "line_no = 0\n",
        "with open(\"embedded-soc-sign-slashdot\") as nf: \n",
        "    Lines = nf.readlines() \n",
        "    for line in Lines:\n",
        "        #skip first line\n",
        "        if line_no > 0:\n",
        "            # splitting by space\n",
        "            values = line.split()\n",
        "            index = 0\n",
        "            # reading node features\n",
        "            for val in values:\n",
        "                if index == 0:\n",
        "                    # reading nodeIds for first time\n",
        "                    if line_no == 1:\n",
        "                        node_features[\"nodeId\"] = [val]\n",
        "                    else:\n",
        "                        node_features[\"nodeId\"].append(val)\n",
        "                \n",
        "                elif index > 0:\n",
        "                    # reading features for the first time\n",
        "                    if line_no == 1:\n",
        "                        node_features[\"feature\"+str(index)] = [val]\n",
        "                    else:\n",
        "                        node_features[\"feature\"+str(index)].append(val)\n",
        "                index+=1\n",
        "        line_no += 1\n",
        "\n",
        "node_features_df = pd.DataFrame(node_features)"
      ],
      "execution_count": 5,
      "outputs": []
    },
    {
      "cell_type": "markdown",
      "metadata": {
        "id": "fm--_XPqS770"
      },
      "source": [
        "Determining optimal number of clusters or number of active centers using elbow method."
      ]
    },
    {
      "cell_type": "code",
      "metadata": {
        "id": "iMdq35C1S9Yg"
      },
      "source": [
        "# To give equal importance to all features, we need to scale the continuous features. \n",
        "# We will be using scikit-learn’s MinMaxScaler as the feature matrix is a mix of binary and continuous features . \n",
        "mms = MinMaxScaler()\n",
        "mms.fit(node_features_df)\n",
        "node_features_df_transformed = mms.transform(node_features_df)\n",
        "\n",
        "Sum_of_squared_distances = []\n",
        "K = range(1,100)\n",
        "for k in K:\n",
        "    km = KMeans(n_clusters=k)\n",
        "    km = km.fit(node_features_df_transformed)\n",
        "    Sum_of_squared_distances.append(km.inertia_)\n",
        "\n",
        "plt.plot(K, Sum_of_squared_distances, 'bx-')\n",
        "plt.xlabel('k')\n",
        "plt.ylabel('Sum_of_squared_distances')\n",
        "plt.title('Elbow Method For Optimal k')\n",
        "plt.show()"
      ],
      "execution_count": null,
      "outputs": []
    }
  ]
}