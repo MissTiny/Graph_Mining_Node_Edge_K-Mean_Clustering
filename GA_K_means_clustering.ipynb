{
  "nbformat": 4,
  "nbformat_minor": 0,
  "metadata": {
    "colab": {
      "name": "GA-K-means-clustering.ipynb",
      "provenance": [],
      "collapsed_sections": [],
      "authorship_tag": "ABX9TyOCQo7tQ7RWgkRjBLzpDQQP",
      "include_colab_link": true
    },
    "kernelspec": {
      "display_name": "Python 3",
      "name": "python3"
    }
  },
  "cells": [
    {
      "cell_type": "markdown",
      "metadata": {
        "id": "view-in-github",
        "colab_type": "text"
      },
      "source": [
        "<a href=\"https://colab.research.google.com/github/MissTiny/Graph_Mining_Node_Edge_K-Mean_Clustering/blob/evaluation/GA_K_means_clustering.ipynb\" target=\"_parent\"><img src=\"https://colab.research.google.com/assets/colab-badge.svg\" alt=\"Open In Colab\"/></a>"
      ]
    },
    {
      "cell_type": "markdown",
      "metadata": {
        "id": "xZFU01QtJgiF"
      },
      "source": [
        "Imports."
      ]
    },
    {
      "cell_type": "code",
      "metadata": {
        "id": "S7t5BhNIJkBq"
      },
      "source": [
        "import json\n",
        "import numpy as np\n",
        "import pandas as pd\n",
        "import networkx as nx\n",
        "\n",
        "from sklearn.preprocessing import MinMaxScaler\n",
        "from sklearn.cluster import KMeans\n",
        "import matplotlib.pyplot as plt\n",
        "import random\n",
        "import math"
      ],
      "execution_count": 3,
      "outputs": []
    },
    {
      "cell_type": "markdown",
      "metadata": {
        "id": "IeXu_OCuJn2U"
      },
      "source": [
        "Reading Signed network."
      ]
    },
    {
      "cell_type": "code",
      "metadata": {
        "id": "1WuvUw0nJtSO"
      },
      "source": [
        "signed_network = nx.read_weighted_edgelist('soc-sign-Slashdot090221.txt.gz', comments='#', create_using=nx.DiGraph(), nodetype = int)"
      ],
      "execution_count": 4,
      "outputs": []
    },
    {
      "cell_type": "markdown",
      "metadata": {
        "id": "YbivohZaJywJ"
      },
      "source": [
        "Reading node features."
      ]
    },
    {
      "cell_type": "code",
      "metadata": {
        "id": "mV5BVQQIJ4eV"
      },
      "source": [
        "node_features ={}\n",
        "no_of_features = 100\n",
        "line_no = 0\n",
        "with open(\"embedded-soc-sign-slashdot\") as nf: \n",
        "    Lines = nf.readlines() \n",
        "    for line in Lines:\n",
        "        #skip first line\n",
        "        if line_no > 0:\n",
        "            # splitting by space\n",
        "            values = line.split()\n",
        "            values = values[:no_of_features+1]\n",
        "            index = 0\n",
        "            # reading node features\n",
        "            for val in values:\n",
        "                if index == 0:\n",
        "                    # reading nodeIds for first time\n",
        "                    if line_no == 1:\n",
        "                        node_features[\"nodeId\"] = [int(val)]\n",
        "                    else:\n",
        "                        node_features[\"nodeId\"].append(int(val))\n",
        "                \n",
        "                elif index > 0:\n",
        "                    # reading features for the first time\n",
        "                    if line_no == 1:\n",
        "                        node_features[\"feature\"+str(index)] = [float(val)]\n",
        "                    else:\n",
        "                        node_features[\"feature\"+str(index)].append(float(val))\n",
        "                index+=1\n",
        "        line_no += 1\n",
        "\n",
        "node_features_df = pd.DataFrame(node_features)"
      ],
      "execution_count": 5,
      "outputs": []
    },
    {
      "cell_type": "markdown",
      "metadata": {
        "id": "fm--_XPqS770"
      },
      "source": [
        "Determining optimal number of clusters or number of active centers using elbow method."
      ]
    },
    {
      "cell_type": "code",
      "metadata": {
        "id": "iMdq35C1S9Yg",
        "colab": {
          "base_uri": "https://localhost:8080/",
          "height": 395
        },
        "outputId": "02953a10-63e7-479f-c2d2-e29e41866c5c"
      },
      "source": [
        "# To give equal importance to all features, we need to scale the continuous features. \n",
        "# We will be using scikit-learn’s MinMaxScaler as the feature matrix is a mix of binary and continuous features . \n",
        "mms = MinMaxScaler()\n",
        "mms.fit(node_features_df)\n",
        "node_features_df_transformed = mms.transform(node_features_df)\n",
        "\n",
        "Sum_of_squared_distances = []\n",
        "K = range(1,50)\n",
        "for k in K:\n",
        "    km = KMeans(n_clusters=k, n_jobs=-1)\n",
        "    km = km.fit(node_features_df_transformed)\n",
        "    Sum_of_squared_distances.append(km.inertia_)\n",
        "\n",
        "plt.plot(K, Sum_of_squared_distances, 'bx-')\n",
        "plt.xlabel('k')\n",
        "plt.ylabel('Sum_of_squared_distances')\n",
        "plt.title('Elbow Method For Optimal k')\n",
        "plt.show()"
      ],
      "execution_count": 6,
      "outputs": [
        {
          "output_type": "error",
          "ename": "KeyboardInterrupt",
          "evalue": "ignored",
          "traceback": [
            "\u001b[0;31m---------------------------------------------------------------------------\u001b[0m",
            "\u001b[0;31mKeyboardInterrupt\u001b[0m                         Traceback (most recent call last)",
            "\u001b[0;32m<ipython-input-6-c04536026729>\u001b[0m in \u001b[0;36m<module>\u001b[0;34m()\u001b[0m\n\u001b[1;32m      9\u001b[0m \u001b[0;32mfor\u001b[0m \u001b[0mk\u001b[0m \u001b[0;32min\u001b[0m \u001b[0mK\u001b[0m\u001b[0;34m:\u001b[0m\u001b[0;34m\u001b[0m\u001b[0;34m\u001b[0m\u001b[0m\n\u001b[1;32m     10\u001b[0m     \u001b[0mkm\u001b[0m \u001b[0;34m=\u001b[0m \u001b[0mKMeans\u001b[0m\u001b[0;34m(\u001b[0m\u001b[0mn_clusters\u001b[0m\u001b[0;34m=\u001b[0m\u001b[0mk\u001b[0m\u001b[0;34m,\u001b[0m \u001b[0mn_jobs\u001b[0m\u001b[0;34m=\u001b[0m\u001b[0;34m-\u001b[0m\u001b[0;36m1\u001b[0m\u001b[0;34m)\u001b[0m\u001b[0;34m\u001b[0m\u001b[0;34m\u001b[0m\u001b[0m\n\u001b[0;32m---> 11\u001b[0;31m     \u001b[0mkm\u001b[0m \u001b[0;34m=\u001b[0m \u001b[0mkm\u001b[0m\u001b[0;34m.\u001b[0m\u001b[0mfit\u001b[0m\u001b[0;34m(\u001b[0m\u001b[0mnode_features_df_transformed\u001b[0m\u001b[0;34m)\u001b[0m\u001b[0;34m\u001b[0m\u001b[0;34m\u001b[0m\u001b[0m\n\u001b[0m\u001b[1;32m     12\u001b[0m     \u001b[0mSum_of_squared_distances\u001b[0m\u001b[0;34m.\u001b[0m\u001b[0mappend\u001b[0m\u001b[0;34m(\u001b[0m\u001b[0mkm\u001b[0m\u001b[0;34m.\u001b[0m\u001b[0minertia_\u001b[0m\u001b[0;34m)\u001b[0m\u001b[0;34m\u001b[0m\u001b[0;34m\u001b[0m\u001b[0m\n\u001b[1;32m     13\u001b[0m \u001b[0;34m\u001b[0m\u001b[0m\n",
            "\u001b[0;32m/usr/local/lib/python3.6/dist-packages/sklearn/cluster/_kmeans.py\u001b[0m in \u001b[0;36mfit\u001b[0;34m(self, X, y, sample_weight)\u001b[0m\n\u001b[1;32m    954\u001b[0m                     \u001b[0mrandom_state\u001b[0m\u001b[0;34m=\u001b[0m\u001b[0mseed\u001b[0m\u001b[0;34m\u001b[0m\u001b[0;34m\u001b[0m\u001b[0m\n\u001b[1;32m    955\u001b[0m                 )\n\u001b[0;32m--> 956\u001b[0;31m                 for seed in seeds)\n\u001b[0m\u001b[1;32m    957\u001b[0m             \u001b[0;31m# Get results with the lowest inertia\u001b[0m\u001b[0;34m\u001b[0m\u001b[0;34m\u001b[0m\u001b[0;34m\u001b[0m\u001b[0m\n\u001b[1;32m    958\u001b[0m             \u001b[0mlabels\u001b[0m\u001b[0;34m,\u001b[0m \u001b[0minertia\u001b[0m\u001b[0;34m,\u001b[0m \u001b[0mcenters\u001b[0m\u001b[0;34m,\u001b[0m \u001b[0mn_iters\u001b[0m \u001b[0;34m=\u001b[0m \u001b[0mzip\u001b[0m\u001b[0;34m(\u001b[0m\u001b[0;34m*\u001b[0m\u001b[0mresults\u001b[0m\u001b[0;34m)\u001b[0m\u001b[0;34m\u001b[0m\u001b[0;34m\u001b[0m\u001b[0m\n",
            "\u001b[0;32m/usr/local/lib/python3.6/dist-packages/joblib/parallel.py\u001b[0m in \u001b[0;36m__call__\u001b[0;34m(self, iterable)\u001b[0m\n\u001b[1;32m   1059\u001b[0m \u001b[0;34m\u001b[0m\u001b[0m\n\u001b[1;32m   1060\u001b[0m             \u001b[0;32mwith\u001b[0m \u001b[0mself\u001b[0m\u001b[0;34m.\u001b[0m\u001b[0m_backend\u001b[0m\u001b[0;34m.\u001b[0m\u001b[0mretrieval_context\u001b[0m\u001b[0;34m(\u001b[0m\u001b[0;34m)\u001b[0m\u001b[0;34m:\u001b[0m\u001b[0;34m\u001b[0m\u001b[0;34m\u001b[0m\u001b[0m\n\u001b[0;32m-> 1061\u001b[0;31m                 \u001b[0mself\u001b[0m\u001b[0;34m.\u001b[0m\u001b[0mretrieve\u001b[0m\u001b[0;34m(\u001b[0m\u001b[0;34m)\u001b[0m\u001b[0;34m\u001b[0m\u001b[0;34m\u001b[0m\u001b[0m\n\u001b[0m\u001b[1;32m   1062\u001b[0m             \u001b[0;31m# Make sure that we get a last message telling us we are done\u001b[0m\u001b[0;34m\u001b[0m\u001b[0;34m\u001b[0m\u001b[0;34m\u001b[0m\u001b[0m\n\u001b[1;32m   1063\u001b[0m             \u001b[0melapsed_time\u001b[0m \u001b[0;34m=\u001b[0m \u001b[0mtime\u001b[0m\u001b[0;34m.\u001b[0m\u001b[0mtime\u001b[0m\u001b[0;34m(\u001b[0m\u001b[0;34m)\u001b[0m \u001b[0;34m-\u001b[0m \u001b[0mself\u001b[0m\u001b[0;34m.\u001b[0m\u001b[0m_start_time\u001b[0m\u001b[0;34m\u001b[0m\u001b[0;34m\u001b[0m\u001b[0m\n",
            "\u001b[0;32m/usr/local/lib/python3.6/dist-packages/joblib/parallel.py\u001b[0m in \u001b[0;36mretrieve\u001b[0;34m(self)\u001b[0m\n\u001b[1;32m    938\u001b[0m             \u001b[0;32mtry\u001b[0m\u001b[0;34m:\u001b[0m\u001b[0;34m\u001b[0m\u001b[0;34m\u001b[0m\u001b[0m\n\u001b[1;32m    939\u001b[0m                 \u001b[0;32mif\u001b[0m \u001b[0mgetattr\u001b[0m\u001b[0;34m(\u001b[0m\u001b[0mself\u001b[0m\u001b[0;34m.\u001b[0m\u001b[0m_backend\u001b[0m\u001b[0;34m,\u001b[0m \u001b[0;34m'supports_timeout'\u001b[0m\u001b[0;34m,\u001b[0m \u001b[0;32mFalse\u001b[0m\u001b[0;34m)\u001b[0m\u001b[0;34m:\u001b[0m\u001b[0;34m\u001b[0m\u001b[0;34m\u001b[0m\u001b[0m\n\u001b[0;32m--> 940\u001b[0;31m                     \u001b[0mself\u001b[0m\u001b[0;34m.\u001b[0m\u001b[0m_output\u001b[0m\u001b[0;34m.\u001b[0m\u001b[0mextend\u001b[0m\u001b[0;34m(\u001b[0m\u001b[0mjob\u001b[0m\u001b[0;34m.\u001b[0m\u001b[0mget\u001b[0m\u001b[0;34m(\u001b[0m\u001b[0mtimeout\u001b[0m\u001b[0;34m=\u001b[0m\u001b[0mself\u001b[0m\u001b[0;34m.\u001b[0m\u001b[0mtimeout\u001b[0m\u001b[0;34m)\u001b[0m\u001b[0;34m)\u001b[0m\u001b[0;34m\u001b[0m\u001b[0;34m\u001b[0m\u001b[0m\n\u001b[0m\u001b[1;32m    941\u001b[0m                 \u001b[0;32melse\u001b[0m\u001b[0;34m:\u001b[0m\u001b[0;34m\u001b[0m\u001b[0;34m\u001b[0m\u001b[0m\n\u001b[1;32m    942\u001b[0m                     \u001b[0mself\u001b[0m\u001b[0;34m.\u001b[0m\u001b[0m_output\u001b[0m\u001b[0;34m.\u001b[0m\u001b[0mextend\u001b[0m\u001b[0;34m(\u001b[0m\u001b[0mjob\u001b[0m\u001b[0;34m.\u001b[0m\u001b[0mget\u001b[0m\u001b[0;34m(\u001b[0m\u001b[0;34m)\u001b[0m\u001b[0;34m)\u001b[0m\u001b[0;34m\u001b[0m\u001b[0;34m\u001b[0m\u001b[0m\n",
            "\u001b[0;32m/usr/local/lib/python3.6/dist-packages/joblib/_parallel_backends.py\u001b[0m in \u001b[0;36mwrap_future_result\u001b[0;34m(future, timeout)\u001b[0m\n\u001b[1;32m    540\u001b[0m         AsyncResults.get from multiprocessing.\"\"\"\n\u001b[1;32m    541\u001b[0m         \u001b[0;32mtry\u001b[0m\u001b[0;34m:\u001b[0m\u001b[0;34m\u001b[0m\u001b[0;34m\u001b[0m\u001b[0m\n\u001b[0;32m--> 542\u001b[0;31m             \u001b[0;32mreturn\u001b[0m \u001b[0mfuture\u001b[0m\u001b[0;34m.\u001b[0m\u001b[0mresult\u001b[0m\u001b[0;34m(\u001b[0m\u001b[0mtimeout\u001b[0m\u001b[0;34m=\u001b[0m\u001b[0mtimeout\u001b[0m\u001b[0;34m)\u001b[0m\u001b[0;34m\u001b[0m\u001b[0;34m\u001b[0m\u001b[0m\n\u001b[0m\u001b[1;32m    543\u001b[0m         \u001b[0;32mexcept\u001b[0m \u001b[0mCfTimeoutError\u001b[0m \u001b[0;32mas\u001b[0m \u001b[0me\u001b[0m\u001b[0;34m:\u001b[0m\u001b[0;34m\u001b[0m\u001b[0;34m\u001b[0m\u001b[0m\n\u001b[1;32m    544\u001b[0m             \u001b[0;32mraise\u001b[0m \u001b[0mTimeoutError\u001b[0m \u001b[0;32mfrom\u001b[0m \u001b[0me\u001b[0m\u001b[0;34m\u001b[0m\u001b[0;34m\u001b[0m\u001b[0m\n",
            "\u001b[0;32m/usr/lib/python3.6/concurrent/futures/_base.py\u001b[0m in \u001b[0;36mresult\u001b[0;34m(self, timeout)\u001b[0m\n\u001b[1;32m    425\u001b[0m                 \u001b[0;32mreturn\u001b[0m \u001b[0mself\u001b[0m\u001b[0;34m.\u001b[0m\u001b[0m__get_result\u001b[0m\u001b[0;34m(\u001b[0m\u001b[0;34m)\u001b[0m\u001b[0;34m\u001b[0m\u001b[0;34m\u001b[0m\u001b[0m\n\u001b[1;32m    426\u001b[0m \u001b[0;34m\u001b[0m\u001b[0m\n\u001b[0;32m--> 427\u001b[0;31m             \u001b[0mself\u001b[0m\u001b[0;34m.\u001b[0m\u001b[0m_condition\u001b[0m\u001b[0;34m.\u001b[0m\u001b[0mwait\u001b[0m\u001b[0;34m(\u001b[0m\u001b[0mtimeout\u001b[0m\u001b[0;34m)\u001b[0m\u001b[0;34m\u001b[0m\u001b[0;34m\u001b[0m\u001b[0m\n\u001b[0m\u001b[1;32m    428\u001b[0m \u001b[0;34m\u001b[0m\u001b[0m\n\u001b[1;32m    429\u001b[0m             \u001b[0;32mif\u001b[0m \u001b[0mself\u001b[0m\u001b[0;34m.\u001b[0m\u001b[0m_state\u001b[0m \u001b[0;32min\u001b[0m \u001b[0;34m[\u001b[0m\u001b[0mCANCELLED\u001b[0m\u001b[0;34m,\u001b[0m \u001b[0mCANCELLED_AND_NOTIFIED\u001b[0m\u001b[0;34m]\u001b[0m\u001b[0;34m:\u001b[0m\u001b[0;34m\u001b[0m\u001b[0;34m\u001b[0m\u001b[0m\n",
            "\u001b[0;32m/usr/lib/python3.6/threading.py\u001b[0m in \u001b[0;36mwait\u001b[0;34m(self, timeout)\u001b[0m\n\u001b[1;32m    293\u001b[0m         \u001b[0;32mtry\u001b[0m\u001b[0;34m:\u001b[0m    \u001b[0;31m# restore state no matter what (e.g., KeyboardInterrupt)\u001b[0m\u001b[0;34m\u001b[0m\u001b[0;34m\u001b[0m\u001b[0m\n\u001b[1;32m    294\u001b[0m             \u001b[0;32mif\u001b[0m \u001b[0mtimeout\u001b[0m \u001b[0;32mis\u001b[0m \u001b[0;32mNone\u001b[0m\u001b[0;34m:\u001b[0m\u001b[0;34m\u001b[0m\u001b[0;34m\u001b[0m\u001b[0m\n\u001b[0;32m--> 295\u001b[0;31m                 \u001b[0mwaiter\u001b[0m\u001b[0;34m.\u001b[0m\u001b[0macquire\u001b[0m\u001b[0;34m(\u001b[0m\u001b[0;34m)\u001b[0m\u001b[0;34m\u001b[0m\u001b[0;34m\u001b[0m\u001b[0m\n\u001b[0m\u001b[1;32m    296\u001b[0m                 \u001b[0mgotit\u001b[0m \u001b[0;34m=\u001b[0m \u001b[0;32mTrue\u001b[0m\u001b[0;34m\u001b[0m\u001b[0;34m\u001b[0m\u001b[0m\n\u001b[1;32m    297\u001b[0m             \u001b[0;32melse\u001b[0m\u001b[0;34m:\u001b[0m\u001b[0;34m\u001b[0m\u001b[0;34m\u001b[0m\u001b[0m\n",
            "\u001b[0;31mKeyboardInterrupt\u001b[0m: "
          ]
        }
      ]
    },
    {
      "cell_type": "markdown",
      "metadata": {
        "id": "CibcFtRIb9Vo"
      },
      "source": [
        "From above elbow plot, it looks like optimal value of K is 7."
      ]
    },
    {
      "cell_type": "code",
      "metadata": {
        "id": "QlmbcUdAcLGT"
      },
      "source": [
        "K = 7"
      ],
      "execution_count": 8,
      "outputs": []
    },
    {
      "cell_type": "markdown",
      "metadata": {
        "id": "2LR3jpXdcP6v"
      },
      "source": [
        "Extracting node Ids."
      ]
    },
    {
      "cell_type": "code",
      "metadata": {
        "id": "yVcxaZpPcSMG"
      },
      "source": [
        "nodeIds = list(node_features_df[\"nodeId\"])"
      ],
      "execution_count": 7,
      "outputs": []
    },
    {
      "cell_type": "markdown",
      "metadata": {
        "id": "taLI3zsWccD3"
      },
      "source": [
        "Function to calculate profile similarities."
      ]
    },
    {
      "cell_type": "code",
      "metadata": {
        "id": "xocDkYZ5ceye"
      },
      "source": [
        "# based on euclidean distance\n",
        "def profSimilarity(nodeId, active_center, active_centers):\n",
        "    nodeId_index = nodeIds.index(nodeId)\n",
        "    ac_index = active_centers.index(active_center)\n",
        "    # setting to 1 to avoid division by zero error\n",
        "    sum = 1\n",
        "    for i in range(0, no_of_features):\n",
        "        sq_diff = (node_features_df[\"feature\"+str(i+1)][nodeId_index] - node_features_df[\"feature\"+str(i+1)][ac_index])**2\n",
        "        sum += sq_diff\n",
        "\n",
        "    # returning inverse as high value means less similarity.\n",
        "    return 1/math.sqrt(sum)"
      ],
      "execution_count": 9,
      "outputs": []
    },
    {
      "cell_type": "markdown",
      "metadata": {
        "id": "vqHeSMu89SOx"
      },
      "source": [
        "Function to determine whether edge exists or not."
      ]
    },
    {
      "cell_type": "code",
      "metadata": {
        "id": "eJ9ny0ws9gYG"
      },
      "source": [
        "def edgeExists(node1, node2):\n",
        "    if signed_network.has_edge(node1, node2):\n",
        "        return 1\n",
        "    else:\n",
        "        return 0"
      ],
      "execution_count": 10,
      "outputs": []
    },
    {
      "cell_type": "markdown",
      "metadata": {
        "id": "gANoNpJU9j9G"
      },
      "source": [
        "Function to calculate strength of ties."
      ]
    },
    {
      "cell_type": "code",
      "metadata": {
        "id": "kn6h6_3b9rCj"
      },
      "source": [
        "# For the computation,\n",
        "# we have borrowed the idea of base node similarity,57\n",
        "# where more the number of links a user shares with its\n",
        "# neighbors, less becomes the strength of ties existing\n",
        "def strengthOfTies(node1, node2):\n",
        "    sum = 0\n",
        "    for degree in list(dict(signed_network.out_degree([node1])).values()):\n",
        "        sum+=degree\n",
        "    for degree in list(dict(signed_network.in_degree([node2])).values()):\n",
        "        sum+=degree\n",
        "\n",
        "    sum -= 1\n",
        "    \n",
        "    if sum <= 0:\n",
        "      return 0\n",
        "    \n",
        "    return 1/sum"
      ],
      "execution_count": 11,
      "outputs": []
    },
    {
      "cell_type": "markdown",
      "metadata": {
        "id": "aJf4G0uV94NV"
      },
      "source": [
        "Function to find residual area (those neighbors of given nodes that are not in the social circle)."
      ]
    },
    {
      "cell_type": "code",
      "metadata": {
        "id": "5MYK7tmh-Rcb"
      },
      "source": [
        "def residualArea(x,circle):\n",
        "    residual = list(signed_network.neighbors(x))\n",
        "    for re in residual:\n",
        "        if re in circle:\n",
        "            residual.remove(re)\n",
        "    return residual"
      ],
      "execution_count": 12,
      "outputs": []
    },
    {
      "cell_type": "markdown",
      "metadata": {
        "id": "-Wvq3Tow9wOH"
      },
      "source": [
        "Function to calculate degree centrality."
      ]
    },
    {
      "cell_type": "code",
      "metadata": {
        "id": "J-iG_H779z9M"
      },
      "source": [
        "def degreeCentrality(x,circle):\n",
        "    degree = 0 # in-degree + out-degree\n",
        "    for c in circle:\n",
        "        if signed_network.has_edge(x, c):\n",
        "            degree+=1\n",
        "        if signed_network.has_edge(c, x):\n",
        "            degree+=1\n",
        "    # error if len(circle) = 1\n",
        "    if len(circle) ==1:\n",
        "        deg_cen = degree\n",
        "    else:\n",
        "        deg_cen = degree/(len(circle)-1)\n",
        "    return deg_cen"
      ],
      "execution_count": 13,
      "outputs": []
    },
    {
      "cell_type": "markdown",
      "metadata": {
        "id": "eXh0qDD2uqsz"
      },
      "source": [
        "Funtion to discover social circle using K-means."
      ]
    },
    {
      "cell_type": "code",
      "metadata": {
        "id": "U4yRffOauroM"
      },
      "source": [
        "def algorithm1(nodeIds,active_centers, add_trust_ftr = False):\n",
        "    social_circles = {}\n",
        "    nodeIdsWAC = list(set(nodeIds) - set(active_centers))\n",
        "    for i in range (0, K):\n",
        "        active_center = active_centers[i]\n",
        "        social_circles[str(active_center)] = []\n",
        "    for nodeId in nodeIdsWAC:\n",
        "        maxS = 0\n",
        "        # active_center which will be most similar to given node\n",
        "        selectedAC = -1\n",
        "        for i in range (0, K):\n",
        "            active_center = active_centers[i]\n",
        "            p1 = 0 # edge exists from active center to node\n",
        "            p2 = 0 # edge exists from node to active center\n",
        "            p3 = 0\n",
        "            p4_1 = 0 # strength of ties between active center and node  \n",
        "            p4_2 = 0 # strength of ties between node and active center \n",
        "            p5_1 = 0 # trust between active center and node\n",
        "            p5_2 = 0 # trust between node and active center\n",
        "\n",
        "            p1 = edgeExists(active_center, nodeId)\n",
        "            p2 = edgeExists(nodeId, active_center)\n",
        "\n",
        "            if p1 or p2:\n",
        "              p3 = profSimilarity(nodeId, active_center, active_centers)\n",
        "\n",
        "            if p1:\n",
        "              p4_1 = strengthOfTies(active_center, nodeId)\n",
        "              if add_trust_ftr:\n",
        "                p5_1 = signed_network.get_edge_data(active_center, nodeId, default={'weight':0})['weight']\n",
        "            \n",
        "            if p2:\n",
        "                p4_2 = strengthOfTies(nodeId, active_center)\n",
        "                if add_trust_ftr:\n",
        "                  p5_2 = signed_network.get_edge_data(nodeId, active_center, default={'weight':0})['weight']            \n",
        "\n",
        "            if maxS < p1 + p2 + p3 + p4_1 + p4_2 + p5_1 + p5_2:\n",
        "                maxS = p1 + p2 + p3 + p4_1 + p4_2 + p5_1 + p5_2\n",
        "                selectedAC = active_center\n",
        "      \n",
        "        if selectedAC != -1:\n",
        "            social_circles[str(selectedAC)].append(nodeId)\n",
        "\n",
        "    return social_circles"
      ],
      "execution_count": 14,
      "outputs": []
    },
    {
      "cell_type": "markdown",
      "metadata": {
        "id": "zjajr_kJ_u9g"
      },
      "source": [
        "Initializing variables for Genetic Algorithm."
      ]
    },
    {
      "cell_type": "code",
      "metadata": {
        "id": "Z-c4Ve-cuwLn"
      },
      "source": [
        "#center selection\n",
        "##population size = 20\n",
        "N = 20\n",
        "population = []\n",
        "random.seed(0)"
      ],
      "execution_count": 15,
      "outputs": []
    },
    {
      "cell_type": "markdown",
      "metadata": {
        "id": "0CCbzxFeB-dB"
      },
      "source": [
        "Generating random population (sets of active centers) randomly."
      ]
    },
    {
      "cell_type": "code",
      "metadata": {
        "id": "jp--Al8dB-6z"
      },
      "source": [
        "for i in range(0,N):\n",
        "    selected = random.sample(nodeIds,K)\n",
        "    if selected not in population:\n",
        "        population.append(selected)"
      ],
      "execution_count": 16,
      "outputs": []
    },
    {
      "cell_type": "markdown",
      "metadata": {
        "id": "ex-6h2lOCUI-"
      },
      "source": [
        "Algorithm2_part1 takes one group of centers and return the fitness of it."
      ]
    },
    {
      "cell_type": "code",
      "metadata": {
        "id": "YN1NzWNiCWt5"
      },
      "source": [
        "def algorithm2_part1(pop_n, add_trust_ftr = False):\n",
        "    Xi = pop_n\n",
        "    Cij = algorithm1(nodeIds,Xi, add_trust_ftr)\n",
        "    \n",
        "    obj=0\n",
        "    for k in range(0,K):\n",
        "        #initialize k=1 and obj=0\n",
        "        xi = Xi[k]\n",
        "        \n",
        "        residual =  residualArea(xi,Cij[str(xi)])\n",
        "        #deg_cen\n",
        "        deg_cen_C = degreeCentrality(xi,Cij[str(xi)])\n",
        "        deg_cen_R = degreeCentrality(xi,residual)\n",
        "        \n",
        "        #prof_sim\n",
        "        prof_sim_C = 0\n",
        "        for c in Cij[str(xi)]:\n",
        "            prof_sim_C+=profSimilarity(c, xi,Xi)\n",
        "        prof_sim_C = prof_sim_C/len(Cij)\n",
        "        \n",
        "        prof_sim_R = 0\n",
        "        for r in residual:\n",
        "            prof_sim_R+=profSimilarity(r, xi,Xi)\n",
        "        if len(residual) != 0:\n",
        "            prof_sim_R = prof_sim_R/len(residual)\n",
        "        \n",
        "        #str_C\n",
        "        str_C = 0\n",
        "        for c in Cij[str(xi)]:\n",
        "            str_C+= strengthOfTies(c, xi)\n",
        "            str_C+= strengthOfTies(xi, c)\n",
        "        str_C = str_C/len(Cij)\n",
        "        \n",
        "        str_R = 0\n",
        "        for r in residual:\n",
        "            str_R+= strengthOfTies(r, xi)\n",
        "            str_R+= strengthOfTies(xi, r)\n",
        "        if len(residual) != 0:\n",
        "             str_R = str_R/len(residual)\n",
        "\n",
        "        #str_C\n",
        "        trust_C = 0\n",
        "        trust_R = 0\n",
        "        if add_trust_ftr:\n",
        "          for c in Cij[str(xi)]:\n",
        "              trust_C += signed_network.get_edge_data(c, xi, default={'weight':0})['weight']\n",
        "              trust_C += signed_network.get_edge_data(xi, c, default={'weight':0})['weight']\n",
        "          trust_C = trust_C/len(Cij)\n",
        "          \n",
        "        if add_trust_ftr:  \n",
        "          for r in residual:\n",
        "              trust_R += signed_network.get_edge_data(r, xi, default={'weight':0})['weight']\n",
        "              trust_R += signed_network.get_edge_data(xi, r, default={'weight':0})['weight']\n",
        "          if len(residual) != 0:\n",
        "              trust_R = trust_R/len(residual)\n",
        "       \n",
        "        \n",
        "        obj+=deg_cen_C - deg_cen_R + prof_sim_C - prof_sim_R + str_C - str_R + trust_C - trust_R\n",
        "    \n",
        "    \n",
        "    return obj/K"
      ],
      "execution_count": 17,
      "outputs": []
    },
    {
      "cell_type": "markdown",
      "metadata": {
        "id": "X3-GomySEjN7"
      },
      "source": [
        "Calculating fitness value of generated population."
      ]
    },
    {
      "cell_type": "code",
      "metadata": {
        "id": "sFJJbfqHEpQ5",
        "colab": {
          "base_uri": "https://localhost:8080/"
        },
        "outputId": "9c92be34-1aae-4428-b247-1f3d98872257"
      },
      "source": [
        "#initialize n=1 and fitness = 0\n",
        "fitness=[]\n",
        "for n in range(0,N):\n",
        "    #pick up the ith row from X_ij and Cij\n",
        "    fit_val = algorithm2_part1(population[n])\n",
        "    print(\"Population # \" + str(n)+ \" fitness value: \" + str(fit_val))\n",
        "    print(population[n])\n",
        "    fitness.append(fit_val)"
      ],
      "execution_count": 18,
      "outputs": [
        {
          "output_type": "stream",
          "text": [
            "Population # 0 fitness value: 0.16694300896898748\n",
            "[64587, 59883, 6270, 24110, 63988, 34268, 19711]\n",
            "Population # 1 fitness value: 0.7812684271077559\n",
            "[48573, 44222, 21376, 79233, 32003, 44902, 61068]\n",
            "Population # 2 fitness value: 0.4320722431253147\n",
            "[52530, 77476, 16376, 37260, 11872, 71229, 32532]\n",
            "Population # 3 fitness value: 0.9762287814384587\n",
            "[36343, 64662, 38078, 49657, 46958, 35759, 69911]\n",
            "Population # 4 fitness value: 1.5665334707848566\n",
            "[75474, 41699, 52844, 40741, 18143, 21830, 29678]\n",
            "Population # 5 fitness value: 1.3471202426776863\n",
            "[58826, 75731, 52830, 24139, 31145, 77312, 10825]\n",
            "Population # 6 fitness value: 1.3792106622001632\n",
            "[3261, 54331, 65558, 26313, 51381, 52700, 21231]\n",
            "Population # 7 fitness value: 0.8169042029541248\n",
            "[23858, 38555, 3600, 16210, 58956, 27831, 19626]\n",
            "Population # 8 fitness value: 0.8484771903659107\n",
            "[22231, 68668, 4455, 30374, 2604, 50934, 56730]\n",
            "Population # 9 fitness value: 1.2445626251178\n",
            "[54997, 283, 26482, 59329, 16491, 79832, 36660]\n",
            "Population # 10 fitness value: 0.5788026877481894\n",
            "[80178, 22687, 55944, 42447, 14540, 53054, 64168]\n",
            "Population # 11 fitness value: 1.36370968196743\n",
            "[60363, 63168, 76186, 41677, 62668, 76935, 16687]\n",
            "Population # 12 fitness value: 0.8312547041780688\n",
            "[56044, 6661, 3778, 28170, 6486, 20810, 69801]\n",
            "Population # 13 fitness value: 0.57485892422818\n",
            "[74457, 10533, 6545, 26993, 449, 3138, 445]\n",
            "Population # 14 fitness value: 1.1209826378069088\n",
            "[69384, 14394, 74774, 33456, 30070, 40242, 77539]\n",
            "Population # 15 fitness value: 0.6159093503314556\n",
            "[13709, 48161, 74950, 65113, 55583, 65011, 70614]\n",
            "Population # 16 fitness value: 1.1757070037264281\n",
            "[44499, 16623, 35101, 6148, 77303, 13565, 32111]\n",
            "Population # 17 fitness value: 1.8040354694734257\n",
            "[42992, 80803, 2904, 12224, 26148, 23142, 54434]\n",
            "Population # 18 fitness value: 1.154459797636625\n",
            "[76153, 23314, 13756, 167, 16535, 80062, 30663]\n",
            "Population # 19 fitness value: 0.3834292775871229\n",
            "[27966, 67681, 56635, 41123, 24357, 2156, 65159]\n"
          ],
          "name": "stdout"
        }
      ]
    },
    {
      "cell_type": "markdown",
      "metadata": {
        "id": "MnUnMfxOCkwM"
      },
      "source": [
        "Functions to check the format of generated Q offspring (new set of active centers generated after crossover and mutation)."
      ]
    },
    {
      "cell_type": "code",
      "metadata": {
        "id": "eARYh3tyC46q"
      },
      "source": [
        "def check(matrix):\n",
        "    for i in matrix:\n",
        "        if len(i)!=8:\n",
        "            print(\"error in row: \",i)"
      ],
      "execution_count": 19,
      "outputs": []
    },
    {
      "cell_type": "markdown",
      "metadata": {
        "id": "3FdeFeoMDE4y"
      },
      "source": [
        "Applying Crossover and mutation operation to determine best set of active centers."
      ]
    },
    {
      "cell_type": "code",
      "metadata": {
        "id": "CdY5gbxBDRgv"
      },
      "source": [
        "# Part two\n",
        "##Augmented matrix Q containing fitness value for each set of active center\n",
        "Q=[]\n",
        "for i in range(0,len(fitness)):\n",
        "    Qi = population[i].copy()\n",
        "    Qi.append(fitness[i])\n",
        "    Q.append(Qi)"
      ],
      "execution_count": 20,
      "outputs": []
    },
    {
      "cell_type": "code",
      "metadata": {
        "id": "Meo1NU4dJTkf"
      },
      "source": [
        "# re-sort in descending order\n",
        "# since there are K elements in each set then we have fitness value at K index\n",
        "fit_val_index = K\n",
        "Q_desc= sorted(Q,key=lambda x:x[fit_val_index],reverse=True)\n",
        "## for resuming GA execution\n",
        "Q_desc.insert(0, [36343, 3815, 2904, 4244, 1710, 35556, 2057, 4.972640785178261])\n",
        "Q_desc.insert(1, [36343, 3815, 2904, 25472, 1710, 23421, 50179, 3.6131643247035625])\n",
        "Q_desc.insert(2, [36343, 3815, 2904, 4244, 1710, 20355, 12154, 3.5632871193838156])\n",
        "Q_desc.insert(3, [36343, 3815, 2904, 25472, 1710, 20355, 12154, 3.535242427980814])\n",
        "Q_desc.insert(4, [36343, 3815, 2904, 25472, 26148, 4869, 57450, 3.1613215901733347])\n",
        "Q_desc.insert(5, [36343, 63875, 2904, 25472, 26148, 4869, 52151, 2.6771110398384708])\n",
        "Q_desc.insert(6, [36343, 64662, 2904, 25472, 26148, 4869, 57450, 2.6753847308687546])\n",
        "Q_desc.insert(7, [36343, 64662, 2904, 25472, 26148, 4869, 43904, 2.521897593451154])\n",
        "Q_desc.insert(8, [36343, 64662, 2904, 25472, 26148, 23142, 43904, 2.3900752125297147])\n",
        "Q_desc.insert(9, [9756, 80803, 2904, 12224, 26148, 23142, 77539, 1.945921176283259])\n",
        "Q_desc = Q_desc[:20]\n",
        "Q_desc= sorted(Q_desc,key=lambda x:x[fit_val_index],reverse=True)\n",
        "##\n"
      ],
      "execution_count": 36,
      "outputs": []
    },
    {
      "cell_type": "markdown",
      "metadata": {
        "id": "K_PeJs18RiUt"
      },
      "source": [
        "Locally optimum version of GA (convergence quickly but doesn't gurantee best set of active centers w.r.t global context)."
      ]
    },
    {
      "cell_type": "code",
      "metadata": {
        "id": "zw6M68sMRNEs"
      },
      "source": [
        "def run_local_optimum_ga(add_trust_ftr = False):\n",
        "\n",
        "    print(\"Running local optimum Genetic Algorithm for best set of active centers.\")\n",
        "    count = 0\n",
        "    iteration = 0\n",
        "    Q_desc_temp = Q_desc.copy()\n",
        "    max_fit_yet = Q_desc_temp[0][-1]\n",
        "    current_best_set = []\n",
        "    current_best_fit = 0\n",
        "    print(\"Current best fitness value: \",str(Q_desc_temp[0][-1]))\n",
        "    print(\"Current best set of Active Centers:\")\n",
        "    print(Q_desc_temp[0][:K])\n",
        "    \n",
        "    while count < 1000000:\n",
        "\n",
        "        while iteration <10:\n",
        "\n",
        "            #Select two parent chromosomes let say X1 and X2 from a population with high fitness value\n",
        "            #########This trunk try to find the best X after crossover###################################################\n",
        "            \n",
        "            Q1 = Q_desc_temp[0]\n",
        "            Q2 = Q_desc_temp[1]\n",
        "\n",
        "            x1 = Q1[:-1]\n",
        "            x1_fit = Q1[-1]\n",
        "                \n",
        "            x2 = Q2[:-1]\n",
        "            x2_fit = Q2[-1]\n",
        "\n",
        "            #crossover_probability = 0.8\n",
        "            if random.randint(0, 10) < 9:     \n",
        "                randc_pos = random.randint(1,K)\n",
        "            \n",
        "                x1_new = x1[:randc_pos]+x2[randc_pos:]\n",
        "                x2_new = x2[:randc_pos]+x1[randc_pos:]\n",
        "                \n",
        "                x1_new_fit = algorithm2_part1(x1_new, add_trust_ftr)\n",
        "                x2_new_fit = algorithm2_part1(x2_new, add_trust_ftr)\n",
        "\n",
        "            else:\n",
        "                x1_new = x1\n",
        "                x2_new = x2\n",
        "                \n",
        "                x1_new_fit = x1_fit\n",
        "                x2_new_fit = x2_fit\n",
        "\n",
        "            max_fit = max(x1_new_fit,x2_new_fit)\n",
        "                \n",
        "            if x1_new_fit == max_fit:\n",
        "                x = x1_new\n",
        "            elif x2_new_fit == max_fit:\n",
        "                x = x2_new\n",
        "\n",
        "            #mutation\n",
        "            #generate a random position randm_pos [1,k] and rand_id [1,n]\n",
        "            \n",
        "            #mutation_probability = 0.2\n",
        "            if random.randint(0, 10) < 3:     \n",
        "                randm_pos = random.randint(0,K)\n",
        "                rand_id = random.choice(nodeIds)\n",
        "                \n",
        "                if rand_id in (x[:randm_pos]+x[randm_pos:]):\n",
        "                    x_new = x\n",
        "                else:\n",
        "                    x_new = x[:randm_pos]+[rand_id]+x[randm_pos:]\n",
        "                \n",
        "                x_new_fit = algorithm2_part1(x_new, add_trust_ftr)\n",
        "\n",
        "            else:\n",
        "              x_new = x\n",
        "              x_new_fit = max_fit\n",
        "              \n",
        "            # replacing the set with least fit value with the new set\n",
        "            if x_new_fit > Q_desc_temp[-1][-1]:\n",
        "                Q_desc_temp[-1] = x_new + [x_new_fit]\n",
        "                Q_desc_temp = sorted(Q_desc_temp,key=lambda x:x[-1],reverse=True)\n",
        "            \n",
        "            if Q_desc_temp[0][-1] > max_fit_yet:\n",
        "                max_fit_yet = Q_desc_temp[0][-1]\n",
        "                iteration = 0\n",
        "            else:\n",
        "                iteration +=1\n",
        "\n",
        "\n",
        "        if current_best_fit < Q_desc_temp[0][-1]:\n",
        "            print(\"Current best fitness value: \",str(Q_desc_temp[0][-1]))\n",
        "            print(\"Current best set of Active Centers:\")\n",
        "            print(Q_desc_temp[0][:K])\n",
        "            current_best_set = Q_desc_temp[0][:K]\n",
        "            current_best_fit = Q_desc_temp[0][-1]\n",
        "        \n",
        "        count+=1\n",
        "    return current_best_set\n",
        " \n",
        "  \n"
      ],
      "execution_count": 32,
      "outputs": []
    },
    {
      "cell_type": "code",
      "metadata": {
        "id": "wl9oGeFWdWQB"
      },
      "source": [
        "def parallel_insider_algorithm2_part2(i,Q_desc,K,nodeIds,signed_network,node_features_df, add_trust_ftr = False):\n",
        "    import random\n",
        "    #print(i)\n",
        "    # Q_high = list(filter(lambda x:x[K]>1,Q_desc))\n",
        "    # if len(Q_high) >10:\n",
        "    #     Q_high = Q_high[:10]\n",
        "\n",
        "    Q_high = Q_desc[:10]\n",
        "    #print(Q_high)\n",
        "    Q1 = random.choice(Q_high)\n",
        "\n",
        "    #print(Q1,Q2)\n",
        "    x1 = Q1[:-1]\n",
        "    x1_fit = Q1[-1]\n",
        "    Q2 = random.choice(Q_high)\n",
        "    x2 = Q2[:-1]\n",
        "    x2_fit = Q2[-1]\n",
        "    while x2 == x1:\n",
        "        Q2 = random.choice(Q_high)\n",
        "        x2 = Q2[:-1]\n",
        "        x2_fit = Q2[-1]\n",
        "    #random.seed(0)\n",
        "    randc_pos = random.randint(1,K)\n",
        "\n",
        "    x1_new = x1[:randc_pos]+x2[randc_pos:]\n",
        "    x2_new = x2[:randc_pos]+x1[randc_pos:]\n",
        "\n",
        "    x1_new_fit = algorithm2_part1(x1_new, add_trust_ftr)\n",
        "    x2_new_fit = algorithm2_part1(x2_new, add_trust_ftr)\n",
        "\n",
        "    max_fit = max(x1_fit,x2_fit,x1_new_fit,x2_new_fit)\n",
        "    value=\"null\"\n",
        "    if(x1_fit == max_fit):\n",
        "        x = x1\n",
        "        value=\"x1\"\n",
        "        #print(\"x1 is the best\")\n",
        "    elif (x2_fit == max_fit):\n",
        "        x = x2\n",
        "        value=\"x2\"\n",
        "        #print(\"x2 is the best\")\n",
        "    elif (x1_new_fit == max_fit):\n",
        "        x = x1_new\n",
        "        value=\"x1_new\"\n",
        "        #print(\"x1 new is the best\")\n",
        "    else:\n",
        "        x = x2_new\n",
        "        value=\"x2_new\"\n",
        "        #print(\"x2 new is the best\")\n",
        "\n",
        "###################original thought###################################        \n",
        "#         x1 = Q_desc[i][:-1]\n",
        "#         x2 = Q_desc[i+1][:-1]\n",
        "\n",
        "#         #cross over\n",
        "#         #generate a random int randc_pos\n",
        "#         random.seed(0)\n",
        "#         randc_pos = randint(1,K)\n",
        "\n",
        "#         x1_new = x1[:randc_pos]+x2[randc_pos:]\n",
        "#         x2_new = x2[:randc_pos]+x1[randc_pos:]\n",
        "#########################################################\n",
        "    #mutation\n",
        "    #generate a random position randm_pos [1,k] and rand_id [1,n]\n",
        "    randm_pos = random.randint(1,K)\n",
        "    rand_id = random.choice(nodeIds)\n",
        "\n",
        "    #x = x1_new\n",
        "    #x = Q_desc[i]\n",
        "    #repair chomorosome if values of two alleles of a chromosome occurs\n",
        "    if rand_id in (x[:randm_pos-1]+x[randm_pos:]):\n",
        "        x_new =x\n",
        "    else:\n",
        "        x_new = x[:randm_pos-1]+[rand_id]+x[randm_pos:]\n",
        "        \n",
        "        #if len(x_new) !=7:\n",
        "        #    \n",
        "        #    print(\"In x_new i =\",i,\"random pos \",randm_pos,\" randc pos \",\n",
        "        #          randc_pos,\"x has more \", x,\"x takes the value\",value,\n",
        "        #          \"x2: \", x2, \"Q2:\", Q2,\n",
        "        #         \"x1:\", x1)\n",
        "\n",
        "    x_new_fit = algorithm2_part1(x_new, add_trust_ftr)\n",
        "    #print(\"This is x_new_fit:\", str(x_new_fit),\"This is Q_desc[i][-1]\",str(Q_desc[i][-1]))\n",
        "    #print(i,\": end\")\n",
        "    if (x_new_fit > Q_desc[i][-1]):\n",
        "        #print(\"Fit better: i is \",i,\" \", x_new + [x_new_fit])\n",
        "        return x_new + [x_new_fit]\n",
        "    else:\n",
        "        #print(\"Orgin better: i is \",i,\" \", Q_desc[i])\n",
        "        return Q_desc[i]"
      ],
      "execution_count": 37,
      "outputs": []
    },
    {
      "cell_type": "markdown",
      "metadata": {
        "id": "7M8wbmtERt00"
      },
      "source": [
        "Globally optimum version of GA (gurantees best set of active centers but convergences slowly)."
      ]
    },
    {
      "cell_type": "code",
      "metadata": {
        "id": "ubior0VNRyD6"
      },
      "source": [
        "from multiprocessing import Pool\n",
        "\n",
        "def run_global_optimum_ga(add_trust_ftr = False):\n",
        "    \n",
        "    print(\"Running global optimum Genetic Algorithm for best set of active centers.\")\n",
        "\n",
        "    iteration = 0\n",
        "    Q_desc_temp = Q_desc.copy()\n",
        "    Q_desc_new_global=[]\n",
        "    pre_fit = 0\n",
        "    while iteration <10:\n",
        "        if (Q_desc_new_global != []):\n",
        "            Q_desc_temp = Q_desc_new_global\n",
        "            pre_fit = Q_desc_temp[0][-1]\n",
        "            Q_desc_new_global = []\n",
        "        pool = Pool()\n",
        "        result_async = [pool.apply_async(parallel_insider_algorithm2_part2, \n",
        "                                         args = (i,Q_desc_temp,K,nodeIds,signed_network,node_features_df, add_trust_ftr)) for i in range(N)] \n",
        "        Q_desc_new_global = [r.get() for r in result_async] \n",
        "        Q_desc_new_global=sorted(Q_desc_new_global,key=lambda x:x[-1],reverse=True)\n",
        "        check(Q_desc_new_global)\n",
        "        #print(Q_desc_new_global)\n",
        "        if Q_desc_new_global[0][-1] == pre_fit:\n",
        "            iteration +=1\n",
        "        else:\n",
        "            iteration=1\n",
        "        print(\"Best fitness value is \",str(Q_desc_new_global[0][-1]),\", and iteration currently is \", str(iteration))\n",
        "        print(Q_desc_new_global[0][:K])\n",
        "    \n",
        "    return Q_desc_new_global[0][:K]"
      ],
      "execution_count": 38,
      "outputs": []
    },
    {
      "cell_type": "markdown",
      "metadata": {
        "id": "rhZh8XbA0lKV"
      },
      "source": [
        "Getting locally optimum social circles without considering link/trust feature."
      ]
    },
    {
      "cell_type": "code",
      "metadata": {
        "id": "bjiGz4oC0kE-",
        "colab": {
          "base_uri": "https://localhost:8080/"
        },
        "outputId": "4c4554ad-7bb8-4fed-efc3-199b78595326"
      },
      "source": [
        "ac_wo_trust = run_global_optimum_ga()\n",
        "print(\"Best Set of Active Centers without trust feature:\")\n",
        "print(ac_wo_trust)\n",
        "print(\"Generating Social Circles.\")\n",
        "sc_wo_trust = algorithm1(nodeIds, ac_wo_trust)\n",
        "print(\"Social Circles without trust:\")\n",
        "print(sc_wo_trust)"
      ],
      "execution_count": 39,
      "outputs": [
        {
          "output_type": "stream",
          "text": [
            "Running global optimum Genetic Algorithm for best set of active centers.\n",
            "Best fitness value is  5.500167823023391 , and iteration currently is  1\n",
            "[3253, 3815, 2904, 4244, 1710, 35556, 2057]\n",
            "Best fitness value is  5.500167823023391 , and iteration currently is  2\n",
            "[3253, 3815, 2904, 4244, 1710, 35556, 2057]\n",
            "Best fitness value is  5.500167823023391 , and iteration currently is  3\n",
            "[3253, 3815, 2904, 4244, 1710, 35556, 2057]\n",
            "Best fitness value is  5.500167823023391 , and iteration currently is  4\n",
            "[3253, 3815, 2904, 4244, 1710, 35556, 2057]\n",
            "Best fitness value is  5.586402121653843 , and iteration currently is  1\n",
            "[3253, 3815, 2904, 759, 1710, 20234, 2057]\n",
            "Best fitness value is  5.586402121653843 , and iteration currently is  2\n",
            "[3253, 3815, 2904, 759, 1710, 20234, 2057]\n",
            "Best fitness value is  5.586402121653843 , and iteration currently is  3\n",
            "[3253, 3815, 2904, 759, 1710, 20234, 2057]\n",
            "Best fitness value is  5.586402121653843 , and iteration currently is  4\n",
            "[3253, 3815, 2904, 759, 1710, 20234, 2057]\n",
            "Best fitness value is  5.586402121653843 , and iteration currently is  5\n",
            "[3253, 3815, 2904, 759, 1710, 20234, 2057]\n",
            "Best fitness value is  5.613446964225385 , and iteration currently is  1\n",
            "[3253, 3815, 2904, 53361, 1710, 48843, 2057]\n",
            "Best fitness value is  5.613446964225385 , and iteration currently is  2\n",
            "[3253, 3815, 2904, 53361, 1710, 48843, 2057]\n",
            "Best fitness value is  5.613446964225385 , and iteration currently is  3\n",
            "[3253, 3815, 2904, 53361, 1710, 48843, 2057]\n",
            "Best fitness value is  5.613446964225385 , and iteration currently is  4\n",
            "[3253, 3815, 2904, 53361, 1710, 48843, 2057]\n",
            "Best fitness value is  5.613446964225385 , and iteration currently is  5\n",
            "[3253, 3815, 2904, 53361, 1710, 48843, 2057]\n",
            "Best fitness value is  5.782084894200379 , and iteration currently is  1\n",
            "[3253, 3815, 2904, 53361, 1710, 1877, 2057]\n",
            "Best fitness value is  5.782084894200379 , and iteration currently is  2\n",
            "[3253, 3815, 2904, 53361, 1710, 1877, 2057]\n",
            "Best fitness value is  5.782084894200379 , and iteration currently is  3\n",
            "[3253, 3815, 2904, 53361, 1710, 1877, 2057]\n",
            "Best fitness value is  5.782084894200379 , and iteration currently is  4\n",
            "[3253, 3815, 2904, 53361, 1710, 1877, 2057]\n",
            "Best fitness value is  5.782084894200379 , and iteration currently is  5\n",
            "[3253, 3815, 2904, 53361, 1710, 1877, 2057]\n",
            "Best fitness value is  5.782084894200379 , and iteration currently is  6\n",
            "[3253, 3815, 2904, 53361, 1710, 1877, 2057]\n",
            "Best fitness value is  5.782084894200379 , and iteration currently is  7\n",
            "[3253, 3815, 2904, 53361, 1710, 1877, 2057]\n",
            "Best fitness value is  5.782084894200379 , and iteration currently is  8\n",
            "[3253, 3815, 2904, 53361, 1710, 1877, 2057]\n",
            "Best fitness value is  5.782084894200379 , and iteration currently is  9\n",
            "[3253, 3815, 2904, 53361, 1710, 1877, 2057]\n",
            "Best fitness value is  5.782084894200379 , and iteration currently is  10\n",
            "[3253, 3815, 2904, 53361, 1710, 1877, 2057]\n",
            "Best Set of Active Centers without trust feature:\n",
            "[3253, 3815, 2904, 53361, 1710, 1877, 2057]\n",
            "Generating Social Circles.\n",
            "Social Circles without trust:\n",
            "{'3253': [149, 366, 397, 653, 656, 667, 1404, 1566, 1617, 1694, 1737, 1833, 1850, 2225, 2438, 2447, 2888, 3054, 3066, 3196, 3245, 3451, 3480, 3531, 3545, 3555, 3566, 3646, 3709, 3888, 4025, 4303, 4343, 4360, 4393, 4411, 4444, 4445, 4546, 4618, 4621, 4664, 4729, 4733, 4779, 5093, 5185, 5299, 5572, 5758, 5856, 5971, 6107, 6157, 6288, 6377, 6418, 7373, 7615, 7618, 7626, 8051, 8203, 8269, 8388, 8783, 8897, 8914, 8954, 8959, 9193, 9285, 9537, 9833, 9891, 10103, 10455, 10815, 11059, 11619, 11742, 11809, 11816, 11897, 12831, 12985, 13096, 13187, 13825, 14156, 15037, 15506, 16415, 16567, 16750, 16772, 16853, 16990, 17480, 17686, 18497, 18597, 19154, 19472, 19686, 20275, 21396, 21522, 21766, 22017, 22045, 22593, 22618, 22921, 23207, 23267, 23722, 23819, 24037, 24278, 24781, 25017, 25212, 25527, 25717, 25847, 27102, 28134, 28731, 29123, 29144, 29478, 29943, 30000, 30317, 30539, 30698, 30916, 31697, 32229, 32295, 35854, 35889, 35931, 35936, 36621, 38270, 38443, 38675, 38835, 38888, 39299, 39397, 39579, 39678, 40359, 41337, 42330, 42773, 44706, 44859, 47266, 47453, 53970, 54119, 56462, 56598, 57629, 59185, 63533, 63574, 63844, 65148, 65214, 67903, 67937, 70502, 71365, 72080, 72383, 72683, 72726, 74868, 74869, 74870, 74871, 74874, 76273], '3815': [458, 531, 746, 869, 1239, 1266, 1297, 1495, 1703, 1758, 2131, 2140, 2254, 2618, 2889, 3140, 3149, 3248, 3426, 3527, 3534, 4084, 4337, 4342, 4791, 4844, 4913, 4963, 5140, 5322, 5447, 6209, 6385, 6574, 7039, 7324, 7580, 8158, 8190, 8694, 8705, 8921, 9591, 10028, 10588, 10763, 11391, 11731, 11808, 12034, 12257, 12358, 13212, 13396, 13420, 14194, 14424, 14614, 14694, 15116, 15675, 15849, 15899, 15913, 16368, 16647, 16663, 17179, 17202, 17822, 18256, 18546, 18888, 19612, 20785, 21520, 21877, 22101, 22156, 23385, 23839, 24056, 25853, 26328, 26790, 26908, 29001, 29059, 29163, 29213, 30163, 31253, 31620, 31883, 32024, 33733, 34729, 37379, 40668, 41123, 41138, 43362, 49161, 51125, 52459, 57548, 58088, 59172, 60068, 61070, 61759, 63880, 65839, 65909, 66594, 68092, 68583, 68709, 69714, 75281, 75282, 75283, 75284, 75285, 75286, 75287], '2904': [68, 324, 1323, 1389, 1630, 2170, 2908, 2951, 3641, 3751, 4057, 4738, 4772, 4894, 5102, 5438, 5506, 7410, 7416, 8610, 9037, 9235, 9918, 10747, 11611, 11637, 11779, 11963, 12441, 14931, 15863, 15889, 16275, 16592, 16759, 18489, 18533, 18878, 19148, 19290, 19384, 20283, 20972, 21927, 22119, 22368, 22668, 23109, 24150, 24363, 24413, 24839, 25126, 25624, 26023, 26107, 26396, 26857, 27603, 28314, 28583, 29463, 30201, 30530, 30737, 30791, 31494, 31776, 31858, 32113, 32423, 32508, 33009, 33199, 33529, 34429, 35203, 35406, 36373, 37392, 37920, 39804, 40145, 41131, 41536, 50332, 50674, 54181, 56235, 57316, 57555, 58511, 63285, 64333, 64723, 64824, 65150, 65292, 65546, 67012, 67046, 68562, 68647, 68900, 69260, 74214, 74642, 74643, 74644], '53361': [7732, 53364], '1710': [53, 79, 180, 627, 744, 799, 807, 980, 1001, 1450, 1493, 1635, 1810, 1829, 2141, 2189, 2230, 2446, 2556, 2557, 2714, 2749, 2755, 2782, 2906, 2960, 3059, 3080, 3137, 3738, 3761, 4098, 4341, 5236, 5244, 5300, 5561, 5568, 5898, 5928, 6435, 6469, 6485, 7188, 7441, 7572, 7586, 7641, 7656, 7663, 7802, 7874, 7941, 7957, 7988, 8061, 8068, 8266, 8329, 8585, 8686, 9057, 9304, 9422, 10173, 10524, 10619, 11365, 11594, 11824, 11896, 12061, 13284, 13355, 13416, 13438, 13812, 13961, 14494, 14696, 14962, 15320, 15408, 15586, 15847, 16110, 16111, 16490, 16643, 17208, 17311, 17351, 17527, 18203, 18524, 19778, 21213, 21712, 22105, 22107, 22681, 22952, 23165, 24055, 24657, 25883, 25998, 26024, 26067, 26487, 26676, 27008, 27171, 27193, 27577, 27789, 28378, 28814, 31322, 31404, 31698, 36230, 36382, 36503, 36671, 36693, 36814, 37073, 39725, 41153, 44664, 45826, 48343, 49807, 49909, 51963, 55499, 60670, 63644, 63769, 64619, 66098, 71519, 71854, 73153, 73154, 73156, 73157, 76284, 76648], '1877': [3, 9, 17, 21, 25, 29, 47, 50, 52, 55, 59, 66, 67, 69, 70, 71, 73, 76, 83, 87, 88, 89, 92, 94, 112, 144, 168, 176, 182, 185, 226, 258, 273, 290, 330, 425, 455, 501, 616, 624, 640, 657, 662, 668, 673, 678, 684, 811, 813, 824, 830, 884, 895, 899, 905, 908, 911, 912, 921, 923, 926, 928, 929, 937, 938, 940, 949, 957, 958, 968, 973, 974, 976, 989, 998, 1000, 1004, 1005, 1011, 1013, 1018, 1028, 1035, 1038, 1051, 1055, 1063, 1069, 1070, 1075, 1078, 1088, 1111, 1116, 1120, 1123, 1130, 1143, 1146, 1148, 1150, 1153, 1161, 1174, 1176, 1177, 1183, 1203, 1213, 1226, 1234, 1310, 1324, 1327, 1350, 1353, 1359, 1412, 1434, 1463, 1484, 1494, 1520, 1536, 1559, 1574, 1700, 1723, 1793, 1812, 1838, 1849, 1858, 1869, 1872, 1894, 1918, 1921, 1923, 1939, 1942, 2033, 2061, 2102, 2108, 2115, 2117, 2146, 2172, 2181, 2200, 2207, 2239, 2277, 2284, 2415, 2468, 2494, 2498, 2503, 2505, 2506, 2511, 2513, 2522, 2528, 2533, 2539, 2540, 2541, 2542, 2546, 2547, 2549, 2562, 2570, 2573, 2576, 2577, 2585, 2592, 2593, 2619, 2631, 2633, 2670, 2695, 2796, 2824, 2866, 2896, 2900, 2919, 2930, 2938, 2939, 2970, 2973, 2994, 2999, 3205, 3455, 3491, 3617, 3704, 3753, 3873, 4014, 4263, 4375, 4499, 4514, 4562, 4581, 4602, 4693, 4696, 4697, 4719, 4857, 4941, 4956, 4976, 4994, 4999, 5049, 5052, 5060, 5088, 5094, 5096, 5141, 5217, 5250, 5253, 5276, 5281, 5316, 5326, 5651, 5779, 5781, 6036, 6133, 6147, 6201, 6293, 6297, 6299, 6307, 6771, 6790, 6796, 6803, 6813, 6816, 6852, 6853, 6908, 6970, 6990, 7068, 7088, 7100, 7515, 7517, 7531, 7634, 7638, 7673, 7721, 7848, 7873, 7888, 7899, 8052, 8106, 8110, 8182, 8217, 8247, 8330, 8402, 8403, 8405, 8482, 8535, 8544, 8735, 8781, 8791, 8885, 8906, 9132, 9206, 9250, 9354, 9389, 9412, 9456, 9826, 9868, 9965, 9966, 10473, 10753, 10777, 10942, 11020, 11033, 11044, 11196, 11217, 11242, 11554, 11657, 11741, 12290, 12291, 12292, 12293, 12294, 12295, 12296, 12297, 12298, 12299, 12300, 12301, 12302, 12303, 12304, 12305, 12306, 12307, 12308, 12309, 12310, 12311, 12312, 12313, 12314, 12315, 12316, 12317, 12318, 12319, 12320, 12321, 12322, 12323, 12324, 12325, 12326, 12327, 12328, 12329, 12330, 12331, 12332, 12333, 12334, 12335, 12336, 12337, 12338, 12339, 12340, 12341, 12543, 13217, 13245, 13344, 14387, 14900, 15273, 16737, 17384, 17808, 18577, 18721, 20298, 20719, 22414, 23037, 24648, 25764, 25768, 28984, 29975, 37202, 37470, 39510, 39557, 40078, 43443, 45418, 46107, 50835, 58325, 58334], '2057': [38, 169, 277, 331, 347, 362, 369, 576, 588, 672, 741, 745, 780, 893, 909, 979, 1090, 1208, 1240, 1340, 1381, 1534, 1537, 1761, 1815, 1876, 1952, 2110, 2111, 2265, 2269, 2281, 2497, 2537, 2572, 2580, 2761, 2791, 2829, 2858, 2872, 3086, 3160, 3161, 3162, 3177, 3185, 3269, 3274, 3576, 3585, 3588, 3627, 3703, 3712, 3813, 3875, 3942, 3943, 4252, 4273, 4299, 4300, 4401, 4448, 4487, 4616, 4639, 4852, 4921, 4951, 4987, 5010, 5150, 5225, 5267, 5279, 5308, 5315, 5464, 5499, 5500, 5565, 5573, 5633, 5636, 5654, 5906, 5917, 5927, 5958, 6051, 6141, 6311, 6317, 6333, 6547, 6659, 6664, 7363, 7571, 7604, 7754, 7825, 7831, 7842, 7850, 7951, 8141, 8171, 8227, 8496, 8518, 8759, 8895, 8896, 8938, 8996, 9172, 9279, 9488, 9512, 9567, 9570, 9738, 9841, 9854, 9996, 10041, 10256, 10332, 10339, 10457, 10467, 11163, 11320, 11628, 11728, 12280, 12430, 12771, 12793, 13036, 13075, 13097, 13371, 13632, 14243, 14428, 14463, 14613, 14685, 14742, 14835, 14858, 15011, 15212, 15364, 15370, 15753, 15765, 15790, 15858, 15932, 15934, 16221, 16405, 16430, 16633, 16719, 16788, 17038, 17141, 17462, 17510, 17594, 17715, 17769, 17792, 17841, 17957, 18370, 18731, 19111, 19639, 19651, 19687, 19883, 19987, 19996, 20273, 20600, 20654, 20816, 20915, 21251, 21299, 21730, 21947, 22069, 22306, 22318, 22434, 22611, 23028, 23217, 23276, 24017, 24034, 24167, 24168, 24233, 24294, 24699, 25366, 25584, 25734, 26114, 26335, 26651, 26937, 27021, 27474, 27601, 27814, 28085, 28269, 28543, 28725, 28785, 29076, 29124, 29347, 30150, 30601, 30732, 30801, 31374, 31390, 31491, 31792, 32454, 33177, 33230, 33718, 33784, 33984, 34001, 34059, 34264, 34778, 35062, 35096, 36520, 36682, 37153, 37197, 37723, 38696, 39151, 39916, 40769, 40839, 41559, 43054, 43361, 44474, 45086, 45151, 47944, 48094, 49756, 50643, 50819, 51835, 53071, 54150, 54534, 54535, 54683, 55077, 55240, 55271, 55547, 55879, 56931, 57121, 58072, 58142, 58695, 62512, 64098, 65637, 65730, 68990, 69252, 69473, 70437, 70600, 70732, 71625, 71941, 71990, 73650, 73651, 73652, 73654, 73655, 73656, 73659]}\n"
          ],
          "name": "stdout"
        }
      ]
    },
    {
      "cell_type": "markdown",
      "metadata": {
        "id": "NuWuEYUP-IGG"
      },
      "source": [
        "Function to calculate net values of the properties (degree centrality, strenght of ties, profile similarity, objective function value)."
      ]
    },
    {
      "cell_type": "code",
      "metadata": {
        "id": "fhtSwEwsCSdp"
      },
      "source": [
        "def get_net_values(social_circle, active_centers):\n",
        "  net_deg_cen_C = 0\n",
        "  net_deg_cen_R = 0\n",
        "  net_str_C = 0\n",
        "  net_str_R = 0\n",
        "  net_prof_sim_C = 0\n",
        "  net_prof_sim_R = 0\n",
        "  net_obj_val = 0\n",
        "\n",
        "  for active_center in social_circle:\n",
        "    circle = social_circle[active_center]\n",
        "    \n",
        "    residual =  residualArea(int(active_center), circle)     \n",
        "    \n",
        "    deg_cen_C = degreeCentrality(int(active_center),circle)\n",
        "    net_deg_cen_C += deg_cen_C\n",
        "    deg_cen_R = degreeCentrality(int(active_center),residual)\n",
        "    net_deg_cen_R += deg_cen_R \n",
        "    \n",
        "    prof_sim_C = 0\n",
        "    for c in circle:\n",
        "      prof_sim_C +=profSimilarity(c, int(active_center), active_centers)\n",
        "    prof_sim_C = prof_sim_C/len(circle)\n",
        "    net_prof_sim_C += prof_sim_C\n",
        "\n",
        "    prof_sim_R = 0\n",
        "    for r in residual:\n",
        "      prof_sim_R += profSimilarity(r, int(active_center), active_centers)\n",
        "    if len(residual) != 0:\n",
        "      prof_sim_R = prof_sim_R/len(residual)\n",
        "    net_prof_sim_R += prof_sim_R\n",
        "              \n",
        "    str_C = 0\n",
        "    for c in circle:\n",
        "      str_C += strengthOfTies(c, int(active_center))\n",
        "    str_C = str_C/len(circle)\n",
        "    net_str_C += str_C\n",
        "\n",
        "    str_R = 0\n",
        "    for r in residual:\n",
        "      str_R+= strengthOfTies(r, int(active_center))\n",
        "    if len(residual) != 0:\n",
        "      str_R = str_R/len(residual)\n",
        "    net_str_R += str_R\n",
        "    net_obj_val += deg_cen_C - deg_cen_R + prof_sim_C - prof_sim_R + str_C - str_R\n",
        "  \n",
        "  net_deg_cen_C /= K\n",
        "  net_deg_cen_R /= K\n",
        "  net_str_C /= K\n",
        "  net_str_R /= K\n",
        "  net_prof_sim_C /= K\n",
        "  net_prof_sim_R /= K\n",
        "  net_obj_val /= K\n",
        "\n",
        "  return net_deg_cen_C, net_deg_cen_R, net_str_C, net_str_R, net_prof_sim_C, net_prof_sim_R, net_obj_val"
      ],
      "execution_count": null,
      "outputs": []
    },
    {
      "cell_type": "markdown",
      "metadata": {
        "id": "HrCuIWaCDhyT"
      },
      "source": [
        "Getting net values for social circles without trust feature."
      ]
    },
    {
      "cell_type": "code",
      "metadata": {
        "id": "qZza2GbsDmkF",
        "colab": {
          "base_uri": "https://localhost:8080/"
        },
        "outputId": "f1f7300c-d174-4fec-f21c-3648b2a2e240"
      },
      "source": [
        "net_deg_cen_C, net_deg_cen_R, net_str_C, net_str_R, net_prof_sim_C, net_prof_sim_R, net_obj_val = get_net_values(sc_wo_trust, ac_wo_trust)\n",
        "print(\"Net Degree Centrality for circle without trust feature: \" + str(net_deg_cen_C))\n",
        "print(\"Net Degree Centrality for residual without trust feature: \" + str(net_deg_cen_R))\n",
        "print(\"Net Strength of ties for circle without trust feature: \" + str(net_str_C))\n",
        "print(\"Net Strength of ties for residual without trust feature: \" + str(net_str_R))\n",
        "print(\"Net Pofile similarity for circle without trust feature: \" + str(net_prof_sim_C))\n",
        "print(\"Net Pofile similarity for residual without trust feature: \" + str(net_prof_sim_R))\n",
        "print(\"Net Objective value without trust feature: \" + str(net_obj_val))"
      ],
      "execution_count": null,
      "outputs": [
        {
          "output_type": "stream",
          "text": [
            "Net Degree Centrality for circle without trust feature: 1.5\n",
            "Net Degree Centrality for residual without trust feature: 0.0\n",
            "Net Strength of ties for circle without trust feature: 0.044608441491614095\n",
            "Net Strength of ties for residual without trust feature: 0.0\n",
            "Net Pofile similarity for circle without trust feature: 0.05781251509061786\n",
            "Net Pofile similarity for residual without trust feature: 0.0\n",
            "Net Objective value without trust feature: 1.602420956582232\n"
          ],
          "name": "stdout"
        }
      ]
    },
    {
      "cell_type": "markdown",
      "metadata": {
        "id": "lQ5ph0yuZQLE"
      },
      "source": [
        "Getting locally optimum social circles by considering link/trust feature."
      ]
    },
    {
      "cell_type": "code",
      "metadata": {
        "id": "yXlkyyHJZTad",
        "colab": {
          "base_uri": "https://localhost:8080/"
        },
        "outputId": "10238de9-2026-4fcc-e3ba-8b29f848701d"
      },
      "source": [
        "ac_w_trust = run_local_optimum_ga(add_trust_ftr=True)\n",
        "print(\"Best Set of Active Centers with trust feature:\")\n",
        "print(ac_w_trust)\n",
        "print(\"Generating Social Circles.\")\n",
        "sc_w_trust = algorithm1(nodeIds, ac_w_trust)\n",
        "print(\"Social Circles with trust:\")\n",
        "print(sc_w_trust)"
      ],
      "execution_count": null,
      "outputs": [
        {
          "output_type": "stream",
          "text": [
            "Running local optimum Genetic Algorithm for best set of active centers.\n",
            "Current best fitness value:  1.386046322876472\n",
            "Current best set of Active Centers:\n",
            "[75474, 41699, 52844, 40741, 18143, 21830, 29678]\n",
            "Current best fitness value:  1.6346241825277488\n",
            "Current best set of Active Centers:\n",
            "[75474, 63168, 76186, 41677, 62668, 76935, 16687]\n",
            "Best Set of Active Centers with trust feature:\n",
            "[75474, 63168, 76186, 41677, 62668, 76935, 16687]\n",
            "Generating Social Circles.\n",
            "Social Circles with trust:\n",
            "{'75474': [58733, 75473, 78180], '63168': [19690, 50066, 78794], '76186': [1125, 5379], '41677': [35410], '62668': [34584, 39579], '76935': [7136], '16687': [4571, 13437, 35109]}\n"
          ],
          "name": "stdout"
        }
      ]
    },
    {
      "cell_type": "markdown",
      "metadata": {
        "id": "1u2lCaFPZszT"
      },
      "source": [
        "Getting net values for social circles with trust feature."
      ]
    },
    {
      "cell_type": "code",
      "metadata": {
        "id": "_uE-5LEuZud4",
        "colab": {
          "base_uri": "https://localhost:8080/"
        },
        "outputId": "166239eb-0c32-4c82-e55a-080cb0608f99"
      },
      "source": [
        "net_deg_cen_C_trust, net_deg_cen_R_trust, net_str_C_trust, net_str_R_trust, net_prof_sim_C_trust, net_prof_sim_R_trust, net_obj_val_trust = get_net_values(sc_w_trust, ac_w_trust)\n",
        "print(\"Net Degree Centrality for circle with trust feature: \" + str(net_deg_cen_C_trust))\n",
        "print(\"Net Degree Centrality for residual with trust feature: \" + str(net_deg_cen_R_trust))\n",
        "print(\"Net Strength of ties for circle with trust feature: \" + str(net_str_C_trust))\n",
        "print(\"Net Strength of ties for residual with trust feature: \" + str(net_str_R_trust))\n",
        "print(\"Net Pofile similarity for circle with trust feature: \" + str(net_prof_sim_C_trust))\n",
        "print(\"Net Pofile similarity for residual with trust feature: \" + str(net_prof_sim_R_trust))\n",
        "print(\"Net Objective value with trust feature: \" + str(net_obj_val_trust))"
      ],
      "execution_count": null,
      "outputs": [
        {
          "output_type": "stream",
          "text": [
            "Net Degree Centrality for circle with trust feature: 1.5\n",
            "Net Degree Centrality for residual with trust feature: 0.14285714285714285\n",
            "Net Strength of ties for circle with trust feature: 0.07312413559202613\n",
            "Net Strength of ties for residual with trust feature: 0.005291005291005291\n",
            "Net Pofile similarity for circle with trust feature: 0.05689017155358667\n",
            "Net Pofile similarity for residual with trust feature: 0.007475009443484601\n",
            "Net Objective value with trust feature: 1.47439114955398\n"
          ],
          "name": "stdout"
        }
      ]
    },
    {
      "cell_type": "markdown",
      "metadata": {
        "id": "OEc9UV4RNry-"
      },
      "source": [
        "Functions for measuring evaluation measures to assess goodness of clusters."
      ]
    },
    {
      "cell_type": "code",
      "metadata": {
        "id": "ioMLnSj_OGkZ"
      },
      "source": [
        "from sklearn import metrics\n",
        "from sklearn.metrics import pairwise_distances\n",
        "from sklearn import datasets\n",
        "import numpy as np\n",
        "from sklearn.cluster import KMeans\n",
        "\n",
        "def silhouetteCoefficient(X, labels):\n",
        "  return metrics.silhouette_score(X, labels, metric='euclidean')\n",
        "\n",
        "def calinskiHarabasz(X, labels):\n",
        "  return metrics.calinski_harabasz_score(X, labels)\n",
        "\n",
        "def daviesBouldin(X, labels):\n",
        "  return metrics.davies_bouldin_score(X, labels)\n"
      ],
      "execution_count": null,
      "outputs": []
    },
    {
      "cell_type": "markdown",
      "metadata": {
        "id": "_EpBg0z0xf-c"
      },
      "source": [
        "Preprocessing social circles data for comparison."
      ]
    },
    {
      "cell_type": "code",
      "metadata": {
        "id": "rHS16ceQxoM3"
      },
      "source": [
        "nodes_ftrs_wo_trust = []\n",
        "nodes_clstr_lbls_wo_trust = []\n",
        "\n",
        "for ac in sc_wo_trust:\n",
        "  members = sc_wo_trust[ac]\n",
        "  #extracting features\n",
        "  ac_features = node_features_df[node_features_df['nodeId'] == int(ac)][0:].values[0][1:]\n",
        "  nodes_ftrs_wo_trust.append(ac_features)\n",
        "  nodes_clstr_lbls_wo_trust.append(int(ac))\n",
        "  for member in members:\n",
        "    # extracting feature values for each member in social circle\n",
        "    node_ftrs = node_features_df[node_features_df['nodeId'] == member][0:].values[0][1:]\n",
        "    nodes_ftrs_wo_trust.append(node_ftrs)\n",
        "    nodes_clstr_lbls_wo_trust.append(int(ac))\n",
        "\n",
        "\n",
        "nodes_ftrs_w_trust = []\n",
        "nodes_clstr_lbls_w_trust = []\n",
        "\n",
        "for ac in sc_w_trust:\n",
        "  members = sc_w_trust[ac]\n",
        "  #extracting features\n",
        "  ac_features = list(node_features_df[node_features_df['nodeId'] == int(ac)][0:].values[0][1:])\n",
        "  nodes_ftrs_w_trust.append(ac_features)\n",
        "  nodes_clstr_lbls_w_trust.append(int(ac))\n",
        "  for member in members:\n",
        "    # extracting feature values for each member in social circle\n",
        "    node_ftrs = list(node_features_df[node_features_df['nodeId'] == member][0:].values[0][1:])\n",
        "    nodes_ftrs_w_trust.append(node_ftrs)\n",
        "    nodes_clstr_lbls_w_trust.append(int(ac))\n",
        "\n"
      ],
      "execution_count": null,
      "outputs": []
    },
    {
      "cell_type": "markdown",
      "metadata": {
        "id": "aXixEFKfOPv3"
      },
      "source": [
        "Comparing clusters formed with trust feature and without trust feature."
      ]
    },
    {
      "cell_type": "code",
      "metadata": {
        "colab": {
          "base_uri": "https://localhost:8080/"
        },
        "id": "tYKEXriDOePD",
        "outputId": "e5cc6860-d21b-4192-ec5e-20d3edc1eddb"
      },
      "source": [
        "print(\"Silhouette Coefficient Scores:\")\n",
        "print(\"With trust feature: \" + str(silhouetteCoefficient(nodes_ftrs_w_trust, nodes_clstr_lbls_w_trust)))\n",
        "print(\"Without trust feature: \" + str(silhouetteCoefficient(nodes_ftrs_wo_trust, nodes_clstr_lbls_wo_trust)))\n",
        "\n",
        "print(\"\\nCalinski Harabasz Scores:\")\n",
        "print(\"With trust feature: \" + str(calinskiHarabasz(nodes_ftrs_w_trust, nodes_clstr_lbls_w_trust)))\n",
        "print(\"Without trust feature: \" + str(calinskiHarabasz(nodes_ftrs_wo_trust, nodes_clstr_lbls_wo_trust)))\n",
        "\n",
        "print(\"\\nDavies Bouldin Scores:\")\n",
        "print(\"With trust feature: \" + str(daviesBouldin(nodes_ftrs_w_trust, nodes_clstr_lbls_w_trust)))\n",
        "print(\"Without trust feature: \" + str(daviesBouldin(nodes_ftrs_wo_trust, nodes_clstr_lbls_wo_trust)))"
      ],
      "execution_count": null,
      "outputs": [
        {
          "output_type": "stream",
          "text": [
            "Silhouette Coefficient Scores:\n",
            "With trust feature: -0.23055293809781804\n",
            "Without trust feature: -0.18052299652479942\n",
            "\n",
            "Calinski Harabasz Scores:\n",
            "With trust feature: 1.1261626835447638\n",
            "Without trust feature: 1.057123206881777\n",
            "\n",
            "Davies Bouldin Scores:\n",
            "With trust feature: 1.6691034253668084\n",
            "Without trust feature: 2.942068361538955\n"
          ],
          "name": "stdout"
        }
      ]
    }
  ]
}